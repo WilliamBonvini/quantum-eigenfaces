{
 "cells": [
  {
   "cell_type": "markdown",
   "id": "d7f49565",
   "metadata": {},
   "source": [
    "### Setup"
   ]
  },
  {
   "cell_type": "code",
   "execution_count": 1,
   "id": "b89bb0de",
   "metadata": {},
   "outputs": [],
   "source": [
    "import os\n",
    "os.chdir(\"../../quantum_eigenfaces/package/\")\n",
    "import IPython"
   ]
  },
  {
   "cell_type": "code",
   "execution_count": 2,
   "id": "094901b0",
   "metadata": {},
   "outputs": [
    {
     "data": {
      "application/javascript": [
       "IPython.OutputArea.prototype._should_scroll = function(lines) {\n",
       "    return false;\n",
       "}\n"
      ],
      "text/plain": [
       "<IPython.core.display.Javascript object>"
      ]
     },
     "metadata": {},
     "output_type": "display_data"
    }
   ],
   "source": [
    "%%javascript\n",
    "IPython.OutputArea.prototype._should_scroll = function(lines) {\n",
    "    return false;\n",
    "}"
   ]
  },
  {
   "cell_type": "code",
   "execution_count": 3,
   "id": "960d1581",
   "metadata": {},
   "outputs": [],
   "source": [
    "import glob\n",
    "import re\n",
    "import csv \n",
    "\n",
    "from tqdm import tqdm\n",
    "import numpy as np\n",
    "from PIL import Image\n",
    "import pandas as pd\n",
    "import matplotlib.pyplot as plt\n",
    "from sklearn.preprocessing import normalize\n",
    "from sklearn.decomposition import PCA\n",
    "from sklearn.model_selection import train_test_split\n",
    "from sklearn.datasets import fetch_openml\n",
    "\n",
    "from quantum_eigenfaces.epsilon_tuning import epsilon_tuning \n",
    "from quantum_eigenfaces.utils.utils import DataSplit, TrainingConfig, TuningConfig\n",
    "\n"
   ]
  },
  {
   "cell_type": "markdown",
   "id": "15712897",
   "metadata": {},
   "source": [
    "### Load MNIST Dataset"
   ]
  },
  {
   "cell_type": "code",
   "execution_count": 4,
   "id": "4bcd4998",
   "metadata": {},
   "outputs": [
    {
     "name": "stdout",
     "output_type": "stream",
     "text": [
      "Datapoints number: 70000\n",
      "Classes number: 10\n",
      "Training set: 0.7\n",
      "Validation set: 0.15\n",
      "Test set: 0.15\n"
     ]
    }
   ],
   "source": [
    "import joblib\n",
    "memory_mnist = joblib.Memory('./tmp_mnist')\n",
    "fetch_openml_cached_mnist = memory_mnist.cache(fetch_openml)\n",
    "\n",
    "X, y = fetch_openml_cached_mnist('mnist_784', version=1, return_X_y=True)  \n",
    "\n",
    "n_labels = len(set(y))\n",
    "\n",
    "train_val_test = [0.70,0.15,0.15]\n",
    "X_train, X_test, y_train, y_test = train_test_split(X, y, test_size=train_val_test[2], random_state=1)\n",
    "X_train, X_val, y_train, y_val = train_test_split(X_train, y_train, test_size=train_val_test[1]/(1-train_val_test[2]), random_state=1)\n",
    "\n",
    "tot = len(X_train) + len(X_val) + len(X_test) \n",
    "print(f\"Datapoints number: {tot}\")\n",
    "print(f\"Classes number: {n_labels}\")\n",
    "print(f\"Training set: {len(X_train)/tot}\")\n",
    "print(f\"Validation set: {len(X_val)/tot}\")\n",
    "print(f\"Test set: {len(X_test)/tot}\")\n",
    "\n",
    "\n",
    "X_train = X_train.to_numpy()\n",
    "X_valid = X_val.to_numpy()\n",
    "X_test = X_test.to_numpy()\n",
    "y_train = y_train.to_numpy().astype(int)\n",
    "y_valid = y_val.to_numpy().astype(int)\n",
    "y_test = y_test.to_numpy().astype(int)\n",
    "\n"
   ]
  },
  {
   "cell_type": "markdown",
   "id": "8c9787d3",
   "metadata": {},
   "source": [
    "### Load Outliers: Fashion MNIST"
   ]
  },
  {
   "cell_type": "code",
   "execution_count": 5,
   "id": "f5f02c33",
   "metadata": {},
   "outputs": [
    {
     "name": "stdout",
     "output_type": "stream",
     "text": [
      "________________________________________________________________________________\n",
      "[Memory] Calling sklearn.datasets._openml.fetch_openml...\n",
      "fetch_openml(data_id=40996, return_X_y=True)\n"
     ]
    },
    {
     "name": "stderr",
     "output_type": "stream",
     "text": [
      "/Users/chattershuts/Desktop/GitHub/quantum-eigenfaces/.venv/lib/python3.9/site-packages/sklearn/datasets/_openml.py:968: FutureWarning: The default value of `parser` will change from `'liac-arff'` to `'auto'` in 1.4. You can set `parser='auto'` to silence this warning. Therefore, an `ImportError` will be raised from 1.4 if the dataset is dense and pandas is not installed. Note that the pandas parser may return different data types. See the Notes Section in fetch_openml's API doc for details.\n",
      "  warn(\n"
     ]
    },
    {
     "name": "stdout",
     "output_type": "stream",
     "text": [
      "____________________________________________________fetch_openml - 24.3s, 0.4min\n",
      "Datapoints number: 70000\n",
      "Classes number: 10\n",
      "Training set: 0.8999857142857143\n",
      "Validation set: 0.05001428571428571\n",
      "Test set: 0.05\n"
     ]
    }
   ],
   "source": [
    "\n",
    "import joblib\n",
    "memory = joblib.Memory('./tmp')\n",
    "fetch_openml_cached = memory.cache(fetch_openml)\n",
    "\n",
    "X, y = fetch_openml_cached(data_id=40996, return_X_y=True) # Fashion MNIST\n",
    "\n",
    "\n",
    "n_labels = len(set(y))\n",
    "\n",
    "train_val_test = [0.70,0.05,0.05]\n",
    "X_train2, X_test2, y_train2, y_test2 = train_test_split(X, y, test_size=train_val_test[2], random_state=1)\n",
    "X_train2, X_val2, y_train2, y_val2 = train_test_split(X_train2, y_train2, test_size=train_val_test[1]/(1-train_val_test[2]), random_state=1)\n",
    "\n",
    "\n",
    "\n",
    "tot = len(X_train2) + len(X_val2) + len(X_test2) \n",
    "print(f\"Datapoints number: {tot}\")\n",
    "print(f\"Classes number: {n_labels}\")\n",
    "print(f\"Training set: {len(X_train2)/tot}\")\n",
    "print(f\"Validation set: {len(X_val2)/tot}\")\n",
    "print(f\"Test set: {len(X_test2)/tot}\")\n"
   ]
  },
  {
   "cell_type": "markdown",
   "id": "fe08f1c8",
   "metadata": {},
   "source": [
    "### Combine datasets and show split shapes"
   ]
  },
  {
   "cell_type": "code",
   "execution_count": 6,
   "id": "58dfbb73",
   "metadata": {},
   "outputs": [],
   "source": [
    "\n",
    "X_valid_wa = np.concatenate([X_valid, X_val2.to_numpy()])\n",
    "y_valid_wa = np.concatenate([[int(y) for y in y_valid], [-1 for _ in range(len(X_val2))]])\n",
    "X_test_wa = np.concatenate([X_test, X_test2.to_numpy()])\n",
    "y_test_wa = np.concatenate([[int(y) for y in y_test], [-1 for _ in range(len(X_test2))]])\n",
    "\n"
   ]
  },
  {
   "cell_type": "markdown",
   "id": "8dbc724d",
   "metadata": {},
   "source": [
    "### Normalization"
   ]
  },
  {
   "cell_type": "code",
   "execution_count": 7,
   "id": "7e45d859",
   "metadata": {},
   "outputs": [],
   "source": [
    "X_train_n = X_train / 255\n",
    "X_valid_n = X_valid / 255\n",
    "X_valid_wa_n = X_valid_wa / 255\n",
    "X_test_n = X_test / 255\n",
    "X_test_wa_n = X_test_wa / 255"
   ]
  },
  {
   "cell_type": "code",
   "execution_count": 8,
   "id": "42ff6f11",
   "metadata": {},
   "outputs": [
    {
     "name": "stdout",
     "output_type": "stream",
     "text": [
      "X_train_n:    (49000, 784)\n",
      "y_train:      (49000,)\n",
      "------------------------\n",
      "X_valid_n:    (10500, 784)\n",
      "y_valid:      (10500,)\n",
      "X_valid_wa_n: (14001, 784)\n",
      "y_valid_wa:   (14001,)\n",
      "------------------------\n",
      "X_test_n:     (10500, 784)\n",
      "y_test:       (10500,)\n",
      "X_test_wa_n:  (14000, 784)\n",
      "y_test_wa:    (14000,)\n"
     ]
    }
   ],
   "source": [
    "print(f\"X_train_n:    {X_train.shape}\")\n",
    "print(f\"y_train:      {y_train.shape}\")\n",
    "print(\"------------------------\")\n",
    "print(f\"X_valid_n:    {X_valid.shape}\")\n",
    "print(f\"y_valid:      {y_valid.shape}\")\n",
    "print(f\"X_valid_wa_n: {X_valid_wa.shape}\")\n",
    "print(f\"y_valid_wa:   {y_valid_wa.shape}\")\n",
    "print(\"------------------------\")\n",
    "print(f\"X_test_n:     {X_test.shape}\")\n",
    "print(f\"y_test:       {y_test.shape}\")\n",
    "print(f\"X_test_wa_n:  {X_test_wa.shape}\")\n",
    "print(f\"y_test_wa:    {y_test_wa.shape}\")"
   ]
  },
  {
   "cell_type": "markdown",
   "id": "6ea35b9a",
   "metadata": {},
   "source": [
    "### Formalize dataset splits and fitting configurations"
   ]
  },
  {
   "cell_type": "code",
   "execution_count": 9,
   "id": "c2bcf5e7",
   "metadata": {},
   "outputs": [],
   "source": [
    "\n",
    "datasplit_without_outliers = DataSplit(X_train=X_train_n, \n",
    "                                       y_train=y_train, \n",
    "                                       X_valid=X_valid_n, \n",
    "                                       y_valid=y_valid, \n",
    "                                       X_test=X_test_n, \n",
    "                                       y_test=y_test)\n",
    "\n",
    "datasplit_with_outliers = DataSplit(X_train=X_train_n, \n",
    "                                    y_train=y_train, \n",
    "                                    X_valid=X_valid_wa_n, \n",
    "                                    y_valid=y_valid_wa, \n",
    "                                    X_test=X_test_wa_n, \n",
    "                                    y_test=y_test_wa)\n",
    "\n",
    "training_config = TrainingConfig(n_components=60)\n",
    "tuning_config = TuningConfig(tot_num_of_deltas=1600)\n",
    "\n"
   ]
  },
  {
   "cell_type": "markdown",
   "id": "00d25fb8",
   "metadata": {},
   "source": [
    "### Delta Tuning"
   ]
  },
  {
   "cell_type": "code",
   "execution_count": 10,
   "id": "146186a9",
   "metadata": {
    "scrolled": true
   },
   "outputs": [
    {
     "name": "stdout",
     "output_type": "stream",
     "text": [
      "Normalization Threshold is: 0.74854\n"
     ]
    }
   ],
   "source": [
    "from quantum_eigenfaces.quantum_model import QuantumModel\n",
    "qm = QuantumModel(X_train=X_train_n,\n",
    "                  y_train=y_train,\n",
    "                  X_valid=X_valid_wa_n,\n",
    "                  y_valid=y_valid_wa,\n",
    "                  X_test=X_test_wa_n,\n",
    "                  y_test=y_test_wa,\n",
    "                  reshaper=(28, 28),\n",
    "                  tot_num_of_deltas=1600\n",
    "                  )\n",
    "qm._training(n_components=60)\n"
   ]
  },
  {
   "cell_type": "code",
   "execution_count": 11,
   "id": "7d19c96f",
   "metadata": {},
   "outputs": [
    {
     "name": "stdout",
     "output_type": "stream",
     "text": [
      "Min delta:  0.24308063316243006 ; Max delta:  62.31349514634041\n"
     ]
    },
    {
     "name": "stderr",
     "output_type": "stream",
     "text": [
      "tuning delta1...: 100%|█████████████████████| 1600/1600 [08:09<00:00,  3.27it/s]"
     ]
    },
    {
     "name": "stdout",
     "output_type": "stream",
     "text": [
      "Chosen delta1: 22.08410773998692\n"
     ]
    },
    {
     "name": "stderr",
     "output_type": "stream",
     "text": [
      "\n"
     ]
    }
   ],
   "source": [
    "tuning_performance = qm._tuning(show_plot=False)\n"
   ]
  },
  {
   "cell_type": "code",
   "execution_count": 12,
   "id": "f49143e6",
   "metadata": {},
   "outputs": [],
   "source": [
    "filename = \"MNIST_tuning_performance.parquet\"\n",
    "tuning_performance.to_parquet(filename)"
   ]
  },
  {
   "cell_type": "code",
   "execution_count": 13,
   "id": "b805a71d",
   "metadata": {},
   "outputs": [],
   "source": [
    "tuning_performance__ = pd.read_parquet(filename)"
   ]
  },
  {
   "cell_type": "code",
   "execution_count": 14,
   "id": "e98fda88",
   "metadata": {},
   "outputs": [
    {
     "data": {
      "text/html": [
       "<div>\n",
       "<style scoped>\n",
       "    .dataframe tbody tr th:only-of-type {\n",
       "        vertical-align: middle;\n",
       "    }\n",
       "\n",
       "    .dataframe tbody tr th {\n",
       "        vertical-align: top;\n",
       "    }\n",
       "\n",
       "    .dataframe thead th {\n",
       "        text-align: right;\n",
       "    }\n",
       "</style>\n",
       "<table border=\"1\" class=\"dataframe\">\n",
       "  <thead>\n",
       "    <tr style=\"text-align: right;\">\n",
       "      <th></th>\n",
       "      <th>Delta</th>\n",
       "      <th>Accuracy</th>\n",
       "      <th>False Acceptance Rate</th>\n",
       "      <th>False Recognition Rate</th>\n",
       "      <th>Precision</th>\n",
       "      <th>Recall</th>\n",
       "      <th>F1-Score</th>\n",
       "    </tr>\n",
       "  </thead>\n",
       "  <tbody>\n",
       "    <tr>\n",
       "      <th>0</th>\n",
       "      <td>0.243081</td>\n",
       "      <td>0.250125</td>\n",
       "      <td>0.000000</td>\n",
       "      <td>0.749875</td>\n",
       "      <td>0.250071</td>\n",
       "      <td>1.000000</td>\n",
       "      <td>0.400091</td>\n",
       "    </tr>\n",
       "    <tr>\n",
       "      <th>1</th>\n",
       "      <td>0.281875</td>\n",
       "      <td>0.250196</td>\n",
       "      <td>0.000000</td>\n",
       "      <td>0.749804</td>\n",
       "      <td>0.250089</td>\n",
       "      <td>1.000000</td>\n",
       "      <td>0.400114</td>\n",
       "    </tr>\n",
       "    <tr>\n",
       "      <th>2</th>\n",
       "      <td>0.320669</td>\n",
       "      <td>0.250482</td>\n",
       "      <td>0.000000</td>\n",
       "      <td>0.749518</td>\n",
       "      <td>0.250161</td>\n",
       "      <td>1.000000</td>\n",
       "      <td>0.400206</td>\n",
       "    </tr>\n",
       "    <tr>\n",
       "      <th>3</th>\n",
       "      <td>0.359463</td>\n",
       "      <td>0.251125</td>\n",
       "      <td>0.000000</td>\n",
       "      <td>0.748875</td>\n",
       "      <td>0.250322</td>\n",
       "      <td>1.000000</td>\n",
       "      <td>0.400412</td>\n",
       "    </tr>\n",
       "    <tr>\n",
       "      <th>4</th>\n",
       "      <td>0.398257</td>\n",
       "      <td>0.251553</td>\n",
       "      <td>0.000000</td>\n",
       "      <td>0.748447</td>\n",
       "      <td>0.250429</td>\n",
       "      <td>1.000000</td>\n",
       "      <td>0.400549</td>\n",
       "    </tr>\n",
       "    <tr>\n",
       "      <th>...</th>\n",
       "      <td>...</td>\n",
       "      <td>...</td>\n",
       "      <td>...</td>\n",
       "      <td>...</td>\n",
       "      <td>...</td>\n",
       "      <td>...</td>\n",
       "      <td>...</td>\n",
       "    </tr>\n",
       "    <tr>\n",
       "      <th>1595</th>\n",
       "      <td>62.119525</td>\n",
       "      <td>0.731591</td>\n",
       "      <td>0.249982</td>\n",
       "      <td>0.000000</td>\n",
       "      <td>1.000000</td>\n",
       "      <td>0.000286</td>\n",
       "      <td>0.000571</td>\n",
       "    </tr>\n",
       "    <tr>\n",
       "      <th>1596</th>\n",
       "      <td>62.158319</td>\n",
       "      <td>0.731591</td>\n",
       "      <td>0.249982</td>\n",
       "      <td>0.000000</td>\n",
       "      <td>1.000000</td>\n",
       "      <td>0.000286</td>\n",
       "      <td>0.000571</td>\n",
       "    </tr>\n",
       "    <tr>\n",
       "      <th>1597</th>\n",
       "      <td>62.197113</td>\n",
       "      <td>0.731591</td>\n",
       "      <td>0.249982</td>\n",
       "      <td>0.000000</td>\n",
       "      <td>1.000000</td>\n",
       "      <td>0.000286</td>\n",
       "      <td>0.000571</td>\n",
       "    </tr>\n",
       "    <tr>\n",
       "      <th>1598</th>\n",
       "      <td>62.235907</td>\n",
       "      <td>0.731591</td>\n",
       "      <td>0.249982</td>\n",
       "      <td>0.000000</td>\n",
       "      <td>1.000000</td>\n",
       "      <td>0.000286</td>\n",
       "      <td>0.000571</td>\n",
       "    </tr>\n",
       "    <tr>\n",
       "      <th>1599</th>\n",
       "      <td>62.274701</td>\n",
       "      <td>0.731591</td>\n",
       "      <td>0.249982</td>\n",
       "      <td>0.000000</td>\n",
       "      <td>1.000000</td>\n",
       "      <td>0.000286</td>\n",
       "      <td>0.000571</td>\n",
       "    </tr>\n",
       "  </tbody>\n",
       "</table>\n",
       "<p>1600 rows × 7 columns</p>\n",
       "</div>"
      ],
      "text/plain": [
       "          Delta  Accuracy  False Acceptance Rate  False Recognition Rate  \\\n",
       "0      0.243081  0.250125               0.000000                0.749875   \n",
       "1      0.281875  0.250196               0.000000                0.749804   \n",
       "2      0.320669  0.250482               0.000000                0.749518   \n",
       "3      0.359463  0.251125               0.000000                0.748875   \n",
       "4      0.398257  0.251553               0.000000                0.748447   \n",
       "...         ...       ...                    ...                     ...   \n",
       "1595  62.119525  0.731591               0.249982                0.000000   \n",
       "1596  62.158319  0.731591               0.249982                0.000000   \n",
       "1597  62.197113  0.731591               0.249982                0.000000   \n",
       "1598  62.235907  0.731591               0.249982                0.000000   \n",
       "1599  62.274701  0.731591               0.249982                0.000000   \n",
       "\n",
       "      Precision    Recall  F1-Score  \n",
       "0      0.250071  1.000000  0.400091  \n",
       "1      0.250089  1.000000  0.400114  \n",
       "2      0.250161  1.000000  0.400206  \n",
       "3      0.250322  1.000000  0.400412  \n",
       "4      0.250429  1.000000  0.400549  \n",
       "...         ...       ...       ...  \n",
       "1595   1.000000  0.000286  0.000571  \n",
       "1596   1.000000  0.000286  0.000571  \n",
       "1597   1.000000  0.000286  0.000571  \n",
       "1598   1.000000  0.000286  0.000571  \n",
       "1599   1.000000  0.000286  0.000571  \n",
       "\n",
       "[1600 rows x 7 columns]"
      ]
     },
     "execution_count": 14,
     "metadata": {},
     "output_type": "execute_result"
    }
   ],
   "source": [
    "tuning_performance__"
   ]
  },
  {
   "cell_type": "code",
   "execution_count": 57,
   "id": "2d294750",
   "metadata": {},
   "outputs": [],
   "source": [
    "from typing import Union\n",
    "import matplotlib\n",
    "\n",
    "def plot_metrics(metrics: pd.DataFrame, chosen_delta1: float, show: bool = True,\n",
    "                 file_path: Union[str, None] = None, save: bool = True) -> None:\n",
    "    fontsize = 28\n",
    "    legend_fontsize = 24\n",
    "    \n",
    "    delta1s = metrics[\"Delta\"]\n",
    "\n",
    "    # Set the figure size\n",
    "    matplotlib.rcParams.update({'font.size': fontsize - 5})\n",
    "    plt.figure(figsize=(15, 5))\n",
    "\n",
    "    # First graph\n",
    "    plt.subplot(1, 3, 1)\n",
    "    plt.plot(delta1s, metrics[\"Accuracy\"], label='Accuracy')\n",
    "    plt.axvline(x=chosen_delta1, c=\"red\")\n",
    "    plt.legend(fontsize=legend_fontsize - 8)\n",
    "    plt.xlabel('$\\delta$', fontsize=fontsize - 5)\n",
    "    plt.ylabel('Metrics', fontsize=fontsize - 5)\n",
    "    plt.grid(True)\n",
    "\n",
    "    # Second graph\n",
    "    f = plt.subplot(1, 3, 2)\n",
    "    plt.plot(delta1s, metrics[\"F1-Score\"], label='F1 Score')\n",
    "    plt.plot(delta1s, metrics[\"Precision\"], label='Precision')\n",
    "    plt.plot(delta1s, metrics[\"Recall\"], label='Recall')\n",
    "    plt.axvline(x=chosen_delta1, c=\"red\")\n",
    "    plt.legend(fontsize=legend_fontsize - 8, loc = \"lower right\")\n",
    "    plt.xlabel('$\\delta$', fontsize=fontsize - 5)\n",
    "    plt.ylabel('Metrics', fontsize=fontsize - 5)\n",
    "    plt.grid(True)\n",
    "\n",
    "    # Third graph\n",
    "    plt.subplot(1, 3, 3)\n",
    "    plt.plot(delta1s, metrics[\"False Acceptance Rate\"], label='FAR')\n",
    "    plt.plot(delta1s, metrics[\"False Recognition Rate\"], label='FRR')\n",
    "    plt.axvline(x=chosen_delta1, c=\"red\")\n",
    "    plt.legend(fontsize=legend_fontsize - 8)\n",
    "    plt.xlabel('$\\delta$', fontsize=fontsize - 5)\n",
    "    plt.ylabel('Metrics', fontsize=fontsize - 5)\n",
    "    plt.grid(True)\n",
    "    plt.subplots_adjust(wspace=0.4)\n",
    "\n",
    "    if show:\n",
    "        plt.show()\n",
    "\n",
    "    if save:\n",
    "        matplotlib.rcParams.update({'font.size': fontsize})\n",
    "\n",
    "        figsize = (6, 8)\n",
    "        plt.clf()\n",
    "\n",
    "        plt.figure(figsize=figsize)\n",
    "        plt.plot(delta1s, metrics[\"Accuracy\"], label='Accuracy')\n",
    "        plt.axvline(x=chosen_delta1, c=\"red\")\n",
    "        plt.legend(fontsize=legend_fontsize)\n",
    "        plt.xlabel('$\\delta$', fontsize=fontsize)\n",
    "        plt.ylabel('Metrics', fontsize=fontsize)\n",
    "        plt.grid(True)\n",
    "        filename = 'DELTA_acc.pdf'\n",
    "        plt.savefig(filename, bbox_inches='tight')\n",
    "        print(f\"Saved plot at {filename}\")\n",
    "\n",
    "        plt.clf()\n",
    "        plt.figure(figsize=figsize)\n",
    "        plt.plot(delta1s, metrics[\"F1-Score\"], label='F1 Score')\n",
    "        plt.plot(delta1s, metrics[\"Precision\"], label='Precision')\n",
    "        plt.plot(delta1s, metrics[\"Recall\"], label='Recall')\n",
    "        plt.axvline(x=chosen_delta1, c=\"red\")\n",
    "        plt.legend(fontsize=legend_fontsize, loc=\"lower right\")\n",
    "        plt.xlabel('$\\delta$', fontsize=fontsize)\n",
    "        plt.ylabel('Metrics', fontsize=fontsize)\n",
    "        plt.grid(True)\n",
    "        filename = \"DELTA_pre_rec_and_f1.pdf\"\n",
    "        plt.savefig(filename, bbox_inches='tight')\n",
    "        print(f\"Saved plot at {filename}\")\n",
    "\n",
    "        plt.clf()\n",
    "        plt.figure(figsize=figsize)\n",
    "        plt.plot(delta1s, metrics[\"False Acceptance Rate\"], label='FAR')\n",
    "        plt.plot(delta1s, metrics[\"False Recognition Rate\"], label='FRR')\n",
    "        plt.axvline(x=chosen_delta1, c=\"red\")\n",
    "        plt.legend(fontsize=legend_fontsize)\n",
    "        plt.xlabel('$\\delta$', fontsize=fontsize)\n",
    "        plt.ylabel('Metrics', fontsize=fontsize)\n",
    "        plt.grid(True)\n",
    "        filename = 'DELTA_far_and_frr.pdf'\n",
    "        plt.savefig(filename, bbox_inches='tight')\n",
    "        print(f\"Saved plot at {filename}\")\n",
    "        plt.clf()\n",
    "\n",
    "\n",
    "    if file_path is not None:\n",
    "        plt.savefig(file_path, bbox_inches='tight')\n"
   ]
  },
  {
   "cell_type": "code",
   "execution_count": 58,
   "id": "f9596fd7",
   "metadata": {},
   "outputs": [
    {
     "data": {
      "image/png": "[encoded data removed]",
      "text/plain": [
       "<Figure size 1500x500 with 3 Axes>"
      ]
     },
     "metadata": {},
     "output_type": "display_data"
    },
    {
     "name": "stdout",
     "output_type": "stream",
     "text": [
      "Saved plot at DELTA_acc.pdf\n",
      "Saved plot at DELTA_pre_rec_and_f1.pdf\n",
      "Saved plot at DELTA_far_and_frr.pdf\n"
     ]
    },
    {
     "data": {
      "text/plain": [
       "<Figure size 640x480 with 0 Axes>"
      ]
     },
     "metadata": {},
     "output_type": "display_data"
    },
    {
     "data": {
      "text/plain": [
       "<Figure size 600x800 with 0 Axes>"
      ]
     },
     "metadata": {},
     "output_type": "display_data"
    },
    {
     "data": {
      "text/plain": [
       "<Figure size 600x800 with 0 Axes>"
      ]
     },
     "metadata": {},
     "output_type": "display_data"
    },
    {
     "data": {
      "text/plain": [
       "<Figure size 600x800 with 0 Axes>"
      ]
     },
     "metadata": {},
     "output_type": "display_data"
    }
   ],
   "source": [
    " plot_metrics(metrics=tuning_performance,\n",
    "             chosen_delta1=qm.chosen_delta1 - 1)"
   ]
  },
  {
   "cell_type": "code",
   "execution_count": null,
   "id": "49ddb561",
   "metadata": {},
   "outputs": [],
   "source": []
  },
  {
   "cell_type": "code",
   "execution_count": null,
   "id": "bbe99567",
   "metadata": {},
   "outputs": [],
   "source": []
  }
 ],
 "metadata": {
  "kernelspec": {
   "display_name": "QuantumEigenfaces",
   "language": "python",
   "name": "quantumeigenfaces"
  },
  "language_info": {
   "codemirror_mode": {
    "name": "ipython",
    "version": 3
   },
   "file_extension": ".py",
   "mimetype": "text/x-python",
   "name": "python",
   "nbconvert_exporter": "python",
   "pygments_lexer": "ipython3",
   "version": "3.9.16"
  }
 },
 "nbformat": 4,
 "nbformat_minor": 5
}
