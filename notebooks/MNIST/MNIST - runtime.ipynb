{
 "cells": [
  {
   "cell_type": "markdown",
   "id": "23ffa1dd",
   "metadata": {},
   "source": [
    "# Comparison between classical and quantum running times for MNIST experiment"
   ]
  },
  {
   "cell_type": "markdown",
   "id": "d7f49565",
   "metadata": {},
   "source": [
    "### Setup"
   ]
  },
  {
   "cell_type": "code",
   "execution_count": 1,
   "id": "b89bb0de",
   "metadata": {},
   "outputs": [],
   "source": [
    "import os\n",
    "os.chdir(\"../../quantum_eigenfaces/package/\")\n",
    "import IPython"
   ]
  },
  {
   "cell_type": "code",
   "execution_count": 2,
   "id": "094901b0",
   "metadata": {},
   "outputs": [
    {
     "data": {
      "application/javascript": [
       "IPython.OutputArea.prototype._should_scroll = function(lines) {\n",
       "    return false;\n",
       "}\n"
      ],
      "text/plain": [
       "<IPython.core.display.Javascript object>"
      ]
     },
     "metadata": {},
     "output_type": "display_data"
    }
   ],
   "source": [
    "%%javascript\n",
    "IPython.OutputArea.prototype._should_scroll = function(lines) {\n",
    "    return false;\n",
    "}"
   ]
  },
  {
   "cell_type": "code",
   "execution_count": 3,
   "id": "960d1581",
   "metadata": {},
   "outputs": [],
   "source": [
    "import glob\n",
    "import re\n",
    "import csv \n",
    "\n",
    "from tqdm import tqdm\n",
    "import numpy as np\n",
    "from PIL import Image\n",
    "import pandas as pd\n",
    "import matplotlib.pyplot as plt\n",
    "from sklearn.preprocessing import normalize\n",
    "from sklearn.decomposition import PCA\n",
    "from sklearn.model_selection import train_test_split\n",
    "from sklearn.datasets import fetch_openml\n",
    "\n",
    "from quantum_eigenfaces.epsilon_tuning import epsilon_tuning \n",
    "from quantum_eigenfaces.utils.utils import DataSplit, TrainingConfig, TuningConfig\n",
    "\n"
   ]
  },
  {
   "cell_type": "markdown",
   "id": "15712897",
   "metadata": {},
   "source": [
    "### Load MNIST Dataset"
   ]
  },
  {
   "cell_type": "code",
   "execution_count": 4,
   "id": "4bcd4998",
   "metadata": {},
   "outputs": [
    {
     "name": "stdout",
     "output_type": "stream",
     "text": [
      "Datapoints number: 70000\n",
      "Classes number: 10\n",
      "Training set: 0.7\n",
      "Validation set: 0.15\n",
      "Test set: 0.15\n"
     ]
    }
   ],
   "source": [
    "import joblib\n",
    "memory_mnist = joblib.Memory('./tmp_mnist')\n",
    "fetch_openml_cached_mnist = memory_mnist.cache(fetch_openml)\n",
    "\n",
    "X, y = fetch_openml_cached_mnist('mnist_784', version=1, return_X_y=True)  \n",
    "\n",
    "n_labels = len(set(y))\n",
    "\n",
    "train_val_test = [0.70,0.15,0.15]\n",
    "X_train, X_test, y_train, y_test = train_test_split(X, y, test_size=train_val_test[2], random_state=1)\n",
    "X_train, X_val, y_train, y_val = train_test_split(X_train, y_train, test_size=train_val_test[1]/(1-train_val_test[2]), random_state=1)\n",
    "\n",
    "tot = len(X_train) + len(X_val) + len(X_test) \n",
    "print(f\"Datapoints number: {tot}\")\n",
    "print(f\"Classes number: {n_labels}\")\n",
    "print(f\"Training set: {len(X_train)/tot}\")\n",
    "print(f\"Validation set: {len(X_val)/tot}\")\n",
    "print(f\"Test set: {len(X_test)/tot}\")\n",
    "\n",
    "\n",
    "X_train = X_train.to_numpy()\n",
    "X_valid = X_val.to_numpy()\n",
    "X_test = X_test.to_numpy()\n",
    "y_train = y_train.to_numpy().astype(int)\n",
    "y_valid = y_val.to_numpy().astype(int)\n",
    "y_test = y_test.to_numpy().astype(int)\n",
    "\n"
   ]
  },
  {
   "cell_type": "markdown",
   "id": "8c9787d3",
   "metadata": {},
   "source": [
    "### Load Outliers: Fashion MNIST"
   ]
  },
  {
   "cell_type": "code",
   "execution_count": 5,
   "id": "f5f02c33",
   "metadata": {},
   "outputs": [
    {
     "name": "stdout",
     "output_type": "stream",
     "text": [
      "Datapoints number: 70000\n",
      "Classes number: 10\n",
      "Training set: 0.8999857142857143\n",
      "Validation set: 0.05001428571428571\n",
      "Test set: 0.05\n"
     ]
    }
   ],
   "source": [
    "import joblib\n",
    "memory = joblib.Memory('./tmp')\n",
    "fetch_openml_cached = memory.cache(fetch_openml)\n",
    "\n",
    "X, y = fetch_openml_cached(data_id=40996, return_X_y=True) # Fashion MNIST\n",
    "\n",
    "n_labels = len(set(y))\n",
    "\n",
    "train_val_test = [0.70,0.05,0.05]\n",
    "X_train2, X_test2, y_train2, y_test2 = train_test_split(X, y, test_size=train_val_test[2], random_state=1)\n",
    "X_train2, X_val2, y_train2, y_val2 = train_test_split(X_train2, y_train2, test_size=train_val_test[1]/(1-train_val_test[2]), random_state=1)\n",
    "\n",
    "\n",
    "tot = len(X_train2) + len(X_val2) + len(X_test2) \n",
    "print(f\"Datapoints number: {tot}\")\n",
    "print(f\"Classes number: {n_labels}\")\n",
    "print(f\"Training set: {len(X_train2)/tot}\")\n",
    "print(f\"Validation set: {len(X_val2)/tot}\")\n",
    "print(f\"Test set: {len(X_test2)/tot}\")\n"
   ]
  },
  {
   "cell_type": "markdown",
   "id": "fe08f1c8",
   "metadata": {},
   "source": [
    "### Combine datasets"
   ]
  },
  {
   "cell_type": "code",
   "execution_count": 6,
   "id": "58dfbb73",
   "metadata": {},
   "outputs": [],
   "source": [
    "\n",
    "X_valid_wa = np.concatenate([X_valid, X_val2.to_numpy()])\n",
    "y_valid_wa = np.concatenate([[int(y) for y in y_valid], [-1 for _ in range(len(X_val2))]])\n",
    "X_test_wa = np.concatenate([X_test, X_test2.to_numpy()])\n",
    "y_test_wa = np.concatenate([[int(y) for y in y_test], [-1 for _ in range(len(X_test2))]])\n",
    "\n"
   ]
  },
  {
   "cell_type": "markdown",
   "id": "8dbc724d",
   "metadata": {},
   "source": [
    "### Normalization"
   ]
  },
  {
   "cell_type": "code",
   "execution_count": 7,
   "id": "7e45d859",
   "metadata": {},
   "outputs": [],
   "source": [
    "X_train_n = X_train / 255\n",
    "X_valid_n = X_valid / 255\n",
    "X_valid_wa_n = X_valid_wa / 255\n",
    "X_test_n = X_test / 255\n",
    "X_test_wa_n = X_test_wa / 255"
   ]
  },
  {
   "cell_type": "code",
   "execution_count": 8,
   "id": "42ff6f11",
   "metadata": {},
   "outputs": [
    {
     "name": "stdout",
     "output_type": "stream",
     "text": [
      "X_train_n:    (49000, 784)\n",
      "y_train:      (49000,)\n",
      "------------------------\n",
      "X_valid_n:    (10500, 784)\n",
      "y_valid:      (10500,)\n",
      "X_valid_wa_n: (14001, 784)\n",
      "y_valid_wa:   (14001,)\n",
      "------------------------\n",
      "X_test_n:     (10500, 784)\n",
      "y_test:       (10500,)\n",
      "X_test_wa_n:  (14000, 784)\n",
      "y_test_wa:    (14000,)\n"
     ]
    }
   ],
   "source": [
    "print(f\"X_train_n:    {X_train.shape}\")\n",
    "print(f\"y_train:      {y_train.shape}\")\n",
    "print(\"------------------------\")\n",
    "print(f\"X_valid_n:    {X_valid.shape}\")\n",
    "print(f\"y_valid:      {y_valid.shape}\")\n",
    "print(f\"X_valid_wa_n: {X_valid_wa.shape}\")\n",
    "print(f\"y_valid_wa:   {y_valid_wa.shape}\")\n",
    "print(\"------------------------\")\n",
    "print(f\"X_test_n:     {X_test.shape}\")\n",
    "print(f\"y_test:       {y_test.shape}\")\n",
    "print(f\"X_test_wa_n:  {X_test_wa.shape}\")\n",
    "print(f\"y_test_wa:    {y_test_wa.shape}\")"
   ]
  },
  {
   "cell_type": "markdown",
   "id": "6ea35b9a",
   "metadata": {},
   "source": [
    "### Formalize dataset splits and fitting configurations"
   ]
  },
  {
   "cell_type": "code",
   "execution_count": 9,
   "id": "c2bcf5e7",
   "metadata": {},
   "outputs": [],
   "source": [
    "\n",
    "datasplit_without_outliers = DataSplit(X_train=X_train_n, \n",
    "                                        y_train=y_train, \n",
    "                                        X_valid=X_valid_n, \n",
    "                                        y_valid=y_valid, \n",
    "                                        X_test=X_test_n, \n",
    "                                        y_test=y_test)\n",
    "\n",
    "datasplit_with_outliers = DataSplit(X_train=X_train_n, \n",
    "                                    y_train=y_train, \n",
    "                                    X_valid=X_valid_wa_n, \n",
    "                                    y_valid=y_valid_wa, \n",
    "                                    X_test=X_test_wa_n, \n",
    "                                    y_test=y_test_wa)\n",
    "\n",
    "training_config = TrainingConfig(n_components=60)\n",
    "tuning_config = TuningConfig(tot_num_of_deltas=1600)\n",
    "\n"
   ]
  },
  {
   "cell_type": "markdown",
   "id": "79beb880",
   "metadata": {},
   "source": [
    "## Fit model"
   ]
  },
  {
   "cell_type": "code",
   "execution_count": 17,
   "id": "638fabfa",
   "metadata": {},
   "outputs": [
    {
     "name": "stdout",
     "output_type": "stream",
     "text": [
      "********* TRAINING **************\n",
      "Normalization Threshold is: 0.748321\n",
      "********* TUNING **************\n",
      "delta1 has been chosen by the user. No delta1 tuning is performed.\n"
     ]
    }
   ],
   "source": [
    "from quantum_eigenfaces.quantum_model import QuantumModel\n",
    "qm = QuantumModel(X_train=X_train_n,\n",
    "                  y_train=y_train,\n",
    "                  X_valid=X_valid_n,\n",
    "                  y_valid=y_valid,\n",
    "                  X_test=X_test_n,\n",
    "                  y_test=y_test,\n",
    "                  reshaper=(28,28))\n",
    "\n",
    "qm.fit(n_components=60, delta1=22.339989)\n"
   ]
  },
  {
   "cell_type": "code",
   "execution_count": 18,
   "id": "c589ba99",
   "metadata": {},
   "outputs": [
    {
     "name": "stdout",
     "output_type": "stream",
     "text": [
      "********\n",
      "Epsilon:  0\n",
      "********\n",
      "Epsilon:  5\n",
      "sqrt p: 221.35943621178654\n",
      "mu: 7.246272342260319\n",
      "max_c_train_norm: 11.594908361891498\n",
      "avg U_bar_norms: 7.179237349285472\n",
      "epsilon: 5\n",
      "********\n",
      "Epsilon:  10\n",
      "sqrt p: 221.35943621178654\n",
      "mu: 7.246272342260319\n",
      "max_c_train_norm: 11.594908361891498\n",
      "avg U_bar_norms: 7.179237349285472\n",
      "epsilon: 10\n",
      "********\n",
      "Epsilon:  15\n",
      "sqrt p: 221.35943621178654\n",
      "mu: 7.246272342260319\n",
      "max_c_train_norm: 11.594908361891498\n",
      "avg U_bar_norms: 7.179237349285472\n",
      "epsilon: 15\n",
      "********\n",
      "Epsilon:  20\n",
      "sqrt p: 221.35943621178654\n",
      "mu: 7.246272342260319\n",
      "max_c_train_norm: 11.594908361891498\n",
      "avg U_bar_norms: 7.179237349285472\n",
      "epsilon: 20\n",
      "********\n",
      "Epsilon:  25\n",
      "sqrt p: 221.35943621178654\n",
      "mu: 7.246272342260319\n",
      "max_c_train_norm: 11.594908361891498\n",
      "avg U_bar_norms: 7.179237349285472\n",
      "epsilon: 25\n",
      "********\n",
      "Epsilon:  30\n",
      "sqrt p: 221.35943621178654\n",
      "mu: 7.246272342260319\n",
      "max_c_train_norm: 11.594908361891498\n",
      "avg U_bar_norms: 7.179237349285472\n",
      "epsilon: 30\n",
      "********\n",
      "Epsilon:  35\n",
      "sqrt p: 221.35943621178654\n",
      "mu: 7.246272342260319\n",
      "max_c_train_norm: 11.594908361891498\n",
      "avg U_bar_norms: 7.179237349285472\n",
      "epsilon: 35\n",
      "********\n",
      "Epsilon:  40\n",
      "sqrt p: 221.35943621178654\n",
      "mu: 7.246272342260319\n",
      "max_c_train_norm: 11.594908361891498\n",
      "avg U_bar_norms: 7.179237349285472\n",
      "epsilon: 40\n",
      "********\n",
      "Epsilon:  45\n",
      "sqrt p: 221.35943621178654\n",
      "mu: 7.246272342260319\n",
      "max_c_train_norm: 11.594908361891498\n",
      "avg U_bar_norms: 7.179237349285472\n",
      "epsilon: 45\n",
      "********\n",
      "Epsilon:  50\n",
      "sqrt p: 221.35943621178654\n",
      "mu: 7.246272342260319\n",
      "max_c_train_norm: 11.594908361891498\n",
      "avg U_bar_norms: 7.179237349285472\n",
      "epsilon: 50\n",
      "********\n",
      "Epsilon:  55\n",
      "sqrt p: 221.35943621178654\n",
      "mu: 7.246272342260319\n",
      "max_c_train_norm: 11.594908361891498\n",
      "avg U_bar_norms: 7.179237349285472\n",
      "epsilon: 55\n",
      "********\n",
      "Epsilon:  60\n",
      "sqrt p: 221.35943621178654\n",
      "mu: 7.246272342260319\n",
      "max_c_train_norm: 11.594908361891498\n",
      "avg U_bar_norms: 7.179237349285472\n",
      "epsilon: 60\n",
      "********\n",
      "Epsilon:  65\n",
      "sqrt p: 221.35943621178654\n",
      "mu: 7.246272342260319\n",
      "max_c_train_norm: 11.594908361891498\n",
      "avg U_bar_norms: 7.179237349285472\n",
      "epsilon: 65\n",
      "********\n",
      "Epsilon:  70\n",
      "sqrt p: 221.35943621178654\n",
      "mu: 7.246272342260319\n",
      "max_c_train_norm: 11.594908361891498\n",
      "avg U_bar_norms: 7.179237349285472\n",
      "epsilon: 70\n",
      "********\n",
      "Epsilon:  75\n",
      "sqrt p: 221.35943621178654\n",
      "mu: 7.246272342260319\n",
      "max_c_train_norm: 11.594908361891498\n",
      "avg U_bar_norms: 7.179237349285472\n",
      "epsilon: 75\n",
      "********\n",
      "Epsilon:  80\n",
      "sqrt p: 221.35943621178654\n",
      "mu: 7.246272342260319\n",
      "max_c_train_norm: 11.594908361891498\n",
      "avg U_bar_norms: 7.179237349285472\n",
      "epsilon: 80\n",
      "********\n",
      "Epsilon:  85\n",
      "sqrt p: 221.35943621178654\n",
      "mu: 7.246272342260319\n",
      "max_c_train_norm: 11.594908361891498\n",
      "avg U_bar_norms: 7.179237349285472\n",
      "epsilon: 85\n"
     ]
    }
   ],
   "source": [
    "epsilons = range(0, 90, 5)\n",
    "qruntimes = []\n",
    "cruntimes = []\n",
    "stddev_qrts = []\n",
    "\n",
    "for epsilon in epsilons:\n",
    "    print(\"********\")\n",
    "    print(\"Epsilon: \", epsilon)\n",
    "    qrt, crt = qm.runtime(epsilon=epsilon, num_components=60, verbose=False)\n",
    "    stddev_qrt = np.std(qrt)\n",
    "    stddev_qrts.append(stddev_qrt)\n",
    "    qrt_ = np.mean(qrt)\n",
    "    qruntimes.append(qrt_)\n",
    "    cruntimes.append(crt)\n",
    "    \n"
   ]
  },
  {
   "cell_type": "code",
   "execution_count": 19,
   "id": "ec67dd89",
   "metadata": {},
   "outputs": [],
   "source": [
    "rts = pd.DataFrame({\"epsilon\": epsilons, \n",
    "                    \"classical runtime\": cruntimes, \n",
    "                    \"average runtime\": qruntimes, \n",
    "                    \"stddev runtime\": stddev_qrts})\n"
   ]
  },
  {
   "cell_type": "code",
   "execution_count": 20,
   "id": "0c3cb699",
   "metadata": {},
   "outputs": [
    {
     "data": {
      "text/html": [
       "<div>\n",
       "<style scoped>\n",
       "    .dataframe tbody tr th:only-of-type {\n",
       "        vertical-align: middle;\n",
       "    }\n",
       "\n",
       "    .dataframe tbody tr th {\n",
       "        vertical-align: top;\n",
       "    }\n",
       "\n",
       "    .dataframe thead th {\n",
       "        text-align: right;\n",
       "    }\n",
       "</style>\n",
       "<table border=\"1\" class=\"dataframe\">\n",
       "  <thead>\n",
       "    <tr style=\"text-align: right;\">\n",
       "      <th></th>\n",
       "      <th>epsilon</th>\n",
       "      <th>classical runtime</th>\n",
       "      <th>average runtime</th>\n",
       "      <th>stddev runtime</th>\n",
       "    </tr>\n",
       "  </thead>\n",
       "  <tbody>\n",
       "    <tr>\n",
       "      <th>0</th>\n",
       "      <td>0</td>\n",
       "      <td>2987040</td>\n",
       "      <td>NaN</td>\n",
       "      <td>0.000000</td>\n",
       "    </tr>\n",
       "    <tr>\n",
       "      <th>1</th>\n",
       "      <td>5</td>\n",
       "      <td>2987040</td>\n",
       "      <td>26704.737929</td>\n",
       "      <td>3637.380417</td>\n",
       "    </tr>\n",
       "    <tr>\n",
       "      <th>2</th>\n",
       "      <td>10</td>\n",
       "      <td>2987040</td>\n",
       "      <td>13352.368964</td>\n",
       "      <td>1818.690208</td>\n",
       "    </tr>\n",
       "    <tr>\n",
       "      <th>3</th>\n",
       "      <td>15</td>\n",
       "      <td>2987040</td>\n",
       "      <td>8901.579310</td>\n",
       "      <td>1212.460139</td>\n",
       "    </tr>\n",
       "    <tr>\n",
       "      <th>4</th>\n",
       "      <td>20</td>\n",
       "      <td>2987040</td>\n",
       "      <td>6676.184482</td>\n",
       "      <td>909.345104</td>\n",
       "    </tr>\n",
       "    <tr>\n",
       "      <th>5</th>\n",
       "      <td>25</td>\n",
       "      <td>2987040</td>\n",
       "      <td>5340.947586</td>\n",
       "      <td>727.476083</td>\n",
       "    </tr>\n",
       "    <tr>\n",
       "      <th>6</th>\n",
       "      <td>30</td>\n",
       "      <td>2987040</td>\n",
       "      <td>4450.789655</td>\n",
       "      <td>606.230069</td>\n",
       "    </tr>\n",
       "    <tr>\n",
       "      <th>7</th>\n",
       "      <td>35</td>\n",
       "      <td>2987040</td>\n",
       "      <td>3814.962561</td>\n",
       "      <td>519.625774</td>\n",
       "    </tr>\n",
       "    <tr>\n",
       "      <th>8</th>\n",
       "      <td>40</td>\n",
       "      <td>2987040</td>\n",
       "      <td>3338.092241</td>\n",
       "      <td>454.672552</td>\n",
       "    </tr>\n",
       "    <tr>\n",
       "      <th>9</th>\n",
       "      <td>45</td>\n",
       "      <td>2987040</td>\n",
       "      <td>2967.193103</td>\n",
       "      <td>404.153380</td>\n",
       "    </tr>\n",
       "    <tr>\n",
       "      <th>10</th>\n",
       "      <td>50</td>\n",
       "      <td>2987040</td>\n",
       "      <td>2670.473793</td>\n",
       "      <td>363.738042</td>\n",
       "    </tr>\n",
       "    <tr>\n",
       "      <th>11</th>\n",
       "      <td>55</td>\n",
       "      <td>2987040</td>\n",
       "      <td>2427.703448</td>\n",
       "      <td>330.670947</td>\n",
       "    </tr>\n",
       "    <tr>\n",
       "      <th>12</th>\n",
       "      <td>60</td>\n",
       "      <td>2987040</td>\n",
       "      <td>2225.394827</td>\n",
       "      <td>303.115035</td>\n",
       "    </tr>\n",
       "    <tr>\n",
       "      <th>13</th>\n",
       "      <td>65</td>\n",
       "      <td>2987040</td>\n",
       "      <td>2054.210610</td>\n",
       "      <td>279.798494</td>\n",
       "    </tr>\n",
       "    <tr>\n",
       "      <th>14</th>\n",
       "      <td>70</td>\n",
       "      <td>2987040</td>\n",
       "      <td>1907.481281</td>\n",
       "      <td>259.812887</td>\n",
       "    </tr>\n",
       "    <tr>\n",
       "      <th>15</th>\n",
       "      <td>75</td>\n",
       "      <td>2987040</td>\n",
       "      <td>1780.315862</td>\n",
       "      <td>242.492028</td>\n",
       "    </tr>\n",
       "    <tr>\n",
       "      <th>16</th>\n",
       "      <td>80</td>\n",
       "      <td>2987040</td>\n",
       "      <td>1669.046121</td>\n",
       "      <td>227.336276</td>\n",
       "    </tr>\n",
       "    <tr>\n",
       "      <th>17</th>\n",
       "      <td>85</td>\n",
       "      <td>2987040</td>\n",
       "      <td>1570.866937</td>\n",
       "      <td>213.963554</td>\n",
       "    </tr>\n",
       "  </tbody>\n",
       "</table>\n",
       "</div>"
      ],
      "text/plain": [
       "    epsilon  classical runtime  average runtime  stddev runtime\n",
       "0         0            2987040              NaN        0.000000\n",
       "1         5            2987040     26704.737929     3637.380417\n",
       "2        10            2987040     13352.368964     1818.690208\n",
       "3        15            2987040      8901.579310     1212.460139\n",
       "4        20            2987040      6676.184482      909.345104\n",
       "5        25            2987040      5340.947586      727.476083\n",
       "6        30            2987040      4450.789655      606.230069\n",
       "7        35            2987040      3814.962561      519.625774\n",
       "8        40            2987040      3338.092241      454.672552\n",
       "9        45            2987040      2967.193103      404.153380\n",
       "10       50            2987040      2670.473793      363.738042\n",
       "11       55            2987040      2427.703448      330.670947\n",
       "12       60            2987040      2225.394827      303.115035\n",
       "13       65            2987040      2054.210610      279.798494\n",
       "14       70            2987040      1907.481281      259.812887\n",
       "15       75            2987040      1780.315862      242.492028\n",
       "16       80            2987040      1669.046121      227.336276\n",
       "17       85            2987040      1570.866937      213.963554"
      ]
     },
     "execution_count": 20,
     "metadata": {},
     "output_type": "execute_result"
    }
   ],
   "source": [
    "rts.loc[0, \"average runtime\"] = np.nan\n",
    "rts"
   ]
  },
  {
   "cell_type": "markdown",
   "id": "7cb2b294",
   "metadata": {},
   "source": [
    "### find highest acceptable epsilon\n",
    "The highest $\\epsilon$ that preserves at least $97.5\\%$ of the accuracy with respect to the $\\epsilon$-free scenario"
   ]
  },
  {
   "cell_type": "code",
   "execution_count": 21,
   "id": "4595c59b",
   "metadata": {
    "scrolled": true
   },
   "outputs": [
    {
     "name": "stdout",
     "output_type": "stream",
     "text": [
      "********* TRAINING **************\n",
      "Normalization Threshold is: 0.746925\n",
      "********* TUNING **************\n",
      "delta1 has been chosen by the user. No delta1 tuning is performed.\n",
      "_______\n",
      "Epsilon: 0\n",
      "Compute predictions...\n",
      "********* TESTING **************\n"
     ]
    },
    {
     "name": "stderr",
     "output_type": "stream",
     "text": [
      "                                                                                \r"
     ]
    },
    {
     "name": "stdout",
     "output_type": "stream",
     "text": [
      "Avg Accuracy: 0.9264285714285714\n",
      "Avg Accuracy Train: 0.9406666666666667\n",
      "Avg Recall: 0.8837142857142857\n",
      "_______\n",
      "Epsilon: 5\n",
      "Compute predictions...\n",
      "********* TESTING **************\n"
     ]
    },
    {
     "name": "stderr",
     "output_type": "stream",
     "text": [
      "                                                                                \r"
     ]
    },
    {
     "name": "stdout",
     "output_type": "stream",
     "text": [
      "Avg Accuracy: 0.9262142857142858\n",
      "Avg Accuracy Train: 0.9441904761904761\n",
      "Avg Recall: 0.8722857142857143\n",
      "_______\n",
      "Epsilon: 10\n",
      "Compute predictions...\n",
      "********* TESTING **************\n"
     ]
    },
    {
     "name": "stderr",
     "output_type": "stream",
     "text": [
      "                                                                                \r"
     ]
    },
    {
     "name": "stdout",
     "output_type": "stream",
     "text": [
      "Avg Accuracy: 0.9214285714285714\n",
      "Avg Accuracy Train: 0.9475238095238095\n",
      "Avg Recall: 0.8431428571428572\n",
      "_______\n",
      "Epsilon: 15\n",
      "Compute predictions...\n",
      "********* TESTING **************\n"
     ]
    },
    {
     "name": "stderr",
     "output_type": "stream",
     "text": [
      "                                                                                \r"
     ]
    },
    {
     "name": "stdout",
     "output_type": "stream",
     "text": [
      "Avg Accuracy: 0.9141428571428571\n",
      "Avg Accuracy Train: 0.9505714285714286\n",
      "Avg Recall: 0.8048571428571428\n",
      "_______\n",
      "Epsilon: 20\n",
      "Compute predictions...\n",
      "********* TESTING **************\n"
     ]
    },
    {
     "name": "stderr",
     "output_type": "stream",
     "text": [
      "                                                                                "
     ]
    },
    {
     "name": "stdout",
     "output_type": "stream",
     "text": [
      "Avg Accuracy: 0.8955\n",
      "Avg Accuracy Train: 0.9396190476190476\n",
      "Avg Recall: 0.7631428571428571\n"
     ]
    },
    {
     "name": "stderr",
     "output_type": "stream",
     "text": [
      "\r"
     ]
    }
   ],
   "source": [
    "np.random.seed(0)\n",
    "epsilons_domain = np.arange(0, 25, 5) \n",
    "summary = epsilon_tuning(datasplit=datasplit_with_outliers, \n",
    "                         training_config=training_config, \n",
    "                         tuning_config=tuning_config,\n",
    "                         reshaper=(28,28),\n",
    "                         epsilons=epsilons_domain,\n",
    "                         use_norm_threshold=True,\n",
    "                         num_iterations=100,\n",
    "                         delta1=22.34,\n",
    "                         ds_name=\"MNIST\",\n",
    "                         compute_runtimes=False)\n"
   ]
  },
  {
   "cell_type": "code",
   "execution_count": 22,
   "id": "6dcb5d81",
   "metadata": {},
   "outputs": [
    {
     "data": {
      "text/html": [
       "<div>\n",
       "<style scoped>\n",
       "    .dataframe tbody tr th:only-of-type {\n",
       "        vertical-align: middle;\n",
       "    }\n",
       "\n",
       "    .dataframe tbody tr th {\n",
       "        vertical-align: top;\n",
       "    }\n",
       "\n",
       "    .dataframe thead th {\n",
       "        text-align: right;\n",
       "    }\n",
       "</style>\n",
       "<table border=\"1\" class=\"dataframe\">\n",
       "  <thead>\n",
       "    <tr style=\"text-align: right;\">\n",
       "      <th></th>\n",
       "      <th>epsilon</th>\n",
       "      <th>Accuracy</th>\n",
       "      <th>Accuracy Train</th>\n",
       "      <th>False Acceptance Rate</th>\n",
       "      <th>False Recognition Rate</th>\n",
       "      <th>Precision</th>\n",
       "      <th>Recall</th>\n",
       "      <th>F1-Score</th>\n",
       "      <th>Stddev Accuracy</th>\n",
       "      <th>Stddev Accuracy Train</th>\n",
       "      <th>Stddev False Acceptance Rate</th>\n",
       "      <th>Stddev False Recognition Rate</th>\n",
       "      <th>Stddev Precision</th>\n",
       "      <th>Stddev Recall</th>\n",
       "      <th>Stddev F1-Score</th>\n",
       "    </tr>\n",
       "  </thead>\n",
       "  <tbody>\n",
       "    <tr>\n",
       "      <th>0</th>\n",
       "      <td>0</td>\n",
       "      <td>0.926429</td>\n",
       "      <td>0.940667</td>\n",
       "      <td>0.029071</td>\n",
       "      <td>0.031143</td>\n",
       "      <td>0.876452</td>\n",
       "      <td>0.883714</td>\n",
       "      <td>0.880068</td>\n",
       "      <td>0.0</td>\n",
       "      <td>0.0</td>\n",
       "      <td>0.0</td>\n",
       "      <td>0.0</td>\n",
       "      <td>0.0</td>\n",
       "      <td>0.0</td>\n",
       "      <td>0.0</td>\n",
       "    </tr>\n",
       "    <tr>\n",
       "      <th>1</th>\n",
       "      <td>5</td>\n",
       "      <td>0.926214</td>\n",
       "      <td>0.944190</td>\n",
       "      <td>0.031929</td>\n",
       "      <td>0.023857</td>\n",
       "      <td>0.901388</td>\n",
       "      <td>0.872286</td>\n",
       "      <td>0.886598</td>\n",
       "      <td>0.0</td>\n",
       "      <td>0.0</td>\n",
       "      <td>0.0</td>\n",
       "      <td>0.0</td>\n",
       "      <td>0.0</td>\n",
       "      <td>0.0</td>\n",
       "      <td>0.0</td>\n",
       "    </tr>\n",
       "    <tr>\n",
       "      <th>2</th>\n",
       "      <td>10</td>\n",
       "      <td>0.921429</td>\n",
       "      <td>0.947524</td>\n",
       "      <td>0.039214</td>\n",
       "      <td>0.014071</td>\n",
       "      <td>0.937421</td>\n",
       "      <td>0.843143</td>\n",
       "      <td>0.887786</td>\n",
       "      <td>0.0</td>\n",
       "      <td>0.0</td>\n",
       "      <td>0.0</td>\n",
       "      <td>0.0</td>\n",
       "      <td>0.0</td>\n",
       "      <td>0.0</td>\n",
       "      <td>0.0</td>\n",
       "    </tr>\n",
       "    <tr>\n",
       "      <th>3</th>\n",
       "      <td>15</td>\n",
       "      <td>0.914143</td>\n",
       "      <td>0.950571</td>\n",
       "      <td>0.048786</td>\n",
       "      <td>0.006143</td>\n",
       "      <td>0.970375</td>\n",
       "      <td>0.804857</td>\n",
       "      <td>0.879900</td>\n",
       "      <td>0.0</td>\n",
       "      <td>0.0</td>\n",
       "      <td>0.0</td>\n",
       "      <td>0.0</td>\n",
       "      <td>0.0</td>\n",
       "      <td>0.0</td>\n",
       "      <td>0.0</td>\n",
       "    </tr>\n",
       "    <tr>\n",
       "      <th>4</th>\n",
       "      <td>20</td>\n",
       "      <td>0.895500</td>\n",
       "      <td>0.939619</td>\n",
       "      <td>0.059214</td>\n",
       "      <td>0.002786</td>\n",
       "      <td>0.985609</td>\n",
       "      <td>0.763143</td>\n",
       "      <td>0.860225</td>\n",
       "      <td>0.0</td>\n",
       "      <td>0.0</td>\n",
       "      <td>0.0</td>\n",
       "      <td>0.0</td>\n",
       "      <td>0.0</td>\n",
       "      <td>0.0</td>\n",
       "      <td>0.0</td>\n",
       "    </tr>\n",
       "  </tbody>\n",
       "</table>\n",
       "</div>"
      ],
      "text/plain": [
       "   epsilon  Accuracy  Accuracy Train  False Acceptance Rate  \\\n",
       "0        0  0.926429        0.940667               0.029071   \n",
       "1        5  0.926214        0.944190               0.031929   \n",
       "2       10  0.921429        0.947524               0.039214   \n",
       "3       15  0.914143        0.950571               0.048786   \n",
       "4       20  0.895500        0.939619               0.059214   \n",
       "\n",
       "   False Recognition Rate  Precision    Recall  F1-Score  Stddev Accuracy  \\\n",
       "0                0.031143   0.876452  0.883714  0.880068              0.0   \n",
       "1                0.023857   0.901388  0.872286  0.886598              0.0   \n",
       "2                0.014071   0.937421  0.843143  0.887786              0.0   \n",
       "3                0.006143   0.970375  0.804857  0.879900              0.0   \n",
       "4                0.002786   0.985609  0.763143  0.860225              0.0   \n",
       "\n",
       "   Stddev Accuracy Train  Stddev False Acceptance Rate  \\\n",
       "0                    0.0                           0.0   \n",
       "1                    0.0                           0.0   \n",
       "2                    0.0                           0.0   \n",
       "3                    0.0                           0.0   \n",
       "4                    0.0                           0.0   \n",
       "\n",
       "   Stddev False Recognition Rate  Stddev Precision  Stddev Recall  \\\n",
       "0                            0.0               0.0            0.0   \n",
       "1                            0.0               0.0            0.0   \n",
       "2                            0.0               0.0            0.0   \n",
       "3                            0.0               0.0            0.0   \n",
       "4                            0.0               0.0            0.0   \n",
       "\n",
       "   Stddev F1-Score  \n",
       "0              0.0  \n",
       "1              0.0  \n",
       "2              0.0  \n",
       "3              0.0  \n",
       "4              0.0  "
      ]
     },
     "execution_count": 22,
     "metadata": {},
     "output_type": "execute_result"
    }
   ],
   "source": [
    "summary"
   ]
  },
  {
   "cell_type": "code",
   "execution_count": 23,
   "id": "7d1bf6b3",
   "metadata": {},
   "outputs": [
    {
     "name": "stdout",
     "output_type": "stream",
     "text": [
      "0.9264285714285714\n",
      "0.9032678571428571\n",
      "highest acceptable epsilon:  15\n"
     ]
    }
   ],
   "source": [
    "from quantum_eigenfaces.utils.runtime import find_highest_acceptable_epsilon\n",
    "highest_acceptable_epsilon = find_highest_acceptable_epsilon(summary)\n",
    "print(\"highest acceptable epsilon: \", highest_acceptable_epsilon)"
   ]
  },
  {
   "cell_type": "markdown",
   "id": "3008268f",
   "metadata": {},
   "source": [
    "### Plot running times comparison"
   ]
  },
  {
   "cell_type": "code",
   "execution_count": 24,
   "id": "747bae90",
   "metadata": {},
   "outputs": [
    {
     "data": {
      "image/png": "[encoded data removed]",
      "text/plain": [
       "<Figure size 2000x1000 with 1 Axes>"
      ]
     },
     "metadata": {},
     "output_type": "display_data"
    }
   ],
   "source": [
    "import matplotlib\n",
    "\n",
    "def plot_quantum_vs_classical(rts, highest_acceptable_epsilon):\n",
    "    plt.figure(figsize=(20, 10))\n",
    "\n",
    "    fontsize = 60\n",
    "    legend_fontsize = 48\n",
    "    \n",
    "    matplotlib.rcParams.update({'font.size': fontsize})\n",
    "\n",
    "    x_padding = -16\n",
    "    \n",
    "    # Classical runtime\n",
    "    crt = rts[\"classical runtime\"].values[0]\n",
    "    plt.axhline(crt, linestyle=\":\", c=\"grey\")\n",
    "    plt.plot(rts[\"epsilon\"], rts[\"classical runtime\"], label=\"Class. Running Time\")\n",
    "    \n",
    "    # Quantum runtime\n",
    "    avg_qrt = rts[\"average runtime\"]\n",
    "    stddev_qrt = rts[\"stddev runtime\"]\n",
    "    plt.plot(rts[\"epsilon\"], avg_qrt, label=\"Quant. Running Time\")\n",
    "    plt.fill_between(epsilons, avg_qrt-stddev_qrts, avg_qrt+stddev_qrts, color=\"wheat\")\n",
    "\n",
    "    plt.xlabel(\"$\\epsilon$\", fontsize=fontsize + 20)\n",
    "    plt.ylabel(\"runtime\", fontsize=fontsize + 20)\n",
    "\n",
    "    \n",
    "    plt.yscale('log')\n",
    "\n",
    "    plt.axvline(x=highest_acceptable_epsilon, c=\"red\")\n",
    "\n",
    "    plt.text(highest_acceptable_epsilon, 180, r'$\\epsilon^*$', ha='center', va='center', c=\"red\", fontsize=fontsize + 10)\n",
    "    \n",
    "    y = rts[rts[\"epsilon\"] == highest_acceptable_epsilon][\"average runtime\"].values[0]\n",
    "    plt.axhline(y, linestyle=\":\", c=\"grey\")\n",
    "\n",
    "    plt.grid(True)\n",
    "    plt.legend(fontsize=legend_fontsize, loc=\"upper right\", bbox_to_anchor=(1.02, 0.95))\n",
    "    \n",
    "    plt.xticks(rts[\"epsilon\"].values[0:-1:4])\n",
    "    plt.savefig(\"MNIST_quantum_runtime.pdf\", bbox_inches='tight')\n",
    "    \n",
    "plot_quantum_vs_classical(rts=rts[0:], highest_acceptable_epsilon=highest_acceptable_epsilon)"
   ]
  },
  {
   "cell_type": "code",
   "execution_count": null,
   "id": "a36ed5aa",
   "metadata": {},
   "outputs": [],
   "source": []
  }
 ],
 "metadata": {
  "kernelspec": {
   "display_name": "QuantumEigenfaces",
   "language": "python",
   "name": "quantumeigenfaces"
  },
  "language_info": {
   "codemirror_mode": {
    "name": "ipython",
    "version": 3
   },
   "file_extension": ".py",
   "mimetype": "text/x-python",
   "name": "python",
   "nbconvert_exporter": "python",
   "pygments_lexer": "ipython3",
   "version": "3.9.16"
  }
 },
 "nbformat": 4,
 "nbformat_minor": 5
}
