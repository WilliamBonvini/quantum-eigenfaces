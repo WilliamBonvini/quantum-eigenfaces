{
 "cells": [
  {
   "cell_type": "markdown",
   "id": "23ffa1dd",
   "metadata": {},
   "source": [
    "# Comparison between classical and quantum running times for MNIST experiment"
   ]
  },
  {
   "cell_type": "markdown",
   "id": "d7f49565",
   "metadata": {},
   "source": [
    "### Setup"
   ]
  },
  {
   "cell_type": "code",
   "execution_count": 9,
   "id": "b89bb0de",
   "metadata": {},
   "outputs": [],
   "source": [
    "import os\n",
    "os.chdir(\"../../quantum_eigenfaces/package/\")\n",
    "import IPython"
   ]
  },
  {
   "cell_type": "code",
   "execution_count": 10,
   "id": "094901b0",
   "metadata": {},
   "outputs": [
    {
     "data": {
      "application/javascript": [
       "IPython.OutputArea.prototype._should_scroll = function(lines) {\n",
       "    return false;\n",
       "}\n"
      ],
      "text/plain": [
       "<IPython.core.display.Javascript object>"
      ]
     },
     "metadata": {},
     "output_type": "display_data"
    }
   ],
   "source": [
    "%%javascript\n",
    "IPython.OutputArea.prototype._should_scroll = function(lines) {\n",
    "    return false;\n",
    "}"
   ]
  },
  {
   "cell_type": "code",
   "execution_count": 11,
   "id": "960d1581",
   "metadata": {},
   "outputs": [],
   "source": [
    "import glob\n",
    "import re\n",
    "import csv \n",
    "\n",
    "from tqdm import tqdm\n",
    "import numpy as np\n",
    "from PIL import Image\n",
    "import pandas as pd\n",
    "import matplotlib.pyplot as plt\n",
    "from sklearn.preprocessing import normalize\n",
    "from sklearn.decomposition import PCA\n",
    "from sklearn.model_selection import train_test_split\n",
    "from sklearn.datasets import fetch_openml\n",
    "\n",
    "from quantum_eigenfaces.epsilon_tuning import epsilon_tuning \n",
    "from quantum_eigenfaces.utils.utils import DataSplit, TrainingConfig, TuningConfig\n",
    "\n"
   ]
  },
  {
   "cell_type": "markdown",
   "id": "15712897",
   "metadata": {},
   "source": [
    "### Load MNIST Dataset"
   ]
  },
  {
   "cell_type": "code",
   "execution_count": 12,
   "id": "4bcd4998",
   "metadata": {},
   "outputs": [
    {
     "name": "stdout",
     "output_type": "stream",
     "text": [
      "Datapoints number: 70000\n",
      "Classes number: 10\n",
      "Training set: 0.7\n",
      "Validation set: 0.15\n",
      "Test set: 0.15\n"
     ]
    }
   ],
   "source": [
    "import joblib\n",
    "memory_mnist = joblib.Memory('./tmp_mnist')\n",
    "fetch_openml_cached_mnist = memory_mnist.cache(fetch_openml)\n",
    "\n",
    "X, y = fetch_openml_cached_mnist('mnist_784', version=1, return_X_y=True)  \n",
    "\n",
    "n_labels = len(set(y))\n",
    "\n",
    "train_val_test = [0.70,0.15,0.15]\n",
    "X_train, X_test, y_train, y_test = train_test_split(X, y, test_size=train_val_test[2], random_state=1)\n",
    "X_train, X_val, y_train, y_val = train_test_split(X_train, y_train, test_size=train_val_test[1]/(1-train_val_test[2]), random_state=1)\n",
    "\n",
    "tot = len(X_train) + len(X_val) + len(X_test) \n",
    "print(f\"Datapoints number: {tot}\")\n",
    "print(f\"Classes number: {n_labels}\")\n",
    "print(f\"Training set: {len(X_train)/tot}\")\n",
    "print(f\"Validation set: {len(X_val)/tot}\")\n",
    "print(f\"Test set: {len(X_test)/tot}\")\n",
    "\n",
    "\n",
    "X_train = X_train.to_numpy()\n",
    "X_valid = X_val.to_numpy()\n",
    "X_test = X_test.to_numpy()\n",
    "y_train = y_train.to_numpy().astype(int)\n",
    "y_valid = y_val.to_numpy().astype(int)\n",
    "y_test = y_test.to_numpy().astype(int)\n",
    "\n"
   ]
  },
  {
   "cell_type": "markdown",
   "id": "8c9787d3",
   "metadata": {},
   "source": [
    "### Load Outliers: Fashion MNIST"
   ]
  },
  {
   "cell_type": "code",
   "execution_count": 13,
   "id": "f5f02c33",
   "metadata": {},
   "outputs": [
    {
     "name": "stdout",
     "output_type": "stream",
     "text": [
      "Datapoints number: 70000\n",
      "Classes number: 10\n",
      "Training set: 0.8999857142857143\n",
      "Validation set: 0.05001428571428571\n",
      "Test set: 0.05\n"
     ]
    }
   ],
   "source": [
    "import joblib\n",
    "memory = joblib.Memory('./tmp')\n",
    "fetch_openml_cached = memory.cache(fetch_openml)\n",
    "\n",
    "X, y = fetch_openml_cached(data_id=40996, return_X_y=True) # Fashion MNIST\n",
    "\n",
    "n_labels = len(set(y))\n",
    "\n",
    "train_val_test = [0.70,0.05,0.05]\n",
    "X_train2, X_test2, y_train2, y_test2 = train_test_split(X, y, test_size=train_val_test[2], random_state=1)\n",
    "X_train2, X_val2, y_train2, y_val2 = train_test_split(X_train2, y_train2, test_size=train_val_test[1]/(1-train_val_test[2]), random_state=1)\n",
    "\n",
    "\n",
    "tot = len(X_train2) + len(X_val2) + len(X_test2) \n",
    "print(f\"Datapoints number: {tot}\")\n",
    "print(f\"Classes number: {n_labels}\")\n",
    "print(f\"Training set: {len(X_train2)/tot}\")\n",
    "print(f\"Validation set: {len(X_val2)/tot}\")\n",
    "print(f\"Test set: {len(X_test2)/tot}\")\n"
   ]
  },
  {
   "cell_type": "markdown",
   "id": "fe08f1c8",
   "metadata": {},
   "source": [
    "### Combine datasets"
   ]
  },
  {
   "cell_type": "code",
   "execution_count": 15,
   "id": "58dfbb73",
   "metadata": {},
   "outputs": [],
   "source": [
    "\n",
    "X_valid_wa = np.concatenate([X_valid, X_val2.to_numpy()])\n",
    "y_valid_wa = np.concatenate([[int(y) for y in y_valid], [-1 for _ in range(len(X_val2))]])\n",
    "X_test_wa = np.concatenate([X_test, X_test2.to_numpy()])\n",
    "y_test_wa = np.concatenate([[int(y) for y in y_test], [-1 for _ in range(len(X_test2))]])\n",
    "\n"
   ]
  },
  {
   "cell_type": "markdown",
   "id": "8dbc724d",
   "metadata": {},
   "source": [
    "### Normalization"
   ]
  },
  {
   "cell_type": "code",
   "execution_count": 16,
   "id": "7e45d859",
   "metadata": {},
   "outputs": [],
   "source": [
    "X_train_n = X_train / 255\n",
    "X_valid_n = X_valid / 255\n",
    "X_valid_wa_n = X_valid_wa / 255\n",
    "X_test_n = X_test / 255\n",
    "X_test_wa_n = X_test_wa / 255"
   ]
  },
  {
   "cell_type": "code",
   "execution_count": 17,
   "id": "42ff6f11",
   "metadata": {},
   "outputs": [
    {
     "name": "stdout",
     "output_type": "stream",
     "text": [
      "X_train_n:    (49000, 784)\n",
      "y_train:      (49000,)\n",
      "------------------------\n",
      "X_valid_n:    (10500, 784)\n",
      "y_valid:      (10500,)\n",
      "X_valid_wa_n: (14001, 784)\n",
      "y_valid_wa:   (14001,)\n",
      "------------------------\n",
      "X_test_n:     (10500, 784)\n",
      "y_test:       (10500,)\n",
      "X_test_wa_n:  (14000, 784)\n",
      "y_test_wa:    (14000,)\n"
     ]
    }
   ],
   "source": [
    "print(f\"X_train_n:    {X_train.shape}\")\n",
    "print(f\"y_train:      {y_train.shape}\")\n",
    "print(\"------------------------\")\n",
    "print(f\"X_valid_n:    {X_valid.shape}\")\n",
    "print(f\"y_valid:      {y_valid.shape}\")\n",
    "print(f\"X_valid_wa_n: {X_valid_wa.shape}\")\n",
    "print(f\"y_valid_wa:   {y_valid_wa.shape}\")\n",
    "print(\"------------------------\")\n",
    "print(f\"X_test_n:     {X_test.shape}\")\n",
    "print(f\"y_test:       {y_test.shape}\")\n",
    "print(f\"X_test_wa_n:  {X_test_wa.shape}\")\n",
    "print(f\"y_test_wa:    {y_test_wa.shape}\")"
   ]
  },
  {
   "cell_type": "markdown",
   "id": "6ea35b9a",
   "metadata": {},
   "source": [
    "### Formalize dataset splits and fitting configurations"
   ]
  },
  {
   "cell_type": "code",
   "execution_count": 18,
   "id": "c2bcf5e7",
   "metadata": {},
   "outputs": [],
   "source": [
    "\n",
    "datasplit_without_outliers = DataSplit(X_train=X_train_n, \n",
    "                                        y_train=y_train, \n",
    "                                        X_valid=X_valid_n, \n",
    "                                        y_valid=y_valid, \n",
    "                                        X_test=X_test_n, \n",
    "                                        y_test=y_test)\n",
    "\n",
    "datasplit_with_outliers = DataSplit(X_train=X_train_n, \n",
    "                                    y_train=y_train, \n",
    "                                    X_valid=X_valid_wa_n, \n",
    "                                    y_valid=y_valid_wa, \n",
    "                                    X_test=X_test_wa_n, \n",
    "                                    y_test=y_test_wa)\n",
    "\n",
    "training_config = TrainingConfig(n_components=60)\n",
    "tuning_config = TuningConfig(tot_num_of_deltas=1600)\n",
    "\n"
   ]
  },
  {
   "cell_type": "markdown",
   "id": "79beb880",
   "metadata": {},
   "source": [
    "## Fit model"
   ]
  },
  {
   "cell_type": "code",
   "execution_count": 19,
   "id": "638fabfa",
   "metadata": {},
   "outputs": [
    {
     "name": "stdout",
     "output_type": "stream",
     "text": [
      "********* TRAINING **************\n",
      "Normalization Threshold is: 0.74854\n",
      "********* TUNING **************\n",
      "delta1 has been chosen by the user. No delta1 tuning is performed.\n"
     ]
    }
   ],
   "source": [
    "from quantum_eigenfaces.quantum_model import QuantumModel\n",
    "qm = QuantumModel(X_train=X_train_n,\n",
    "                  y_train=y_train,\n",
    "                  X_valid=X_valid_n,\n",
    "                  y_valid=y_valid,\n",
    "                  X_test=X_test_n,\n",
    "                  y_test=y_test,\n",
    "                  reshaper=(28,28))\n",
    "\n",
    "qm.fit(n_components=60, delta1=22.339989)\n"
   ]
  },
  {
   "cell_type": "code",
   "execution_count": 20,
   "id": "c589ba99",
   "metadata": {},
   "outputs": [
    {
     "name": "stdout",
     "output_type": "stream",
     "text": [
      "********\n",
      "Epsilon:  0\n",
      "********\n",
      "Epsilon:  5\n",
      "sqrt p: 221.35943621178654\n",
      "mu: 7.229457777240143\n",
      "max_c_train_norm: 11.594529325737465\n",
      "avg U_bar_norms: 7.179237349285472\n",
      "epsilon: 5\n",
      "********\n",
      "Epsilon:  10\n",
      "sqrt p: 221.35943621178654\n",
      "mu: 7.229457777240143\n",
      "max_c_train_norm: 11.594529325737465\n",
      "avg U_bar_norms: 7.179237349285472\n",
      "epsilon: 10\n",
      "********\n",
      "Epsilon:  15\n",
      "sqrt p: 221.35943621178654\n",
      "mu: 7.229457777240143\n",
      "max_c_train_norm: 11.594529325737465\n",
      "avg U_bar_norms: 7.179237349285472\n",
      "epsilon: 15\n",
      "********\n",
      "Epsilon:  20\n",
      "sqrt p: 221.35943621178654\n",
      "mu: 7.229457777240143\n",
      "max_c_train_norm: 11.594529325737465\n",
      "avg U_bar_norms: 7.179237349285472\n",
      "epsilon: 20\n",
      "********\n",
      "Epsilon:  25\n",
      "sqrt p: 221.35943621178654\n",
      "mu: 7.229457777240143\n",
      "max_c_train_norm: 11.594529325737465\n",
      "avg U_bar_norms: 7.179237349285472\n",
      "epsilon: 25\n",
      "********\n",
      "Epsilon:  30\n",
      "sqrt p: 221.35943621178654\n",
      "mu: 7.229457777240143\n",
      "max_c_train_norm: 11.594529325737465\n",
      "avg U_bar_norms: 7.179237349285472\n",
      "epsilon: 30\n",
      "********\n",
      "Epsilon:  35\n",
      "sqrt p: 221.35943621178654\n",
      "mu: 7.229457777240143\n",
      "max_c_train_norm: 11.594529325737465\n",
      "avg U_bar_norms: 7.179237349285472\n",
      "epsilon: 35\n",
      "********\n",
      "Epsilon:  40\n",
      "sqrt p: 221.35943621178654\n",
      "mu: 7.229457777240143\n",
      "max_c_train_norm: 11.594529325737465\n",
      "avg U_bar_norms: 7.179237349285472\n",
      "epsilon: 40\n",
      "********\n",
      "Epsilon:  45\n",
      "sqrt p: 221.35943621178654\n",
      "mu: 7.229457777240143\n",
      "max_c_train_norm: 11.594529325737465\n",
      "avg U_bar_norms: 7.179237349285472\n",
      "epsilon: 45\n",
      "********\n",
      "Epsilon:  50\n",
      "sqrt p: 221.35943621178654\n",
      "mu: 7.229457777240143\n",
      "max_c_train_norm: 11.594529325737465\n",
      "avg U_bar_norms: 7.179237349285472\n",
      "epsilon: 50\n",
      "********\n",
      "Epsilon:  55\n",
      "sqrt p: 221.35943621178654\n",
      "mu: 7.229457777240143\n",
      "max_c_train_norm: 11.594529325737465\n",
      "avg U_bar_norms: 7.179237349285472\n",
      "epsilon: 55\n",
      "********\n",
      "Epsilon:  60\n",
      "sqrt p: 221.35943621178654\n",
      "mu: 7.229457777240143\n",
      "max_c_train_norm: 11.594529325737465\n",
      "avg U_bar_norms: 7.179237349285472\n",
      "epsilon: 60\n",
      "********\n",
      "Epsilon:  65\n",
      "sqrt p: 221.35943621178654\n",
      "mu: 7.229457777240143\n",
      "max_c_train_norm: 11.594529325737465\n",
      "avg U_bar_norms: 7.179237349285472\n",
      "epsilon: 65\n",
      "********\n",
      "Epsilon:  70\n",
      "sqrt p: 221.35943621178654\n",
      "mu: 7.229457777240143\n",
      "max_c_train_norm: 11.594529325737465\n",
      "avg U_bar_norms: 7.179237349285472\n",
      "epsilon: 70\n",
      "********\n",
      "Epsilon:  75\n",
      "sqrt p: 221.35943621178654\n",
      "mu: 7.229457777240143\n",
      "max_c_train_norm: 11.594529325737465\n",
      "avg U_bar_norms: 7.179237349285472\n",
      "epsilon: 75\n",
      "********\n",
      "Epsilon:  80\n",
      "sqrt p: 221.35943621178654\n",
      "mu: 7.229457777240143\n",
      "max_c_train_norm: 11.594529325737465\n",
      "avg U_bar_norms: 7.179237349285472\n",
      "epsilon: 80\n",
      "********\n",
      "Epsilon:  85\n",
      "sqrt p: 221.35943621178654\n",
      "mu: 7.229457777240143\n",
      "max_c_train_norm: 11.594529325737465\n",
      "avg U_bar_norms: 7.179237349285472\n",
      "epsilon: 85\n"
     ]
    }
   ],
   "source": [
    "epsilons = range(0, 90, 5)\n",
    "qruntimes = []\n",
    "cruntimes = []\n",
    "\n",
    "for epsilon in epsilons:\n",
    "    print(\"********\")\n",
    "    print(\"Epsilon: \", epsilon)\n",
    "    qrt, crt = qm.runtime(epsilon=epsilon, num_components=60, verbose=False)\n",
    "    qrt = np.mean(qrt)\n",
    "    qruntimes.append(qrt)\n",
    "    cruntimes.append(crt)\n",
    "    \n",
    "rts = pd.DataFrame({\"epsilon\": epsilons, \"classical runtime\": cruntimes, \"average runtime\": qruntimes})\n"
   ]
  },
  {
   "cell_type": "code",
   "execution_count": 26,
   "id": "0c3cb699",
   "metadata": {},
   "outputs": [
    {
     "data": {
      "text/html": [
       "<div>\n",
       "<style scoped>\n",
       "    .dataframe tbody tr th:only-of-type {\n",
       "        vertical-align: middle;\n",
       "    }\n",
       "\n",
       "    .dataframe tbody tr th {\n",
       "        vertical-align: top;\n",
       "    }\n",
       "\n",
       "    .dataframe thead th {\n",
       "        text-align: right;\n",
       "    }\n",
       "</style>\n",
       "<table border=\"1\" class=\"dataframe\">\n",
       "  <thead>\n",
       "    <tr style=\"text-align: right;\">\n",
       "      <th></th>\n",
       "      <th>epsilon</th>\n",
       "      <th>classical runtime</th>\n",
       "      <th>average runtime</th>\n",
       "    </tr>\n",
       "  </thead>\n",
       "  <tbody>\n",
       "    <tr>\n",
       "      <th>0</th>\n",
       "      <td>0</td>\n",
       "      <td>2987040</td>\n",
       "      <td>NaN</td>\n",
       "    </tr>\n",
       "    <tr>\n",
       "      <th>1</th>\n",
       "      <td>5</td>\n",
       "      <td>2987040</td>\n",
       "      <td>26641.900146</td>\n",
       "    </tr>\n",
       "    <tr>\n",
       "      <th>2</th>\n",
       "      <td>10</td>\n",
       "      <td>2987040</td>\n",
       "      <td>13320.950073</td>\n",
       "    </tr>\n",
       "    <tr>\n",
       "      <th>3</th>\n",
       "      <td>15</td>\n",
       "      <td>2987040</td>\n",
       "      <td>8880.633382</td>\n",
       "    </tr>\n",
       "    <tr>\n",
       "      <th>4</th>\n",
       "      <td>20</td>\n",
       "      <td>2987040</td>\n",
       "      <td>6660.475037</td>\n",
       "    </tr>\n",
       "    <tr>\n",
       "      <th>5</th>\n",
       "      <td>25</td>\n",
       "      <td>2987040</td>\n",
       "      <td>5328.380029</td>\n",
       "    </tr>\n",
       "    <tr>\n",
       "      <th>6</th>\n",
       "      <td>30</td>\n",
       "      <td>2987040</td>\n",
       "      <td>4440.316691</td>\n",
       "    </tr>\n",
       "    <tr>\n",
       "      <th>7</th>\n",
       "      <td>35</td>\n",
       "      <td>2987040</td>\n",
       "      <td>3805.985735</td>\n",
       "    </tr>\n",
       "    <tr>\n",
       "      <th>8</th>\n",
       "      <td>40</td>\n",
       "      <td>2987040</td>\n",
       "      <td>3330.237518</td>\n",
       "    </tr>\n",
       "    <tr>\n",
       "      <th>9</th>\n",
       "      <td>45</td>\n",
       "      <td>2987040</td>\n",
       "      <td>2960.211127</td>\n",
       "    </tr>\n",
       "    <tr>\n",
       "      <th>10</th>\n",
       "      <td>50</td>\n",
       "      <td>2987040</td>\n",
       "      <td>2664.190015</td>\n",
       "    </tr>\n",
       "    <tr>\n",
       "      <th>11</th>\n",
       "      <td>55</td>\n",
       "      <td>2987040</td>\n",
       "      <td>2421.990922</td>\n",
       "    </tr>\n",
       "    <tr>\n",
       "      <th>12</th>\n",
       "      <td>60</td>\n",
       "      <td>2987040</td>\n",
       "      <td>2220.158346</td>\n",
       "    </tr>\n",
       "    <tr>\n",
       "      <th>13</th>\n",
       "      <td>65</td>\n",
       "      <td>2987040</td>\n",
       "      <td>2049.376934</td>\n",
       "    </tr>\n",
       "    <tr>\n",
       "      <th>14</th>\n",
       "      <td>70</td>\n",
       "      <td>2987040</td>\n",
       "      <td>1902.992868</td>\n",
       "    </tr>\n",
       "    <tr>\n",
       "      <th>15</th>\n",
       "      <td>75</td>\n",
       "      <td>2987040</td>\n",
       "      <td>1776.126676</td>\n",
       "    </tr>\n",
       "    <tr>\n",
       "      <th>16</th>\n",
       "      <td>80</td>\n",
       "      <td>2987040</td>\n",
       "      <td>1665.118759</td>\n",
       "    </tr>\n",
       "    <tr>\n",
       "      <th>17</th>\n",
       "      <td>85</td>\n",
       "      <td>2987040</td>\n",
       "      <td>1567.170597</td>\n",
       "    </tr>\n",
       "  </tbody>\n",
       "</table>\n",
       "</div>"
      ],
      "text/plain": [
       "    epsilon  classical runtime  average runtime\n",
       "0         0            2987040              NaN\n",
       "1         5            2987040     26641.900146\n",
       "2        10            2987040     13320.950073\n",
       "3        15            2987040      8880.633382\n",
       "4        20            2987040      6660.475037\n",
       "5        25            2987040      5328.380029\n",
       "6        30            2987040      4440.316691\n",
       "7        35            2987040      3805.985735\n",
       "8        40            2987040      3330.237518\n",
       "9        45            2987040      2960.211127\n",
       "10       50            2987040      2664.190015\n",
       "11       55            2987040      2421.990922\n",
       "12       60            2987040      2220.158346\n",
       "13       65            2987040      2049.376934\n",
       "14       70            2987040      1902.992868\n",
       "15       75            2987040      1776.126676\n",
       "16       80            2987040      1665.118759\n",
       "17       85            2987040      1567.170597"
      ]
     },
     "execution_count": 26,
     "metadata": {},
     "output_type": "execute_result"
    }
   ],
   "source": [
    "rts.loc[0, \"average runtime\"] = np.nan\n",
    "rts"
   ]
  },
  {
   "cell_type": "code",
   "execution_count": 34,
   "id": "747bae90",
   "metadata": {},
   "outputs": [
    {
     "data": {
      "image/png": "[encoded data removed]",
      "text/plain": [
       "<Figure size 2000x1000 with 1 Axes>"
      ]
     },
     "metadata": {},
     "output_type": "display_data"
    }
   ],
   "source": [
    "import matplotlib\n",
    "\n",
    "def plot_quantum_vs_classical(rts, highest_acceptable_epsilon):\n",
    "    plt.figure(figsize=(20, 10))\n",
    "\n",
    "    fontsize = 60\n",
    "    legend_fontsize = 48\n",
    "    \n",
    "    matplotlib.rcParams.update({'font.size': fontsize})\n",
    "\n",
    "    x_padding = -16\n",
    "    \n",
    "    # Classical runtime\n",
    "    crt = rts[\"classical runtime\"].values[0]\n",
    "    plt.axhline(crt, linestyle=\":\", c=\"grey\")\n",
    "    #plt.text(x_padding, crt, \"$2.99 \\cdot 10^6$\", ha='center', va='center', c=\"grey\", fontsize=fontsize - 3)\n",
    "    plt.plot(rts[\"epsilon\"], rts[\"classical runtime\"], label=\"Class. Running Time\")\n",
    "    \n",
    "    # Quantum runtime\n",
    "    plt.plot(rts[\"epsilon\"], rts[\"average runtime\"], label=\"Quant. Running Time\")\n",
    "    plt.xlabel(\"$\\epsilon$\", fontsize=fontsize + 10)\n",
    "    plt.ylabel(\"runtime\", fontsize=fontsize + 10)\n",
    "\n",
    "    \n",
    "    plt.yscale('log')\n",
    "\n",
    "    plt.axvline(x=highest_acceptable_epsilon, c=\"red\")\n",
    "\n",
    "    plt.text(highest_acceptable_epsilon, 250, r'$\\epsilon^*$', ha='center', va='center', c=\"red\", fontsize=fontsize + 10)\n",
    "    \n",
    "    y = rts[rts[\"epsilon\"] == highest_acceptable_epsilon][\"average runtime\"].values[0]\n",
    "    plt.axhline(y, linestyle=\":\", c=\"grey\")\n",
    "\n",
    "    plt.grid(True)\n",
    "    plt.legend(fontsize=legend_fontsize, loc=\"upper right\", bbox_to_anchor=(1.02, 0.95))\n",
    "    \n",
    "    plt.xticks(rts[\"epsilon\"].values[0:-1:4])\n",
    "    plt.savefig(\"MNIST_quantum_runtime.pdf\", bbox_inches='tight')\n",
    "    \n",
    "plot_quantum_vs_classical(rts=rts[0:], highest_acceptable_epsilon=15)"
   ]
  },
  {
   "cell_type": "markdown",
   "id": "00d25fb8",
   "metadata": {},
   "source": [
    "### $\\delta_1= tuned$;  Norm Threshold = True; Anomalies = True"
   ]
  },
  {
   "cell_type": "code",
   "execution_count": null,
   "id": "4595c59b",
   "metadata": {
    "scrolled": true
   },
   "outputs": [],
   "source": [
    "epsilons_domain = np.arange(0, 200, 20) # [0, 0.1, 0.2, 0.4, 0.6, 0.8, 1.0, 1.2, 1.4, 1.6, 1.8, 2.0]\n",
    "summary4, rts4 = epsilon_tuning(datasplit=datasplit_with_anomalies, \n",
    "                                training_config=training_config, \n",
    "                                tuning_config=tuning_config,\n",
    "                                reshaper=(28,28),\n",
    "                                epsilons=epsilons_domain,\n",
    "                                use_norm_threshold=True,\n",
    "                                num_iterations=10,\n",
    "                                delta1=22.084108,\n",
    "                                ds_name=\"MNIST\",\n",
    "                                compute_runtimes=True)\n"
   ]
  },
  {
   "cell_type": "code",
   "execution_count": null,
   "id": "d050da4b",
   "metadata": {},
   "outputs": [],
   "source": [
    "summary4.head()"
   ]
  },
  {
   "cell_type": "code",
   "execution_count": null,
   "id": "f325b1b8",
   "metadata": {},
   "outputs": [],
   "source": [
    "def find_highest_acceptable_epsilon(summary):\n",
    "    starting_accuracy = summary.loc[0, \"Accuracy\"]\n",
    "    print(starting_accuracy)\n",
    "    accuracy_threshold = starting_accuracy * 0.975\n",
    "    print(accuracy_threshold)\n",
    "    highest_acceptable_epsilon = summary[\"epsilon\"][summary[\"Accuracy\"] >= accuracy_threshold][-1:].values[0]\n",
    "    return highest_acceptable_epsilon\n",
    "\n",
    "highest_acceptable_epsilon = find_highest_acceptable_epsilon(summary4)\n",
    "highest_acceptable_epsilon"
   ]
  },
  {
   "cell_type": "code",
   "execution_count": null,
   "id": "0f1b26d1",
   "metadata": {},
   "outputs": [],
   "source": [
    "from quantum_eigenfaces.utils.visualization import plot_metrics_at_varying_epsilon\n",
    "plot_metrics_at_varying_epsilon(summary4, \"MNIST\", epsilon_domain=epsilons_domain)"
   ]
  }
 ],
 "metadata": {
  "kernelspec": {
   "display_name": "QuantumEigenfaces",
   "language": "python",
   "name": "quantumeigenfaces"
  },
  "language_info": {
   "codemirror_mode": {
    "name": "ipython",
    "version": 3
   },
   "file_extension": ".py",
   "mimetype": "text/x-python",
   "name": "python",
   "nbconvert_exporter": "python",
   "pygments_lexer": "ipython3",
   "version": "3.9.16"
  }
 },
 "nbformat": 4,
 "nbformat_minor": 5
}
