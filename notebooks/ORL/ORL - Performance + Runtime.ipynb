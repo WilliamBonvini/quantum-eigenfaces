{
 "cells": [
  {
   "cell_type": "markdown",
   "id": "5813b0ef",
   "metadata": {},
   "source": [
    "## Setup"
   ]
  },
  {
   "cell_type": "code",
   "execution_count": 1,
   "id": "10844938",
   "metadata": {},
   "outputs": [],
   "source": [
    "import os\n",
    "os.chdir(\"../../quantum_eigenfaces/package/\")"
   ]
  },
  {
   "cell_type": "code",
   "execution_count": 2,
   "id": "de0c6cfd",
   "metadata": {},
   "outputs": [],
   "source": [
    "import glob\n",
    "import re\n",
    "\n",
    "import numpy as np\n",
    "import pandas as pd\n",
    "from PIL import Image\n",
    "\n",
    "from quantum_eigenfaces import ORL_DATASET_PATH\n",
    "from quantum_eigenfaces.utils.utils import DataSplit, TrainingConfig, TuningConfig\n",
    "from quantum_eigenfaces.quantum_model import QuantumModel\n",
    "from quantum_eigenfaces.epsilon_tuning import epsilon_tuning \n",
    "from quantum_eigenfaces.utils.visualization import plot_metrics_at_varying_epsilon\n"
   ]
  },
  {
   "cell_type": "markdown",
   "id": "31c864f1",
   "metadata": {},
   "source": [
    "## Load ORL Dataset\n",
    "\n",
    "Subject IDs:\n",
    "[1, 2, 3, 4, 5, 6, 7, 8, 9, 10, 11, 12, 13, 14, 15, 16, 17, 18, 19, 20, 21, 22, 23, 24, 25, 26, 27, 28, 29, 30, 31, 32, 33, 34, 35, 36, 37, 38, 39, 40]"
   ]
  },
  {
   "cell_type": "code",
   "execution_count": 3,
   "id": "4f3f20fb",
   "metadata": {},
   "outputs": [
    {
     "data": {
      "text/html": [
       "<div>\n",
       "<style scoped>\n",
       "    .dataframe tbody tr th:only-of-type {\n",
       "        vertical-align: middle;\n",
       "    }\n",
       "\n",
       "    .dataframe tbody tr th {\n",
       "        vertical-align: top;\n",
       "    }\n",
       "\n",
       "    .dataframe thead th {\n",
       "        text-align: right;\n",
       "    }\n",
       "</style>\n",
       "<table border=\"1\" class=\"dataframe\">\n",
       "  <thead>\n",
       "    <tr style=\"text-align: right;\">\n",
       "      <th></th>\n",
       "      <th>X</th>\n",
       "      <th>pic_id</th>\n",
       "      <th>y</th>\n",
       "    </tr>\n",
       "  </thead>\n",
       "  <tbody>\n",
       "    <tr>\n",
       "      <th>0</th>\n",
       "      <td>[[48.0, 49.0, 45.0, 47.0, 49.0, 57.0, 39.0, 42...</td>\n",
       "      <td>1</td>\n",
       "      <td>1</td>\n",
       "    </tr>\n",
       "    <tr>\n",
       "      <th>1</th>\n",
       "      <td>[[34.0, 34.0, 33.0, 32.0, 38.0, 40.0, 39.0, 49...</td>\n",
       "      <td>10</td>\n",
       "      <td>1</td>\n",
       "    </tr>\n",
       "    <tr>\n",
       "      <th>2</th>\n",
       "      <td>[[60.0, 60.0, 62.0, 53.0, 48.0, 51.0, 61.0, 60...</td>\n",
       "      <td>2</td>\n",
       "      <td>1</td>\n",
       "    </tr>\n",
       "    <tr>\n",
       "      <th>3</th>\n",
       "      <td>[[39.0, 44.0, 53.0, 37.0, 61.0, 48.0, 61.0, 45...</td>\n",
       "      <td>3</td>\n",
       "      <td>1</td>\n",
       "    </tr>\n",
       "    <tr>\n",
       "      <th>4</th>\n",
       "      <td>[[63.0, 53.0, 35.0, 36.0, 33.0, 34.0, 31.0, 35...</td>\n",
       "      <td>4</td>\n",
       "      <td>1</td>\n",
       "    </tr>\n",
       "  </tbody>\n",
       "</table>\n",
       "</div>"
      ],
      "text/plain": [
       "                                                   X  pic_id  y\n",
       "0  [[48.0, 49.0, 45.0, 47.0, 49.0, 57.0, 39.0, 42...       1  1\n",
       "1  [[34.0, 34.0, 33.0, 32.0, 38.0, 40.0, 39.0, 49...      10  1\n",
       "2  [[60.0, 60.0, 62.0, 53.0, 48.0, 51.0, 61.0, 60...       2  1\n",
       "3  [[39.0, 44.0, 53.0, 37.0, 61.0, 48.0, 61.0, 45...       3  1\n",
       "4  [[63.0, 53.0, 35.0, 36.0, 33.0, 34.0, 31.0, 35...       4  1"
      ]
     },
     "execution_count": 3,
     "metadata": {},
     "output_type": "execute_result"
    }
   ],
   "source": [
    "# original shape: (112, 92)\n",
    "X = np.zeros((400, 112, 92))\n",
    "y = np.zeros((400,), dtype=\"int\")\n",
    "pic_ids = np.zeros((400,), dtype=\"int\")\n",
    "\n",
    "i = 0\n",
    "for subject in sorted(os.listdir(ORL_DATASET_PATH)):\n",
    "    subject_path = os.path.join(ORL_DATASET_PATH, subject) \n",
    "    if subject == \".DS_Store\":\n",
    "        continue\n",
    "    \n",
    "    for pic in sorted(os.listdir(subject_path)): \n",
    "        filepath = os.path.join(subject_path, pic)\n",
    "        X[i] = Image.open(filepath)\n",
    "        pic_id = int(pic.replace(\".pgm\", \"\"))\n",
    "        pic_ids[i] = pic_id\n",
    "        subject_id = int(subject.replace(\"s\", \"\"))\n",
    "        y[i] = subject_id\n",
    "        i += 1\n",
    "\n",
    "df = pd.DataFrame({\"X\": X.tolist(), \"pic_id\": pic_ids, \"y\": y})\n",
    "df.head()"
   ]
  },
  {
   "cell_type": "code",
   "execution_count": 4,
   "id": "975552dd",
   "metadata": {},
   "outputs": [],
   "source": [
    "subject_ids = df[\"y\"].unique()"
   ]
  },
  {
   "cell_type": "markdown",
   "id": "7f14e9f1",
   "metadata": {},
   "source": [
    "### Split data"
   ]
  },
  {
   "cell_type": "code",
   "execution_count": 5,
   "id": "4e6da5d4",
   "metadata": {},
   "outputs": [],
   "source": [
    "\n",
    "# Training\n",
    "training_subjects              = list(range(1, 36 + 1))\n",
    "pic_ids_in_training            = [0, 1, 2, 3, 4, 5, 6, 7, 8]\n",
    "# Valid\n",
    "valid_anomalies                = [37, 38]\n",
    "pic_ids_in_valid_anomalies     = [0, 1, 2, 3, 4, 5, 6, 7, 8, 9]\n",
    "pic_ids_in_valid_non_anomalies = [9]\n",
    "# Test\n",
    "test_anomalies                 = [39, 40]\n",
    "pic_ids_in_test_anomalies      = [0, 1, 2, 3, 4, 5, 6, 7, 8, 9] \n",
    "pic_ids_in_test_non_anomalies  = [10]\n",
    "\n",
    "\n",
    "\n",
    "\n",
    "# How things were:\n",
    "if False:\n",
    "    # Training\n",
    "    training_subjects              = list(range(1, 36 + 1))\n",
    "    pic_ids_in_training            = [0, 1, 2, 3, 4, 5, 6]\n",
    "    \n",
    "    # Valid\n",
    "    valid_anomalies                = [37, 38]\n",
    "    pic_ids_in_valid_anomalies     = [0, 1, 2, 3, 4, 5, 6, 7, 8, 9]\n",
    "    pic_ids_in_valid_non_anomalies = [7, 8]\n",
    "    # Test\n",
    "    test_anomalies                 = [39, 40]\n",
    "    pic_ids_in_test_anomalies      = [0, 1, 2, 3, 4, 5, 6, 7, 8, 9] \n",
    "    pic_ids_in_test_non_anomalies  = [9, 10]"
   ]
  },
  {
   "cell_type": "code",
   "execution_count": 6,
   "id": "ac3886c5",
   "metadata": {},
   "outputs": [],
   "source": [
    "# Training\n",
    "train_df = df[(df[\"y\"].isin(training_subjects)) & (df[\"pic_id\"].isin(pic_ids_in_training))]\n",
    "\n",
    "# Validation\n",
    "anomalies_cond = ((df[\"y\"].isin(valid_anomalies)) & (df[\"pic_id\"].isin(pic_ids_in_valid_anomalies)))\n",
    "non_anomalies_cond = ((df[\"y\"].isin(training_subjects)) & (df[\"pic_id\"].isin(pic_ids_in_valid_non_anomalies)))\n",
    "valid_df_without_anomalies = df[non_anomalies_cond]\n",
    "valid_df_with_anomalies = df[anomalies_cond | non_anomalies_cond]\n",
    "\n",
    "# Test\n",
    "anomalies_cond = (df[\"y\"].isin(test_anomalies) & df[\"pic_id\"].isin(pic_ids_in_test_anomalies))\n",
    "non_anomalies_cond = ((df[\"y\"].isin(training_subjects)) & (df[\"pic_id\"].isin(pic_ids_in_test_non_anomalies)))\n",
    "test_df_without_anomalies = df[non_anomalies_cond]\n",
    "test_df_with_anomalies = df[anomalies_cond | non_anomalies_cond]\n",
    "\n",
    "\n",
    "# recover numpy arrays\n",
    "X_train, y_train = np.stack(train_df['X'].to_numpy()), train_df['y'].apply(int).to_numpy()\n",
    "X_valid_wa, y_valid_wa = np.stack(valid_df_with_anomalies['X'].to_numpy()), valid_df_with_anomalies['y'].apply(int).to_numpy()\n",
    "X_valid_na, y_valid_na = np.stack(valid_df_without_anomalies['X'].to_numpy()), valid_df_without_anomalies['y'].apply(int).to_numpy()\n",
    "X_test_wa, y_test_wa = np.stack(test_df_with_anomalies['X'].to_numpy()), test_df_with_anomalies['y'].apply(int).to_numpy()\n",
    "X_test_na, y_test_na = np.stack(test_df_without_anomalies['X'].to_numpy()), test_df_without_anomalies['y'].apply(int).to_numpy()\n",
    "\n",
    "# reshaping\n",
    "a, b, c = X_train.shape\n",
    "X_train = X_train.reshape(a, b*c)\n",
    "\n",
    "a, b, c = X_valid_na.shape\n",
    "X_valid_na = X_valid_na.reshape(a, b*c)\n",
    "\n",
    "a, b, c = X_valid_wa.shape\n",
    "X_valid_wa = X_valid_wa.reshape(a, b*c)\n",
    "\n",
    "a, b, c = X_test_na.shape\n",
    "X_test_na = X_test_na.reshape(a, b*c)\n",
    "\n",
    "a, b, c = X_test_wa.shape\n",
    "X_test_wa = X_test_wa.reshape(a, b*c)\n",
    "\n",
    "\n"
   ]
  },
  {
   "cell_type": "markdown",
   "id": "9d6dfe73",
   "metadata": {},
   "source": [
    "### Normalization"
   ]
  },
  {
   "cell_type": "code",
   "execution_count": 7,
   "id": "aa698a1b",
   "metadata": {},
   "outputs": [],
   "source": [
    "X_train_n    = X_train / 255\n",
    "X_valid_na_n = X_valid_na / 255\n",
    "X_valid_wa_n = X_valid_wa / 255\n",
    "X_test_na_n = X_test_na / 255\n",
    "X_test_wa_n  = X_test_wa / 255"
   ]
  },
  {
   "cell_type": "code",
   "execution_count": 8,
   "id": "f2241b5d",
   "metadata": {
    "scrolled": true
   },
   "outputs": [
    {
     "name": "stdout",
     "output_type": "stream",
     "text": [
      "X_train_n:    (288, 10304)\n",
      "y_train_n:    (288,)\n",
      "------------------------\n",
      "X_valid_na_n: (36, 10304)\n",
      "y_valid_na: (36,)\n",
      "X_valid_wa_n: (54, 10304)\n",
      "y_valid_wa: (54,)\n",
      "------------------------\n",
      "X_test_na_n:  (36, 10304)\n",
      "y_test_na:  (36,)\n",
      "X_test_wa_n:  (54, 10304)\n",
      "y_test_wa:  (54,)\n"
     ]
    }
   ],
   "source": [
    "\n",
    "print(f\"X_train_n:    {X_train_n.shape}\")\n",
    "print(f\"y_train_n:    {y_train.shape}\")\n",
    "print(\"------------------------\")\n",
    "print(f\"X_valid_na_n: {X_valid_na_n.shape}\")\n",
    "print(f\"y_valid_na: {y_valid_na.shape}\")\n",
    "print(f\"X_valid_wa_n: {X_valid_wa_n.shape}\")\n",
    "print(f\"y_valid_wa: {y_valid_wa.shape}\")\n",
    "print(\"------------------------\")\n",
    "print(f\"X_test_na_n:  {X_test_na_n.shape}\")\n",
    "print(f\"y_test_na:  {y_test_na.shape}\")\n",
    "print(f\"X_test_wa_n:  {X_test_wa_n.shape}\")\n",
    "print(f\"y_test_wa:  {y_test_wa.shape}\")"
   ]
  },
  {
   "cell_type": "code",
   "execution_count": 9,
   "id": "49400052",
   "metadata": {},
   "outputs": [],
   "source": [
    "reshaper = (112, 92)"
   ]
  },
  {
   "cell_type": "markdown",
   "id": "37fd2d44",
   "metadata": {},
   "source": [
    "### Formalize dataset splits and fitting configurations"
   ]
  },
  {
   "cell_type": "code",
   "execution_count": 10,
   "id": "7f691203",
   "metadata": {},
   "outputs": [],
   "source": [
    "\n",
    "datasplit_without_outliers = DataSplit(X_train=X_train_n, \n",
    "                                       y_train=y_train, \n",
    "                                       X_valid=X_valid_na_n, \n",
    "                                       y_valid=y_valid_na, \n",
    "                                       X_test=X_test_na_n, \n",
    "                                       y_test=y_test_na)\n",
    "\n",
    "datasplit_with_outliers = DataSplit(X_train=X_train_n, \n",
    "                                    y_train=y_train, \n",
    "                                    X_valid=X_valid_wa_n, \n",
    "                                    y_valid=y_valid_wa, \n",
    "                                    X_test=X_test_wa_n, \n",
    "                                    y_test=y_test_wa)\n",
    "\n",
    "training_config = TrainingConfig(n_components=70)\n",
    "tuning_config = TuningConfig(tot_num_of_deltas=3200)\n"
   ]
  },
  {
   "cell_type": "markdown",
   "id": "0b0ac2bf",
   "metadata": {},
   "source": [
    "## Classical Algorithm\n"
   ]
  },
  {
   "cell_type": "markdown",
   "id": "014c267d",
   "metadata": {},
   "source": [
    "### $\\delta_1= \\infty$;  Norm Threshold = False; Outliers = False "
   ]
  },
  {
   "cell_type": "code",
   "execution_count": 11,
   "id": "f9c2eeb8",
   "metadata": {
    "scrolled": true
   },
   "outputs": [
    {
     "name": "stdout",
     "output_type": "stream",
     "text": [
      "********* TRAINING **************\n",
      "Normalization Threshold is: 0.853561\n",
      "********* TUNING **************\n",
      "delta1 has been chosen by the user. No delta1 tuning is performed.\n",
      "_______\n",
      "Epsilon: 0.0\n",
      "Compute predictions...\n",
      "The norm threshold is not going to be used.\n",
      "********* TESTING **************\n"
     ]
    },
    {
     "name": "stderr",
     "output_type": "stream",
     "text": [
      "                                                                                "
     ]
    },
    {
     "name": "stdout",
     "output_type": "stream",
     "text": [
      "Avg Accuracy: 0.9444444444444444\n",
      "Avg Accuracy Train: 0.9444444444444444\n",
      "Avg Recall: 0.0\n"
     ]
    },
    {
     "name": "stderr",
     "output_type": "stream",
     "text": [
      "\r"
     ]
    }
   ],
   "source": [
    "np.random.seed(0)\n",
    "\n",
    "summary = epsilon_tuning(datasplit=datasplit_without_outliers, \n",
    "               training_config=training_config, \n",
    "               tuning_config=tuning_config,\n",
    "               reshaper=reshaper,\n",
    "               epsilons=[0.0],\n",
    "               xi=0,\n",
    "               use_norm_threshold=False,\n",
    "               num_iterations=1,\n",
    "               delta1=10000,\n",
    "               visuals=False) \n"
   ]
  },
  {
   "cell_type": "code",
   "execution_count": 12,
   "id": "2a22e50a",
   "metadata": {
    "scrolled": true
   },
   "outputs": [
    {
     "data": {
      "text/html": [
       "<div>\n",
       "<style scoped>\n",
       "    .dataframe tbody tr th:only-of-type {\n",
       "        vertical-align: middle;\n",
       "    }\n",
       "\n",
       "    .dataframe tbody tr th {\n",
       "        vertical-align: top;\n",
       "    }\n",
       "\n",
       "    .dataframe thead th {\n",
       "        text-align: right;\n",
       "    }\n",
       "</style>\n",
       "<table border=\"1\" class=\"dataframe\">\n",
       "  <thead>\n",
       "    <tr style=\"text-align: right;\">\n",
       "      <th></th>\n",
       "      <th>epsilon</th>\n",
       "      <th>Accuracy</th>\n",
       "      <th>Accuracy Train</th>\n",
       "      <th>False Acceptance Rate</th>\n",
       "      <th>False Recognition Rate</th>\n",
       "      <th>Precision</th>\n",
       "      <th>Recall</th>\n",
       "      <th>F1-Score</th>\n",
       "      <th>Stddev Accuracy</th>\n",
       "      <th>Stddev Accuracy Train</th>\n",
       "      <th>Stddev False Acceptance Rate</th>\n",
       "      <th>Stddev False Recognition Rate</th>\n",
       "      <th>Stddev Precision</th>\n",
       "      <th>Stddev Recall</th>\n",
       "      <th>Stddev F1-Score</th>\n",
       "    </tr>\n",
       "  </thead>\n",
       "  <tbody>\n",
       "    <tr>\n",
       "      <th>0</th>\n",
       "      <td>0.0</td>\n",
       "      <td>0.944444</td>\n",
       "      <td>0.944444</td>\n",
       "      <td>0.0</td>\n",
       "      <td>0.0</td>\n",
       "      <td>0.0</td>\n",
       "      <td>0.0</td>\n",
       "      <td>0.0</td>\n",
       "      <td>0.0</td>\n",
       "      <td>0.0</td>\n",
       "      <td>0.0</td>\n",
       "      <td>0.0</td>\n",
       "      <td>0.0</td>\n",
       "      <td>0.0</td>\n",
       "      <td>0.0</td>\n",
       "    </tr>\n",
       "  </tbody>\n",
       "</table>\n",
       "</div>"
      ],
      "text/plain": [
       "   epsilon  Accuracy  Accuracy Train  False Acceptance Rate  \\\n",
       "0      0.0  0.944444        0.944444                    0.0   \n",
       "\n",
       "   False Recognition Rate  Precision  Recall  F1-Score  Stddev Accuracy  \\\n",
       "0                     0.0        0.0     0.0       0.0              0.0   \n",
       "\n",
       "   Stddev Accuracy Train  Stddev False Acceptance Rate  \\\n",
       "0                    0.0                           0.0   \n",
       "\n",
       "   Stddev False Recognition Rate  Stddev Precision  Stddev Recall  \\\n",
       "0                            0.0               0.0            0.0   \n",
       "\n",
       "   Stddev F1-Score  \n",
       "0              0.0  "
      ]
     },
     "execution_count": 12,
     "metadata": {},
     "output_type": "execute_result"
    }
   ],
   "source": [
    "summary"
   ]
  },
  {
   "cell_type": "markdown",
   "id": "6f40ef20",
   "metadata": {},
   "source": [
    "### $\\delta_1= tuned$;  Norm Threshold = False; Outliers = True "
   ]
  },
  {
   "cell_type": "code",
   "execution_count": 13,
   "id": "d9401060",
   "metadata": {
    "scrolled": true
   },
   "outputs": [
    {
     "name": "stdout",
     "output_type": "stream",
     "text": [
      "********* TRAINING **************\n",
      "Normalization Threshold is: 0.853561\n",
      "********* TUNING **************\n",
      "Min delta:  17.895230648638833 ; Max delta:  168.02271722272448\n"
     ]
    },
    {
     "name": "stderr",
     "output_type": "stream",
     "text": [
      "tuning delta1...: 100%|███████████████████| 3200/3200 [00:00<00:00, 6992.79it/s]\n"
     ]
    },
    {
     "name": "stdout",
     "output_type": "stream",
     "text": [
      "Chosen delta1: 74.38069747213684\n"
     ]
    },
    {
     "data": {
      "image/png": "[encoded data removed]",
      "text/plain": [
       "<Figure size 1500x500 with 3 Axes>"
      ]
     },
     "metadata": {},
     "output_type": "display_data"
    },
    {
     "name": "stdout",
     "output_type": "stream",
     "text": [
      "Saved plot at DELTA_acc.pdf\n",
      "Saved plot at DELTA_pre_rec_and_f1.pdf\n",
      "Saved plot at DELTA_far_and_frr.pdf\n",
      "_______\n",
      "Epsilon: 0.0\n",
      "Compute predictions...\n",
      "The norm threshold is not going to be used.\n",
      "********* TESTING **************\n"
     ]
    },
    {
     "name": "stderr",
     "output_type": "stream",
     "text": [
      "                                                                                "
     ]
    },
    {
     "name": "stdout",
     "output_type": "stream",
     "text": [
      "Avg Accuracy: 0.8703703703703703\n",
      "Avg Accuracy Train: 0.8333333333333334\n",
      "Avg Recall: 0.9444444444444444\n"
     ]
    },
    {
     "name": "stderr",
     "output_type": "stream",
     "text": [
      "\r"
     ]
    },
    {
     "data": {
      "text/plain": [
       "<Figure size 640x480 with 0 Axes>"
      ]
     },
     "metadata": {},
     "output_type": "display_data"
    },
    {
     "data": {
      "text/plain": [
       "<Figure size 600x800 with 0 Axes>"
      ]
     },
     "metadata": {},
     "output_type": "display_data"
    },
    {
     "data": {
      "text/plain": [
       "<Figure size 600x800 with 0 Axes>"
      ]
     },
     "metadata": {},
     "output_type": "display_data"
    },
    {
     "data": {
      "image/png": "[encoded data removed]",
      "text/plain": [
       "<Figure size 600x800 with 1 Axes>"
      ]
     },
     "metadata": {},
     "output_type": "display_data"
    }
   ],
   "source": [
    "np.random.seed(0)\n",
    "summary2 = epsilon_tuning(datasplit=datasplit_with_outliers, \n",
    "                training_config=training_config, \n",
    "                tuning_config=tuning_config,\n",
    "                reshaper=reshaper,\n",
    "                epsilons=[0.0],\n",
    "                xi=0,\n",
    "                use_norm_threshold=False,\n",
    "                num_iterations=1)\n"
   ]
  },
  {
   "cell_type": "code",
   "execution_count": 14,
   "id": "52ab1510",
   "metadata": {},
   "outputs": [
    {
     "data": {
      "text/html": [
       "<div>\n",
       "<style scoped>\n",
       "    .dataframe tbody tr th:only-of-type {\n",
       "        vertical-align: middle;\n",
       "    }\n",
       "\n",
       "    .dataframe tbody tr th {\n",
       "        vertical-align: top;\n",
       "    }\n",
       "\n",
       "    .dataframe thead th {\n",
       "        text-align: right;\n",
       "    }\n",
       "</style>\n",
       "<table border=\"1\" class=\"dataframe\">\n",
       "  <thead>\n",
       "    <tr style=\"text-align: right;\">\n",
       "      <th></th>\n",
       "      <th>epsilon</th>\n",
       "      <th>Accuracy</th>\n",
       "      <th>Accuracy Train</th>\n",
       "      <th>False Acceptance Rate</th>\n",
       "      <th>False Recognition Rate</th>\n",
       "      <th>Precision</th>\n",
       "      <th>Recall</th>\n",
       "      <th>F1-Score</th>\n",
       "      <th>Stddev Accuracy</th>\n",
       "      <th>Stddev Accuracy Train</th>\n",
       "      <th>Stddev False Acceptance Rate</th>\n",
       "      <th>Stddev False Recognition Rate</th>\n",
       "      <th>Stddev Precision</th>\n",
       "      <th>Stddev Recall</th>\n",
       "      <th>Stddev F1-Score</th>\n",
       "    </tr>\n",
       "  </thead>\n",
       "  <tbody>\n",
       "    <tr>\n",
       "      <th>0</th>\n",
       "      <td>0.0</td>\n",
       "      <td>0.87037</td>\n",
       "      <td>0.833333</td>\n",
       "      <td>0.018519</td>\n",
       "      <td>0.092593</td>\n",
       "      <td>0.772727</td>\n",
       "      <td>0.944444</td>\n",
       "      <td>0.85</td>\n",
       "      <td>0.0</td>\n",
       "      <td>0.0</td>\n",
       "      <td>0.0</td>\n",
       "      <td>0.0</td>\n",
       "      <td>0.0</td>\n",
       "      <td>0.0</td>\n",
       "      <td>0.0</td>\n",
       "    </tr>\n",
       "  </tbody>\n",
       "</table>\n",
       "</div>"
      ],
      "text/plain": [
       "   epsilon  Accuracy  Accuracy Train  False Acceptance Rate  \\\n",
       "0      0.0   0.87037        0.833333               0.018519   \n",
       "\n",
       "   False Recognition Rate  Precision    Recall  F1-Score  Stddev Accuracy  \\\n",
       "0                0.092593   0.772727  0.944444      0.85              0.0   \n",
       "\n",
       "   Stddev Accuracy Train  Stddev False Acceptance Rate  \\\n",
       "0                    0.0                           0.0   \n",
       "\n",
       "   Stddev False Recognition Rate  Stddev Precision  Stddev Recall  \\\n",
       "0                            0.0               0.0            0.0   \n",
       "\n",
       "   Stddev F1-Score  \n",
       "0              0.0  "
      ]
     },
     "execution_count": 14,
     "metadata": {},
     "output_type": "execute_result"
    }
   ],
   "source": [
    "summary2 "
   ]
  },
  {
   "cell_type": "markdown",
   "id": "10616f75",
   "metadata": {},
   "source": [
    "### $\\delta_1= tuned$;  Norm Threshold = True; Outliers = True "
   ]
  },
  {
   "cell_type": "code",
   "execution_count": 15,
   "id": "221c9632",
   "metadata": {},
   "outputs": [
    {
     "name": "stdout",
     "output_type": "stream",
     "text": [
      "********* TRAINING **************\n",
      "Normalization Threshold has been chosen by the user: 0.75\n",
      "********* TUNING **************\n",
      "Min delta:  17.895230648638833 ; Max delta:  168.02271722272448\n"
     ]
    },
    {
     "name": "stderr",
     "output_type": "stream",
     "text": [
      "tuning delta1...: 100%|███████████████████| 3200/3200 [00:00<00:00, 6576.96it/s]\n"
     ]
    },
    {
     "name": "stdout",
     "output_type": "stream",
     "text": [
      "Chosen delta1: 74.38069747213684\n"
     ]
    },
    {
     "data": {
      "image/png": "[encoded data removed]",
      "text/plain": [
       "<Figure size 1500x500 with 3 Axes>"
      ]
     },
     "metadata": {},
     "output_type": "display_data"
    },
    {
     "name": "stdout",
     "output_type": "stream",
     "text": [
      "Saved plot at DELTA_acc.pdf\n",
      "Saved plot at DELTA_pre_rec_and_f1.pdf\n",
      "Saved plot at DELTA_far_and_frr.pdf\n",
      "_______\n",
      "Epsilon: 0.0\n",
      "Compute predictions...\n",
      "********* TESTING **************\n"
     ]
    },
    {
     "name": "stderr",
     "output_type": "stream",
     "text": [
      "                                                                                "
     ]
    },
    {
     "name": "stdout",
     "output_type": "stream",
     "text": [
      "Avg Accuracy: 0.8703703703703703\n",
      "Avg Accuracy Train: 0.8333333333333334\n",
      "Avg Recall: 0.9444444444444444\n"
     ]
    },
    {
     "name": "stderr",
     "output_type": "stream",
     "text": [
      "\r"
     ]
    },
    {
     "data": {
      "text/plain": [
       "<Figure size 640x480 with 0 Axes>"
      ]
     },
     "metadata": {},
     "output_type": "display_data"
    },
    {
     "data": {
      "text/plain": [
       "<Figure size 600x800 with 0 Axes>"
      ]
     },
     "metadata": {},
     "output_type": "display_data"
    },
    {
     "data": {
      "text/plain": [
       "<Figure size 600x800 with 0 Axes>"
      ]
     },
     "metadata": {},
     "output_type": "display_data"
    },
    {
     "data": {
      "image/png": "[encoded data removed]",
      "text/plain": [
       "<Figure size 600x800 with 1 Axes>"
      ]
     },
     "metadata": {},
     "output_type": "display_data"
    }
   ],
   "source": [
    "np.random.seed(0)\n",
    "\n",
    "summary3 = epsilon_tuning(datasplit=datasplit_with_outliers, \n",
    "                training_config=training_config, \n",
    "                tuning_config=tuning_config,\n",
    "                reshaper=reshaper,\n",
    "                epsilons=[0.0],\n",
    "                xi=0,\n",
    "                use_norm_threshold=True,\n",
    "                num_iterations=1,\n",
    "                visuals=False,\n",
    "                norm_threshold=0.75,\n",
    "                delta1=None)"
   ]
  },
  {
   "cell_type": "code",
   "execution_count": 16,
   "id": "0a3c99b5",
   "metadata": {},
   "outputs": [
    {
     "data": {
      "text/html": [
       "<div>\n",
       "<style scoped>\n",
       "    .dataframe tbody tr th:only-of-type {\n",
       "        vertical-align: middle;\n",
       "    }\n",
       "\n",
       "    .dataframe tbody tr th {\n",
       "        vertical-align: top;\n",
       "    }\n",
       "\n",
       "    .dataframe thead th {\n",
       "        text-align: right;\n",
       "    }\n",
       "</style>\n",
       "<table border=\"1\" class=\"dataframe\">\n",
       "  <thead>\n",
       "    <tr style=\"text-align: right;\">\n",
       "      <th></th>\n",
       "      <th>epsilon</th>\n",
       "      <th>Accuracy</th>\n",
       "      <th>Accuracy Train</th>\n",
       "      <th>False Acceptance Rate</th>\n",
       "      <th>False Recognition Rate</th>\n",
       "      <th>Precision</th>\n",
       "      <th>Recall</th>\n",
       "      <th>F1-Score</th>\n",
       "      <th>Stddev Accuracy</th>\n",
       "      <th>Stddev Accuracy Train</th>\n",
       "      <th>Stddev False Acceptance Rate</th>\n",
       "      <th>Stddev False Recognition Rate</th>\n",
       "      <th>Stddev Precision</th>\n",
       "      <th>Stddev Recall</th>\n",
       "      <th>Stddev F1-Score</th>\n",
       "    </tr>\n",
       "  </thead>\n",
       "  <tbody>\n",
       "    <tr>\n",
       "      <th>0</th>\n",
       "      <td>0.0</td>\n",
       "      <td>0.87037</td>\n",
       "      <td>0.833333</td>\n",
       "      <td>0.018519</td>\n",
       "      <td>0.092593</td>\n",
       "      <td>0.772727</td>\n",
       "      <td>0.944444</td>\n",
       "      <td>0.85</td>\n",
       "      <td>0.0</td>\n",
       "      <td>0.0</td>\n",
       "      <td>0.0</td>\n",
       "      <td>0.0</td>\n",
       "      <td>0.0</td>\n",
       "      <td>0.0</td>\n",
       "      <td>0.0</td>\n",
       "    </tr>\n",
       "  </tbody>\n",
       "</table>\n",
       "</div>"
      ],
      "text/plain": [
       "   epsilon  Accuracy  Accuracy Train  False Acceptance Rate  \\\n",
       "0      0.0   0.87037        0.833333               0.018519   \n",
       "\n",
       "   False Recognition Rate  Precision    Recall  F1-Score  Stddev Accuracy  \\\n",
       "0                0.092593   0.772727  0.944444      0.85              0.0   \n",
       "\n",
       "   Stddev Accuracy Train  Stddev False Acceptance Rate  \\\n",
       "0                    0.0                           0.0   \n",
       "\n",
       "   Stddev False Recognition Rate  Stddev Precision  Stddev Recall  \\\n",
       "0                            0.0               0.0            0.0   \n",
       "\n",
       "   Stddev F1-Score  \n",
       "0              0.0  "
      ]
     },
     "execution_count": 16,
     "metadata": {},
     "output_type": "execute_result"
    }
   ],
   "source": [
    "summary3"
   ]
  },
  {
   "cell_type": "markdown",
   "id": "50f2c54b",
   "metadata": {},
   "source": [
    "## Quantum Algorithm"
   ]
  },
  {
   "cell_type": "markdown",
   "id": "7710287f",
   "metadata": {},
   "source": [
    "### $\\delta_1= tuned$;  Norm Threshold = True; Outliers = True\n"
   ]
  },
  {
   "cell_type": "code",
   "execution_count": 17,
   "id": "378ae6f5",
   "metadata": {
    "scrolled": true
   },
   "outputs": [
    {
     "name": "stdout",
     "output_type": "stream",
     "text": [
      "********* TRAINING **************\n",
      "Normalization Threshold has been chosen by the user: 0.75\n",
      "********* TUNING **************\n",
      "Min delta:  17.895230648638833 ; Max delta:  168.02271722272448\n"
     ]
    },
    {
     "name": "stderr",
     "output_type": "stream",
     "text": [
      "tuning delta1...: 100%|███████████████████| 3200/3200 [00:00<00:00, 6536.63it/s]\n"
     ]
    },
    {
     "name": "stdout",
     "output_type": "stream",
     "text": [
      "Chosen delta1: 74.38069747213684\n"
     ]
    },
    {
     "data": {
      "image/png": "[encoded data removed]",
      "text/plain": [
       "<Figure size 1500x500 with 3 Axes>"
      ]
     },
     "metadata": {},
     "output_type": "display_data"
    },
    {
     "name": "stdout",
     "output_type": "stream",
     "text": [
      "Saved plot at DELTA_acc.pdf\n",
      "Saved plot at DELTA_pre_rec_and_f1.pdf\n",
      "Saved plot at DELTA_far_and_frr.pdf\n",
      "_______\n",
      "Epsilon: 0\n",
      "Computing runtimes...\n",
      "Compute predictions...\n",
      "********* TESTING **************\n"
     ]
    },
    {
     "name": "stderr",
     "output_type": "stream",
     "text": [
      "                                                                                "
     ]
    },
    {
     "name": "stdout",
     "output_type": "stream",
     "text": [
      "Avg Accuracy: 0.8703703703703702\n",
      "Avg Accuracy Train: 0.8333333333333331\n",
      "Avg Recall: 0.9444444444444444\n",
      "_______\n",
      "Epsilon: 5\n",
      "Computing runtimes...\n"
     ]
    },
    {
     "name": "stderr",
     "output_type": "stream",
     "text": [
      "\r"
     ]
    },
    {
     "name": "stdout",
     "output_type": "stream",
     "text": [
      "sqrt p: 16.97056274847714\n",
      "mu: 8.343215095468386\n",
      "max_c_train_norm: 21.119071952988083\n",
      "avg U_bar_norms: 15.670539020110414\n",
      "epsilon: 5\n",
      "Compute predictions...\n",
      "********* TESTING **************\n"
     ]
    },
    {
     "name": "stderr",
     "output_type": "stream",
     "text": [
      "                                                                                "
     ]
    },
    {
     "name": "stdout",
     "output_type": "stream",
     "text": [
      "Avg Accuracy: 0.8609259259259257\n",
      "Avg Accuracy Train: 0.8277777777777777\n",
      "Avg Recall: 0.9272222222222222\n",
      "_______\n",
      "Epsilon: 10\n",
      "Computing runtimes...\n"
     ]
    },
    {
     "name": "stderr",
     "output_type": "stream",
     "text": [
      "\r"
     ]
    },
    {
     "name": "stdout",
     "output_type": "stream",
     "text": [
      "sqrt p: 16.97056274847714\n",
      "mu: 8.343215095468386\n",
      "max_c_train_norm: 21.119071952988083\n",
      "avg U_bar_norms: 15.670539020110414\n",
      "epsilon: 10\n",
      "Compute predictions...\n",
      "********* TESTING **************\n"
     ]
    },
    {
     "name": "stderr",
     "output_type": "stream",
     "text": [
      "                                                                                "
     ]
    },
    {
     "name": "stdout",
     "output_type": "stream",
     "text": [
      "Avg Accuracy: 0.8527777777777775\n",
      "Avg Accuracy Train: 0.8255555555555553\n",
      "Avg Recall: 0.9072222222222222\n",
      "_______\n",
      "Epsilon: 15\n",
      "Computing runtimes...\n"
     ]
    },
    {
     "name": "stderr",
     "output_type": "stream",
     "text": [
      "\r"
     ]
    },
    {
     "name": "stdout",
     "output_type": "stream",
     "text": [
      "sqrt p: 16.97056274847714\n",
      "mu: 8.343215095468386\n",
      "max_c_train_norm: 21.119071952988083\n",
      "avg U_bar_norms: 15.670539020110414\n",
      "epsilon: 15\n",
      "Compute predictions...\n",
      "********* TESTING **************\n"
     ]
    },
    {
     "name": "stderr",
     "output_type": "stream",
     "text": [
      "                                                                                "
     ]
    },
    {
     "name": "stdout",
     "output_type": "stream",
     "text": [
      "Avg Accuracy: 0.848148148148148\n",
      "Avg Accuracy Train: 0.8319444444444443\n",
      "Avg Recall: 0.8805555555555555\n",
      "_______\n",
      "Epsilon: 20\n",
      "Computing runtimes...\n"
     ]
    },
    {
     "name": "stderr",
     "output_type": "stream",
     "text": [
      "\r"
     ]
    },
    {
     "name": "stdout",
     "output_type": "stream",
     "text": [
      "sqrt p: 16.97056274847714\n",
      "mu: 8.343215095468386\n",
      "max_c_train_norm: 21.119071952988083\n",
      "avg U_bar_norms: 15.670539020110414\n",
      "epsilon: 20\n",
      "Compute predictions...\n",
      "********* TESTING **************\n"
     ]
    },
    {
     "name": "stderr",
     "output_type": "stream",
     "text": [
      "                                                                                "
     ]
    },
    {
     "name": "stdout",
     "output_type": "stream",
     "text": [
      "Avg Accuracy: 0.8414814814814813\n",
      "Avg Accuracy Train: 0.8313888888888888\n",
      "Avg Recall: 0.8616666666666666\n",
      "_______\n",
      "Epsilon: 25\n",
      "Computing runtimes...\n"
     ]
    },
    {
     "name": "stderr",
     "output_type": "stream",
     "text": [
      "\r"
     ]
    },
    {
     "name": "stdout",
     "output_type": "stream",
     "text": [
      "sqrt p: 16.97056274847714\n",
      "mu: 8.343215095468386\n",
      "max_c_train_norm: 21.119071952988083\n",
      "avg U_bar_norms: 15.670539020110414\n",
      "epsilon: 25\n",
      "Compute predictions...\n",
      "********* TESTING **************\n"
     ]
    },
    {
     "name": "stderr",
     "output_type": "stream",
     "text": [
      "                                                                                "
     ]
    },
    {
     "name": "stdout",
     "output_type": "stream",
     "text": [
      "Avg Accuracy: 0.8359259259259259\n",
      "Avg Accuracy Train: 0.8299999999999998\n",
      "Avg Recall: 0.8477777777777775\n",
      "_______\n",
      "Epsilon: 30\n",
      "Computing runtimes...\n"
     ]
    },
    {
     "name": "stderr",
     "output_type": "stream",
     "text": [
      "\r"
     ]
    },
    {
     "name": "stdout",
     "output_type": "stream",
     "text": [
      "sqrt p: 16.97056274847714\n",
      "mu: 8.343215095468386\n",
      "max_c_train_norm: 21.119071952988083\n",
      "avg U_bar_norms: 15.670539020110414\n",
      "epsilon: 30\n",
      "Compute predictions...\n",
      "********* TESTING **************\n"
     ]
    },
    {
     "name": "stderr",
     "output_type": "stream",
     "text": [
      "                                                                                "
     ]
    },
    {
     "name": "stdout",
     "output_type": "stream",
     "text": [
      "Avg Accuracy: 0.8335185185185183\n",
      "Avg Accuracy Train: 0.8266666666666665\n",
      "Avg Recall: 0.8472222222222221\n",
      "_______\n",
      "Epsilon: 35\n",
      "Computing runtimes...\n"
     ]
    },
    {
     "name": "stderr",
     "output_type": "stream",
     "text": [
      "\r"
     ]
    },
    {
     "name": "stdout",
     "output_type": "stream",
     "text": [
      "sqrt p: 16.97056274847714\n",
      "mu: 8.343215095468386\n",
      "max_c_train_norm: 21.119071952988083\n",
      "avg U_bar_norms: 15.670539020110414\n",
      "epsilon: 35\n",
      "Compute predictions...\n",
      "********* TESTING **************\n"
     ]
    },
    {
     "name": "stderr",
     "output_type": "stream",
     "text": [
      "                                                                                "
     ]
    },
    {
     "name": "stdout",
     "output_type": "stream",
     "text": [
      "Avg Accuracy: 0.8201851851851849\n",
      "Avg Accuracy Train: 0.8238888888888887\n",
      "Avg Recall: 0.8127777777777777\n",
      "_______\n",
      "Epsilon: 40\n",
      "Computing runtimes...\n"
     ]
    },
    {
     "name": "stderr",
     "output_type": "stream",
     "text": [
      "\r"
     ]
    },
    {
     "name": "stdout",
     "output_type": "stream",
     "text": [
      "sqrt p: 16.97056274847714\n",
      "mu: 8.343215095468386\n",
      "max_c_train_norm: 21.119071952988083\n",
      "avg U_bar_norms: 15.670539020110414\n",
      "epsilon: 40\n",
      "Compute predictions...\n",
      "********* TESTING **************\n"
     ]
    },
    {
     "name": "stderr",
     "output_type": "stream",
     "text": [
      "                                                                                "
     ]
    },
    {
     "name": "stdout",
     "output_type": "stream",
     "text": [
      "Avg Accuracy: 0.8118518518518516\n",
      "Avg Accuracy Train: 0.8249999999999998\n",
      "Avg Recall: 0.7855555555555557\n",
      "_______\n",
      "Epsilon: 45\n",
      "Computing runtimes...\n"
     ]
    },
    {
     "name": "stderr",
     "output_type": "stream",
     "text": [
      "\r"
     ]
    },
    {
     "name": "stdout",
     "output_type": "stream",
     "text": [
      "sqrt p: 16.97056274847714\n",
      "mu: 8.343215095468386\n",
      "max_c_train_norm: 21.119071952988083\n",
      "avg U_bar_norms: 15.670539020110414\n",
      "epsilon: 45\n",
      "Compute predictions...\n",
      "********* TESTING **************\n"
     ]
    },
    {
     "name": "stderr",
     "output_type": "stream",
     "text": [
      "                                                                                "
     ]
    },
    {
     "name": "stdout",
     "output_type": "stream",
     "text": [
      "Avg Accuracy: 0.7901851851851851\n",
      "Avg Accuracy Train: 0.8213888888888887\n",
      "Avg Recall: 0.7277777777777779\n",
      "_______\n",
      "Epsilon: 50\n",
      "Computing runtimes...\n"
     ]
    },
    {
     "name": "stderr",
     "output_type": "stream",
     "text": [
      "\r"
     ]
    },
    {
     "name": "stdout",
     "output_type": "stream",
     "text": [
      "sqrt p: 16.97056274847714\n",
      "mu: 8.343215095468386\n",
      "max_c_train_norm: 21.119071952988083\n",
      "avg U_bar_norms: 15.670539020110414\n",
      "epsilon: 50\n",
      "Compute predictions...\n",
      "********* TESTING **************\n"
     ]
    },
    {
     "name": "stderr",
     "output_type": "stream",
     "text": [
      "                                                                                "
     ]
    },
    {
     "name": "stdout",
     "output_type": "stream",
     "text": [
      "Avg Accuracy: 0.7725925925925925\n",
      "Avg Accuracy Train: 0.8169444444444445\n",
      "Avg Recall: 0.6838888888888889\n",
      "_______\n",
      "Epsilon: 55\n",
      "Computing runtimes...\n"
     ]
    },
    {
     "name": "stderr",
     "output_type": "stream",
     "text": [
      "\r"
     ]
    },
    {
     "name": "stdout",
     "output_type": "stream",
     "text": [
      "sqrt p: 16.97056274847714\n",
      "mu: 8.343215095468386\n",
      "max_c_train_norm: 21.119071952988083\n",
      "avg U_bar_norms: 15.670539020110414\n",
      "epsilon: 55\n",
      "Compute predictions...\n",
      "********* TESTING **************\n"
     ]
    },
    {
     "name": "stderr",
     "output_type": "stream",
     "text": [
      "                                                                                "
     ]
    },
    {
     "name": "stdout",
     "output_type": "stream",
     "text": [
      "Avg Accuracy: 0.7477777777777775\n",
      "Avg Accuracy Train: 0.8213888888888888\n",
      "Avg Recall: 0.6005555555555556\n",
      "_______\n",
      "Epsilon: 60\n",
      "Computing runtimes...\n"
     ]
    },
    {
     "name": "stderr",
     "output_type": "stream",
     "text": [
      "\r"
     ]
    },
    {
     "name": "stdout",
     "output_type": "stream",
     "text": [
      "sqrt p: 16.97056274847714\n",
      "mu: 8.343215095468386\n",
      "max_c_train_norm: 21.119071952988083\n",
      "avg U_bar_norms: 15.670539020110414\n",
      "epsilon: 60\n",
      "Compute predictions...\n",
      "********* TESTING **************\n"
     ]
    },
    {
     "name": "stderr",
     "output_type": "stream",
     "text": [
      "                                                                                "
     ]
    },
    {
     "name": "stdout",
     "output_type": "stream",
     "text": [
      "Avg Accuracy: 0.73\n",
      "Avg Accuracy Train: 0.8155555555555556\n",
      "Avg Recall: 0.5588888888888889\n",
      "_______\n",
      "Epsilon: 65\n",
      "Computing runtimes...\n"
     ]
    },
    {
     "name": "stderr",
     "output_type": "stream",
     "text": [
      "\r"
     ]
    },
    {
     "name": "stdout",
     "output_type": "stream",
     "text": [
      "sqrt p: 16.97056274847714\n",
      "mu: 8.343215095468386\n",
      "max_c_train_norm: 21.119071952988083\n",
      "avg U_bar_norms: 15.670539020110414\n",
      "epsilon: 65\n",
      "Compute predictions...\n",
      "********* TESTING **************\n"
     ]
    },
    {
     "name": "stderr",
     "output_type": "stream",
     "text": [
      "                                                                                "
     ]
    },
    {
     "name": "stdout",
     "output_type": "stream",
     "text": [
      "Avg Accuracy: 0.6996296296296297\n",
      "Avg Accuracy Train: 0.816111111111111\n",
      "Avg Recall: 0.4666666666666666\n",
      "_______\n",
      "Epsilon: 70\n",
      "Computing runtimes...\n"
     ]
    },
    {
     "name": "stderr",
     "output_type": "stream",
     "text": [
      "\r"
     ]
    },
    {
     "name": "stdout",
     "output_type": "stream",
     "text": [
      "sqrt p: 16.97056274847714\n",
      "mu: 8.343215095468386\n",
      "max_c_train_norm: 21.119071952988083\n",
      "avg U_bar_norms: 15.670539020110414\n",
      "epsilon: 70\n",
      "Compute predictions...\n",
      "********* TESTING **************\n"
     ]
    },
    {
     "name": "stderr",
     "output_type": "stream",
     "text": [
      "                                                                                "
     ]
    },
    {
     "name": "stdout",
     "output_type": "stream",
     "text": [
      "Avg Accuracy: 0.6870370370370372\n",
      "Avg Accuracy Train: 0.8269444444444445\n",
      "Avg Recall: 0.4072222222222222\n",
      "_______\n",
      "Epsilon: 75\n",
      "Computing runtimes...\n"
     ]
    },
    {
     "name": "stderr",
     "output_type": "stream",
     "text": [
      "\r"
     ]
    },
    {
     "name": "stdout",
     "output_type": "stream",
     "text": [
      "sqrt p: 16.97056274847714\n",
      "mu: 8.343215095468386\n",
      "max_c_train_norm: 21.119071952988083\n",
      "avg U_bar_norms: 15.670539020110414\n",
      "epsilon: 75\n",
      "Compute predictions...\n",
      "********* TESTING **************\n"
     ]
    },
    {
     "name": "stderr",
     "output_type": "stream",
     "text": [
      "                                                                                "
     ]
    },
    {
     "name": "stdout",
     "output_type": "stream",
     "text": [
      "Avg Accuracy: 0.666851851851852\n",
      "Avg Accuracy Train: 0.8183333333333332\n",
      "Avg Recall: 0.3638888888888889\n",
      "_______\n",
      "Epsilon: 80\n",
      "Computing runtimes...\n"
     ]
    },
    {
     "name": "stderr",
     "output_type": "stream",
     "text": [
      "\r"
     ]
    },
    {
     "name": "stdout",
     "output_type": "stream",
     "text": [
      "sqrt p: 16.97056274847714\n",
      "mu: 8.343215095468386\n",
      "max_c_train_norm: 21.119071952988083\n",
      "avg U_bar_norms: 15.670539020110414\n",
      "epsilon: 80\n",
      "Compute predictions...\n",
      "********* TESTING **************\n"
     ]
    },
    {
     "name": "stderr",
     "output_type": "stream",
     "text": [
      "                                                                                "
     ]
    },
    {
     "name": "stdout",
     "output_type": "stream",
     "text": [
      "Avg Accuracy: 0.6483333333333334\n",
      "Avg Accuracy Train: 0.8202777777777776\n",
      "Avg Recall: 0.3044444444444444\n",
      "_______\n",
      "Epsilon: 85\n",
      "Computing runtimes...\n"
     ]
    },
    {
     "name": "stderr",
     "output_type": "stream",
     "text": [
      "\r"
     ]
    },
    {
     "name": "stdout",
     "output_type": "stream",
     "text": [
      "sqrt p: 16.97056274847714\n",
      "mu: 8.343215095468386\n",
      "max_c_train_norm: 21.119071952988083\n",
      "avg U_bar_norms: 15.670539020110414\n",
      "epsilon: 85\n",
      "Compute predictions...\n",
      "********* TESTING **************\n"
     ]
    },
    {
     "name": "stderr",
     "output_type": "stream",
     "text": [
      "                                                                                "
     ]
    },
    {
     "name": "stdout",
     "output_type": "stream",
     "text": [
      "Avg Accuracy: 0.6301851851851851\n",
      "Avg Accuracy Train: 0.823611111111111\n",
      "Avg Recall: 0.2433333333333333\n",
      "_______\n",
      "Epsilon: 90\n",
      "Computing runtimes...\n"
     ]
    },
    {
     "name": "stderr",
     "output_type": "stream",
     "text": [
      "\r"
     ]
    },
    {
     "name": "stdout",
     "output_type": "stream",
     "text": [
      "sqrt p: 16.97056274847714\n",
      "mu: 8.343215095468386\n",
      "max_c_train_norm: 21.119071952988083\n",
      "avg U_bar_norms: 15.670539020110414\n",
      "epsilon: 90\n",
      "Compute predictions...\n",
      "********* TESTING **************\n"
     ]
    },
    {
     "name": "stderr",
     "output_type": "stream",
     "text": [
      "                                                                                "
     ]
    },
    {
     "name": "stdout",
     "output_type": "stream",
     "text": [
      "Avg Accuracy: 0.612962962962963\n",
      "Avg Accuracy Train: 0.8222222222222222\n",
      "Avg Recall: 0.19444444444444442\n",
      "_______\n",
      "Epsilon: 95\n",
      "Computing runtimes...\n"
     ]
    },
    {
     "name": "stderr",
     "output_type": "stream",
     "text": [
      "\r"
     ]
    },
    {
     "name": "stdout",
     "output_type": "stream",
     "text": [
      "sqrt p: 16.97056274847714\n",
      "mu: 8.343215095468386\n",
      "max_c_train_norm: 21.119071952988083\n",
      "avg U_bar_norms: 15.670539020110414\n",
      "epsilon: 95\n",
      "Compute predictions...\n",
      "********* TESTING **************\n"
     ]
    },
    {
     "name": "stderr",
     "output_type": "stream",
     "text": [
      "                                                                                "
     ]
    },
    {
     "name": "stdout",
     "output_type": "stream",
     "text": [
      "Avg Accuracy: 0.6050000000000001\n",
      "Avg Accuracy Train: 0.816111111111111\n",
      "Avg Recall: 0.1827777777777778\n",
      "_______\n",
      "Epsilon: 100\n",
      "Computing runtimes...\n"
     ]
    },
    {
     "name": "stderr",
     "output_type": "stream",
     "text": [
      "\r"
     ]
    },
    {
     "name": "stdout",
     "output_type": "stream",
     "text": [
      "sqrt p: 16.97056274847714\n",
      "mu: 8.343215095468386\n",
      "max_c_train_norm: 21.119071952988083\n",
      "avg U_bar_norms: 15.670539020110414\n",
      "epsilon: 100\n",
      "Compute predictions...\n",
      "********* TESTING **************\n"
     ]
    },
    {
     "name": "stderr",
     "output_type": "stream",
     "text": [
      "                                                                                "
     ]
    },
    {
     "name": "stdout",
     "output_type": "stream",
     "text": [
      "Avg Accuracy: 0.5868518518518518\n",
      "Avg Accuracy Train: 0.8152777777777779\n",
      "Avg Recall: 0.12999999999999998\n",
      "_______\n",
      "Epsilon: 105\n",
      "Computing runtimes...\n"
     ]
    },
    {
     "name": "stderr",
     "output_type": "stream",
     "text": [
      "\r"
     ]
    },
    {
     "name": "stdout",
     "output_type": "stream",
     "text": [
      "sqrt p: 16.97056274847714\n",
      "mu: 8.343215095468386\n",
      "max_c_train_norm: 21.119071952988083\n",
      "avg U_bar_norms: 15.670539020110414\n",
      "epsilon: 105\n",
      "Compute predictions...\n",
      "********* TESTING **************\n"
     ]
    },
    {
     "name": "stderr",
     "output_type": "stream",
     "text": [
      "                                                                                "
     ]
    },
    {
     "name": "stdout",
     "output_type": "stream",
     "text": [
      "Avg Accuracy: 0.5820370370370371\n",
      "Avg Accuracy Train: 0.8233333333333331\n",
      "Avg Recall: 0.09944444444444446\n",
      "_______\n",
      "Epsilon: 110\n",
      "Computing runtimes...\n"
     ]
    },
    {
     "name": "stderr",
     "output_type": "stream",
     "text": [
      "\r"
     ]
    },
    {
     "name": "stdout",
     "output_type": "stream",
     "text": [
      "sqrt p: 16.97056274847714\n",
      "mu: 8.343215095468386\n",
      "max_c_train_norm: 21.119071952988083\n",
      "avg U_bar_norms: 15.670539020110414\n",
      "epsilon: 110\n",
      "Compute predictions...\n",
      "********* TESTING **************\n"
     ]
    },
    {
     "name": "stderr",
     "output_type": "stream",
     "text": [
      "                                                                                "
     ]
    },
    {
     "name": "stdout",
     "output_type": "stream",
     "text": [
      "Avg Accuracy: 0.5672222222222223\n",
      "Avg Accuracy Train: 0.8136111111111112\n",
      "Avg Recall: 0.07444444444444445\n",
      "_______\n",
      "Epsilon: 115\n",
      "Computing runtimes...\n"
     ]
    },
    {
     "name": "stderr",
     "output_type": "stream",
     "text": [
      "\r"
     ]
    },
    {
     "name": "stdout",
     "output_type": "stream",
     "text": [
      "sqrt p: 16.97056274847714\n",
      "mu: 8.343215095468386\n",
      "max_c_train_norm: 21.119071952988083\n",
      "avg U_bar_norms: 15.670539020110414\n",
      "epsilon: 115\n",
      "Compute predictions...\n",
      "********* TESTING **************\n"
     ]
    },
    {
     "name": "stderr",
     "output_type": "stream",
     "text": [
      "                                                                                "
     ]
    },
    {
     "name": "stdout",
     "output_type": "stream",
     "text": [
      "Avg Accuracy: 0.5657407407407408\n",
      "Avg Accuracy Train: 0.8172222222222222\n",
      "Avg Recall: 0.06277777777777778\n",
      "_______\n",
      "Epsilon: 120\n",
      "Computing runtimes...\n"
     ]
    },
    {
     "name": "stderr",
     "output_type": "stream",
     "text": [
      "\r"
     ]
    },
    {
     "name": "stdout",
     "output_type": "stream",
     "text": [
      "sqrt p: 16.97056274847714\n",
      "mu: 8.343215095468386\n",
      "max_c_train_norm: 21.119071952988083\n",
      "avg U_bar_norms: 15.670539020110414\n",
      "epsilon: 120\n",
      "Compute predictions...\n",
      "********* TESTING **************\n"
     ]
    },
    {
     "name": "stderr",
     "output_type": "stream",
     "text": [
      "                                                                                "
     ]
    },
    {
     "name": "stdout",
     "output_type": "stream",
     "text": [
      "Avg Accuracy: 0.5605555555555556\n",
      "Avg Accuracy Train: 0.8130555555555555\n",
      "Avg Recall: 0.055555555555555546\n",
      "_______\n",
      "Epsilon: 125\n",
      "Computing runtimes...\n"
     ]
    },
    {
     "name": "stderr",
     "output_type": "stream",
     "text": [
      "\r"
     ]
    },
    {
     "name": "stdout",
     "output_type": "stream",
     "text": [
      "sqrt p: 16.97056274847714\n",
      "mu: 8.343215095468386\n",
      "max_c_train_norm: 21.119071952988083\n",
      "avg U_bar_norms: 15.670539020110414\n",
      "epsilon: 125\n",
      "Compute predictions...\n",
      "********* TESTING **************\n"
     ]
    },
    {
     "name": "stderr",
     "output_type": "stream",
     "text": [
      "                                                                                "
     ]
    },
    {
     "name": "stdout",
     "output_type": "stream",
     "text": [
      "Avg Accuracy: 0.5520370370370371\n",
      "Avg Accuracy Train: 0.8102777777777779\n",
      "Avg Recall: 0.035555555555555556\n",
      "_______\n",
      "Epsilon: 130\n",
      "Computing runtimes...\n"
     ]
    },
    {
     "name": "stderr",
     "output_type": "stream",
     "text": [
      "\r"
     ]
    },
    {
     "name": "stdout",
     "output_type": "stream",
     "text": [
      "sqrt p: 16.97056274847714\n",
      "mu: 8.343215095468386\n",
      "max_c_train_norm: 21.119071952988083\n",
      "avg U_bar_norms: 15.670539020110414\n",
      "epsilon: 130\n",
      "Compute predictions...\n",
      "********* TESTING **************\n"
     ]
    },
    {
     "name": "stderr",
     "output_type": "stream",
     "text": [
      "                                                                                "
     ]
    },
    {
     "name": "stdout",
     "output_type": "stream",
     "text": [
      "Avg Accuracy: 0.5444444444444445\n",
      "Avg Accuracy Train: 0.8022222222222222\n",
      "Avg Recall: 0.028888888888888888\n",
      "_______\n",
      "Epsilon: 135\n",
      "Computing runtimes...\n"
     ]
    },
    {
     "name": "stderr",
     "output_type": "stream",
     "text": [
      "\r"
     ]
    },
    {
     "name": "stdout",
     "output_type": "stream",
     "text": [
      "sqrt p: 16.97056274847714\n",
      "mu: 8.343215095468386\n",
      "max_c_train_norm: 21.119071952988083\n",
      "avg U_bar_norms: 15.670539020110414\n",
      "epsilon: 135\n",
      "Compute predictions...\n",
      "********* TESTING **************\n"
     ]
    },
    {
     "name": "stderr",
     "output_type": "stream",
     "text": [
      "                                                                                "
     ]
    },
    {
     "name": "stdout",
     "output_type": "stream",
     "text": [
      "Avg Accuracy: 0.5429629629629631\n",
      "Avg Accuracy Train: 0.804722222222222\n",
      "Avg Recall: 0.019444444444444445\n",
      "_______\n",
      "Epsilon: 140\n",
      "Computing runtimes...\n"
     ]
    },
    {
     "name": "stderr",
     "output_type": "stream",
     "text": [
      "\r"
     ]
    },
    {
     "name": "stdout",
     "output_type": "stream",
     "text": [
      "sqrt p: 16.97056274847714\n",
      "mu: 8.343215095468386\n",
      "max_c_train_norm: 21.119071952988083\n",
      "avg U_bar_norms: 15.670539020110414\n",
      "epsilon: 140\n",
      "Compute predictions...\n",
      "********* TESTING **************\n"
     ]
    },
    {
     "name": "stderr",
     "output_type": "stream",
     "text": [
      "                                                                                "
     ]
    },
    {
     "name": "stdout",
     "output_type": "stream",
     "text": [
      "Avg Accuracy: 0.534074074074074\n",
      "Avg Accuracy Train: 0.7955555555555555\n",
      "Avg Recall: 0.01111111111111111\n",
      "_______\n",
      "Epsilon: 145\n",
      "Computing runtimes...\n"
     ]
    },
    {
     "name": "stderr",
     "output_type": "stream",
     "text": [
      "\r"
     ]
    },
    {
     "name": "stdout",
     "output_type": "stream",
     "text": [
      "sqrt p: 16.97056274847714\n",
      "mu: 8.343215095468386\n",
      "max_c_train_norm: 21.119071952988083\n",
      "avg U_bar_norms: 15.670539020110414\n",
      "epsilon: 145\n",
      "Compute predictions...\n",
      "********* TESTING **************\n"
     ]
    },
    {
     "name": "stderr",
     "output_type": "stream",
     "text": [
      "                                                                                "
     ]
    },
    {
     "name": "stdout",
     "output_type": "stream",
     "text": [
      "Avg Accuracy: 0.5279629629629629\n",
      "Avg Accuracy Train: 0.7858333333333333\n",
      "Avg Recall: 0.012222222222222223\n",
      "_______\n",
      "Epsilon: 150\n",
      "Computing runtimes...\n"
     ]
    },
    {
     "name": "stderr",
     "output_type": "stream",
     "text": [
      "\r"
     ]
    },
    {
     "name": "stdout",
     "output_type": "stream",
     "text": [
      "sqrt p: 16.97056274847714\n",
      "mu: 8.343215095468386\n",
      "max_c_train_norm: 21.119071952988083\n",
      "avg U_bar_norms: 15.670539020110414\n",
      "epsilon: 150\n",
      "Compute predictions...\n",
      "********* TESTING **************\n"
     ]
    },
    {
     "name": "stderr",
     "output_type": "stream",
     "text": [
      "                                                                                "
     ]
    },
    {
     "name": "stdout",
     "output_type": "stream",
     "text": [
      "Avg Accuracy: 0.524074074074074\n",
      "Avg Accuracy Train: 0.7783333333333333\n",
      "Avg Recall: 0.015555555555555553\n",
      "_______\n",
      "Epsilon: 155\n",
      "Computing runtimes...\n"
     ]
    },
    {
     "name": "stderr",
     "output_type": "stream",
     "text": [
      "\r"
     ]
    },
    {
     "name": "stdout",
     "output_type": "stream",
     "text": [
      "sqrt p: 16.97056274847714\n",
      "mu: 8.343215095468386\n",
      "max_c_train_norm: 21.119071952988083\n",
      "avg U_bar_norms: 15.670539020110414\n",
      "epsilon: 155\n",
      "Compute predictions...\n",
      "********* TESTING **************\n"
     ]
    },
    {
     "name": "stderr",
     "output_type": "stream",
     "text": [
      "                                                                                "
     ]
    },
    {
     "name": "stdout",
     "output_type": "stream",
     "text": [
      "Avg Accuracy: 0.5181481481481482\n",
      "Avg Accuracy Train: 0.775\n",
      "Avg Recall: 0.0044444444444444444\n",
      "_______\n",
      "Epsilon: 160\n",
      "Computing runtimes...\n"
     ]
    },
    {
     "name": "stderr",
     "output_type": "stream",
     "text": [
      "\r"
     ]
    },
    {
     "name": "stdout",
     "output_type": "stream",
     "text": [
      "sqrt p: 16.97056274847714\n",
      "mu: 8.343215095468386\n",
      "max_c_train_norm: 21.119071952988083\n",
      "avg U_bar_norms: 15.670539020110414\n",
      "epsilon: 160\n",
      "Compute predictions...\n",
      "********* TESTING **************\n"
     ]
    },
    {
     "name": "stderr",
     "output_type": "stream",
     "text": [
      "                                                                                "
     ]
    },
    {
     "name": "stdout",
     "output_type": "stream",
     "text": [
      "Avg Accuracy: 0.5111111111111111\n",
      "Avg Accuracy Train: 0.7641666666666665\n",
      "Avg Recall: 0.005\n",
      "_______\n",
      "Epsilon: 165\n",
      "Computing runtimes...\n"
     ]
    },
    {
     "name": "stderr",
     "output_type": "stream",
     "text": [
      "\r"
     ]
    },
    {
     "name": "stdout",
     "output_type": "stream",
     "text": [
      "sqrt p: 16.97056274847714\n",
      "mu: 8.343215095468386\n",
      "max_c_train_norm: 21.119071952988083\n",
      "avg U_bar_norms: 15.670539020110414\n",
      "epsilon: 165\n",
      "Compute predictions...\n",
      "********* TESTING **************\n"
     ]
    },
    {
     "name": "stderr",
     "output_type": "stream",
     "text": [
      "                                                                                "
     ]
    },
    {
     "name": "stdout",
     "output_type": "stream",
     "text": [
      "Avg Accuracy: 0.5018518518518519\n",
      "Avg Accuracy Train: 0.749722222222222\n",
      "Avg Recall: 0.006111111111111111\n",
      "_______\n",
      "Epsilon: 170\n",
      "Computing runtimes...\n"
     ]
    },
    {
     "name": "stderr",
     "output_type": "stream",
     "text": [
      "\r"
     ]
    },
    {
     "name": "stdout",
     "output_type": "stream",
     "text": [
      "sqrt p: 16.97056274847714\n",
      "mu: 8.343215095468386\n",
      "max_c_train_norm: 21.119071952988083\n",
      "avg U_bar_norms: 15.670539020110414\n",
      "epsilon: 170\n",
      "Compute predictions...\n",
      "********* TESTING **************\n"
     ]
    },
    {
     "name": "stderr",
     "output_type": "stream",
     "text": [
      "                                                                                "
     ]
    },
    {
     "name": "stdout",
     "output_type": "stream",
     "text": [
      "Avg Accuracy: 0.4848148148148148\n",
      "Avg Accuracy Train: 0.7263888888888892\n",
      "Avg Recall: 0.0016666666666666666\n",
      "_______\n",
      "Epsilon: 175\n",
      "Computing runtimes...\n"
     ]
    },
    {
     "name": "stderr",
     "output_type": "stream",
     "text": [
      "\r"
     ]
    },
    {
     "name": "stdout",
     "output_type": "stream",
     "text": [
      "sqrt p: 16.97056274847714\n",
      "mu: 8.343215095468386\n",
      "max_c_train_norm: 21.119071952988083\n",
      "avg U_bar_norms: 15.670539020110414\n",
      "epsilon: 175\n",
      "Compute predictions...\n",
      "********* TESTING **************\n"
     ]
    },
    {
     "name": "stderr",
     "output_type": "stream",
     "text": [
      "                                                                                "
     ]
    },
    {
     "name": "stdout",
     "output_type": "stream",
     "text": [
      "Avg Accuracy: 0.48\n",
      "Avg Accuracy Train: 0.7191666666666666\n",
      "Avg Recall: 0.0016666666666666666\n",
      "_______\n",
      "Epsilon: 180\n",
      "Computing runtimes...\n"
     ]
    },
    {
     "name": "stderr",
     "output_type": "stream",
     "text": [
      "\r"
     ]
    },
    {
     "name": "stdout",
     "output_type": "stream",
     "text": [
      "sqrt p: 16.97056274847714\n",
      "mu: 8.343215095468386\n",
      "max_c_train_norm: 21.119071952988083\n",
      "avg U_bar_norms: 15.670539020110414\n",
      "epsilon: 180\n",
      "Compute predictions...\n",
      "********* TESTING **************\n"
     ]
    },
    {
     "name": "stderr",
     "output_type": "stream",
     "text": [
      "                                                                                "
     ]
    },
    {
     "name": "stdout",
     "output_type": "stream",
     "text": [
      "Avg Accuracy: 0.4612962962962962\n",
      "Avg Accuracy Train: 0.6902777777777778\n",
      "Avg Recall: 0.003333333333333333\n",
      "_______\n",
      "Epsilon: 185\n",
      "Computing runtimes...\n"
     ]
    },
    {
     "name": "stderr",
     "output_type": "stream",
     "text": [
      "\r"
     ]
    },
    {
     "name": "stdout",
     "output_type": "stream",
     "text": [
      "sqrt p: 16.97056274847714\n",
      "mu: 8.343215095468386\n",
      "max_c_train_norm: 21.119071952988083\n",
      "avg U_bar_norms: 15.670539020110414\n",
      "epsilon: 185\n",
      "Compute predictions...\n",
      "********* TESTING **************\n"
     ]
    },
    {
     "name": "stderr",
     "output_type": "stream",
     "text": [
      "                                                                                "
     ]
    },
    {
     "name": "stdout",
     "output_type": "stream",
     "text": [
      "Avg Accuracy: 0.4629629629629629\n",
      "Avg Accuracy Train: 0.6930555555555555\n",
      "Avg Recall: 0.002777777777777778\n",
      "_______\n",
      "Epsilon: 190\n",
      "Computing runtimes...\n"
     ]
    },
    {
     "name": "stderr",
     "output_type": "stream",
     "text": [
      "\r"
     ]
    },
    {
     "name": "stdout",
     "output_type": "stream",
     "text": [
      "sqrt p: 16.97056274847714\n",
      "mu: 8.343215095468386\n",
      "max_c_train_norm: 21.119071952988083\n",
      "avg U_bar_norms: 15.670539020110414\n",
      "epsilon: 190\n",
      "Compute predictions...\n",
      "********* TESTING **************\n"
     ]
    },
    {
     "name": "stderr",
     "output_type": "stream",
     "text": [
      "                                                                                "
     ]
    },
    {
     "name": "stdout",
     "output_type": "stream",
     "text": [
      "Avg Accuracy: 0.4435185185185184\n",
      "Avg Accuracy Train: 0.6644444444444444\n",
      "Avg Recall: 0.0016666666666666666\n",
      "_______\n",
      "Epsilon: 195\n",
      "Computing runtimes...\n"
     ]
    },
    {
     "name": "stderr",
     "output_type": "stream",
     "text": [
      "\r"
     ]
    },
    {
     "name": "stdout",
     "output_type": "stream",
     "text": [
      "sqrt p: 16.97056274847714\n",
      "mu: 8.343215095468386\n",
      "max_c_train_norm: 21.119071952988083\n",
      "avg U_bar_norms: 15.670539020110414\n",
      "epsilon: 195\n",
      "Compute predictions...\n",
      "********* TESTING **************\n"
     ]
    },
    {
     "name": "stderr",
     "output_type": "stream",
     "text": [
      "                                                                                "
     ]
    },
    {
     "name": "stdout",
     "output_type": "stream",
     "text": [
      "Avg Accuracy: 0.4333333333333333\n",
      "Avg Accuracy Train: 0.65\n",
      "Avg Recall: 0.0\n",
      "_______\n",
      "Epsilon: 200\n",
      "Computing runtimes...\n"
     ]
    },
    {
     "name": "stderr",
     "output_type": "stream",
     "text": [
      "\r"
     ]
    },
    {
     "name": "stdout",
     "output_type": "stream",
     "text": [
      "sqrt p: 16.97056274847714\n",
      "mu: 8.343215095468386\n",
      "max_c_train_norm: 21.119071952988083\n",
      "avg U_bar_norms: 15.670539020110414\n",
      "epsilon: 200\n",
      "Compute predictions...\n",
      "********* TESTING **************\n"
     ]
    },
    {
     "name": "stderr",
     "output_type": "stream",
     "text": [
      "                                                                                "
     ]
    },
    {
     "name": "stdout",
     "output_type": "stream",
     "text": [
      "Avg Accuracy: 0.4166666666666666\n",
      "Avg Accuracy Train: 0.6247222222222222\n",
      "Avg Recall: 0.0005555555555555556\n",
      "_______\n",
      "Epsilon: 205\n",
      "Computing runtimes...\n"
     ]
    },
    {
     "name": "stderr",
     "output_type": "stream",
     "text": [
      "\r"
     ]
    },
    {
     "name": "stdout",
     "output_type": "stream",
     "text": [
      "sqrt p: 16.97056274847714\n",
      "mu: 8.343215095468386\n",
      "max_c_train_norm: 21.119071952988083\n",
      "avg U_bar_norms: 15.670539020110414\n",
      "epsilon: 205\n",
      "Compute predictions...\n",
      "********* TESTING **************\n"
     ]
    },
    {
     "name": "stderr",
     "output_type": "stream",
     "text": [
      "                                                                                "
     ]
    },
    {
     "name": "stdout",
     "output_type": "stream",
     "text": [
      "Avg Accuracy: 0.4142592592592592\n",
      "Avg Accuracy Train: 0.6205555555555555\n",
      "Avg Recall: 0.0016666666666666666\n",
      "_______\n",
      "Epsilon: 210\n",
      "Computing runtimes...\n"
     ]
    },
    {
     "name": "stderr",
     "output_type": "stream",
     "text": [
      "\r"
     ]
    },
    {
     "name": "stdout",
     "output_type": "stream",
     "text": [
      "sqrt p: 16.97056274847714\n",
      "mu: 8.343215095468386\n",
      "max_c_train_norm: 21.119071952988083\n",
      "avg U_bar_norms: 15.670539020110414\n",
      "epsilon: 210\n",
      "Compute predictions...\n",
      "********* TESTING **************\n"
     ]
    },
    {
     "name": "stderr",
     "output_type": "stream",
     "text": [
      "                                                                                "
     ]
    },
    {
     "name": "stdout",
     "output_type": "stream",
     "text": [
      "Avg Accuracy: 0.39574074074074067\n",
      "Avg Accuracy Train: 0.5930555555555554\n",
      "Avg Recall: 0.0011111111111111111\n",
      "_______\n",
      "Epsilon: 215\n",
      "Computing runtimes...\n"
     ]
    },
    {
     "name": "stderr",
     "output_type": "stream",
     "text": [
      "\r"
     ]
    },
    {
     "name": "stdout",
     "output_type": "stream",
     "text": [
      "sqrt p: 16.97056274847714\n",
      "mu: 8.343215095468386\n",
      "max_c_train_norm: 21.119071952988083\n",
      "avg U_bar_norms: 15.670539020110414\n",
      "epsilon: 215\n",
      "Compute predictions...\n",
      "********* TESTING **************\n"
     ]
    },
    {
     "name": "stderr",
     "output_type": "stream",
     "text": [
      "                                                                                "
     ]
    },
    {
     "name": "stdout",
     "output_type": "stream",
     "text": [
      "Avg Accuracy: 0.37833333333333335\n",
      "Avg Accuracy Train: 0.5669444444444445\n",
      "Avg Recall: 0.0011111111111111111\n",
      "_______\n",
      "Epsilon: 220\n",
      "Computing runtimes...\n"
     ]
    },
    {
     "name": "stderr",
     "output_type": "stream",
     "text": [
      "\r"
     ]
    },
    {
     "name": "stdout",
     "output_type": "stream",
     "text": [
      "sqrt p: 16.97056274847714\n",
      "mu: 8.343215095468386\n",
      "max_c_train_norm: 21.119071952988083\n",
      "avg U_bar_norms: 15.670539020110414\n",
      "epsilon: 220\n",
      "Compute predictions...\n",
      "********* TESTING **************\n"
     ]
    },
    {
     "name": "stderr",
     "output_type": "stream",
     "text": [
      "                                                                                "
     ]
    },
    {
     "name": "stdout",
     "output_type": "stream",
     "text": [
      "Avg Accuracy: 0.37092592592592594\n",
      "Avg Accuracy Train: 0.5561111111111111\n",
      "Avg Recall: 0.0005555555555555556\n",
      "_______\n",
      "Epsilon: 225\n",
      "Computing runtimes...\n"
     ]
    },
    {
     "name": "stderr",
     "output_type": "stream",
     "text": [
      "\r"
     ]
    },
    {
     "name": "stdout",
     "output_type": "stream",
     "text": [
      "sqrt p: 16.97056274847714\n",
      "mu: 8.343215095468386\n",
      "max_c_train_norm: 21.119071952988083\n",
      "avg U_bar_norms: 15.670539020110414\n",
      "epsilon: 225\n",
      "Compute predictions...\n",
      "********* TESTING **************\n"
     ]
    },
    {
     "name": "stderr",
     "output_type": "stream",
     "text": [
      "                                                                                "
     ]
    },
    {
     "name": "stdout",
     "output_type": "stream",
     "text": [
      "Avg Accuracy: 0.3598148148148148\n",
      "Avg Accuracy Train: 0.5397222222222222\n",
      "Avg Recall: 0.0\n",
      "_______\n",
      "Epsilon: 230\n",
      "Computing runtimes...\n"
     ]
    },
    {
     "name": "stderr",
     "output_type": "stream",
     "text": [
      "\r"
     ]
    },
    {
     "name": "stdout",
     "output_type": "stream",
     "text": [
      "sqrt p: 16.97056274847714\n",
      "mu: 8.343215095468386\n",
      "max_c_train_norm: 21.119071952988083\n",
      "avg U_bar_norms: 15.670539020110414\n",
      "epsilon: 230\n",
      "Compute predictions...\n",
      "********* TESTING **************\n"
     ]
    },
    {
     "name": "stderr",
     "output_type": "stream",
     "text": [
      "                                                                                "
     ]
    },
    {
     "name": "stdout",
     "output_type": "stream",
     "text": [
      "Avg Accuracy: 0.34518518518518526\n",
      "Avg Accuracy Train: 0.5177777777777779\n",
      "Avg Recall: 0.0\n",
      "_______\n",
      "Epsilon: 235\n",
      "Computing runtimes...\n"
     ]
    },
    {
     "name": "stderr",
     "output_type": "stream",
     "text": [
      "\r"
     ]
    },
    {
     "name": "stdout",
     "output_type": "stream",
     "text": [
      "sqrt p: 16.97056274847714\n",
      "mu: 8.343215095468386\n",
      "max_c_train_norm: 21.119071952988083\n",
      "avg U_bar_norms: 15.670539020110414\n",
      "epsilon: 235\n",
      "Compute predictions...\n",
      "********* TESTING **************\n"
     ]
    },
    {
     "name": "stderr",
     "output_type": "stream",
     "text": [
      "                                                                                "
     ]
    },
    {
     "name": "stdout",
     "output_type": "stream",
     "text": [
      "Avg Accuracy: 0.3368518518518519\n",
      "Avg Accuracy Train: 0.5052777777777778\n",
      "Avg Recall: 0.0\n",
      "_______\n",
      "Epsilon: 240\n",
      "Computing runtimes...\n"
     ]
    },
    {
     "name": "stderr",
     "output_type": "stream",
     "text": [
      "\r"
     ]
    },
    {
     "name": "stdout",
     "output_type": "stream",
     "text": [
      "sqrt p: 16.97056274847714\n",
      "mu: 8.343215095468386\n",
      "max_c_train_norm: 21.119071952988083\n",
      "avg U_bar_norms: 15.670539020110414\n",
      "epsilon: 240\n",
      "Compute predictions...\n",
      "********* TESTING **************\n"
     ]
    },
    {
     "name": "stderr",
     "output_type": "stream",
     "text": [
      "                                                                                "
     ]
    },
    {
     "name": "stdout",
     "output_type": "stream",
     "text": [
      "Avg Accuracy: 0.32648148148148143\n",
      "Avg Accuracy Train: 0.4897222222222222\n",
      "Avg Recall: 0.0\n",
      "_______\n",
      "Epsilon: 245\n",
      "Computing runtimes...\n"
     ]
    },
    {
     "name": "stderr",
     "output_type": "stream",
     "text": [
      "\r"
     ]
    },
    {
     "name": "stdout",
     "output_type": "stream",
     "text": [
      "sqrt p: 16.97056274847714\n",
      "mu: 8.343215095468386\n",
      "max_c_train_norm: 21.119071952988083\n",
      "avg U_bar_norms: 15.670539020110414\n",
      "epsilon: 245\n",
      "Compute predictions...\n",
      "********* TESTING **************\n"
     ]
    },
    {
     "name": "stderr",
     "output_type": "stream",
     "text": [
      "                                                                                "
     ]
    },
    {
     "name": "stdout",
     "output_type": "stream",
     "text": [
      "Avg Accuracy: 0.31407407407407406\n",
      "Avg Accuracy Train: 0.47083333333333327\n",
      "Avg Recall: 0.0005555555555555556\n",
      "_______\n",
      "Epsilon: 250\n",
      "Computing runtimes...\n"
     ]
    },
    {
     "name": "stderr",
     "output_type": "stream",
     "text": [
      "\r"
     ]
    },
    {
     "name": "stdout",
     "output_type": "stream",
     "text": [
      "sqrt p: 16.97056274847714\n",
      "mu: 8.343215095468386\n",
      "max_c_train_norm: 21.119071952988083\n",
      "avg U_bar_norms: 15.670539020110414\n",
      "epsilon: 250\n",
      "Compute predictions...\n",
      "********* TESTING **************\n"
     ]
    },
    {
     "name": "stderr",
     "output_type": "stream",
     "text": [
      "                                                                                "
     ]
    },
    {
     "name": "stdout",
     "output_type": "stream",
     "text": [
      "Avg Accuracy: 0.2944444444444445\n",
      "Avg Accuracy Train: 0.4416666666666666\n",
      "Avg Recall: 0.0\n",
      "_______\n",
      "Epsilon: 255\n",
      "Computing runtimes...\n"
     ]
    },
    {
     "name": "stderr",
     "output_type": "stream",
     "text": [
      "\r"
     ]
    },
    {
     "name": "stdout",
     "output_type": "stream",
     "text": [
      "sqrt p: 16.97056274847714\n",
      "mu: 8.343215095468386\n",
      "max_c_train_norm: 21.119071952988083\n",
      "avg U_bar_norms: 15.670539020110414\n",
      "epsilon: 255\n",
      "Compute predictions...\n",
      "********* TESTING **************\n"
     ]
    },
    {
     "name": "stderr",
     "output_type": "stream",
     "text": [
      "                                                                                "
     ]
    },
    {
     "name": "stdout",
     "output_type": "stream",
     "text": [
      "Avg Accuracy: 0.28259259259259256\n",
      "Avg Accuracy Train: 0.4238888888888889\n",
      "Avg Recall: 0.0\n",
      "_______\n",
      "Epsilon: 260\n",
      "Computing runtimes...\n"
     ]
    },
    {
     "name": "stderr",
     "output_type": "stream",
     "text": [
      "\r"
     ]
    },
    {
     "name": "stdout",
     "output_type": "stream",
     "text": [
      "sqrt p: 16.97056274847714\n",
      "mu: 8.343215095468386\n",
      "max_c_train_norm: 21.119071952988083\n",
      "avg U_bar_norms: 15.670539020110414\n",
      "epsilon: 260\n",
      "Compute predictions...\n",
      "********* TESTING **************\n"
     ]
    },
    {
     "name": "stderr",
     "output_type": "stream",
     "text": [
      "                                                                                "
     ]
    },
    {
     "name": "stdout",
     "output_type": "stream",
     "text": [
      "Avg Accuracy: 0.2698148148148148\n",
      "Avg Accuracy Train: 0.4047222222222222\n",
      "Avg Recall: 0.0\n",
      "_______\n",
      "Epsilon: 265\n",
      "Computing runtimes...\n"
     ]
    },
    {
     "name": "stderr",
     "output_type": "stream",
     "text": [
      "\r"
     ]
    },
    {
     "name": "stdout",
     "output_type": "stream",
     "text": [
      "sqrt p: 16.97056274847714\n",
      "mu: 8.343215095468386\n",
      "max_c_train_norm: 21.119071952988083\n",
      "avg U_bar_norms: 15.670539020110414\n",
      "epsilon: 265\n",
      "Compute predictions...\n",
      "********* TESTING **************\n"
     ]
    },
    {
     "name": "stderr",
     "output_type": "stream",
     "text": [
      "                                                                                "
     ]
    },
    {
     "name": "stdout",
     "output_type": "stream",
     "text": [
      "Avg Accuracy: 0.26888888888888884\n",
      "Avg Accuracy Train: 0.40333333333333327\n",
      "Avg Recall: 0.0\n",
      "_______\n",
      "Epsilon: 270\n",
      "Computing runtimes...\n"
     ]
    },
    {
     "name": "stderr",
     "output_type": "stream",
     "text": [
      "\r"
     ]
    },
    {
     "name": "stdout",
     "output_type": "stream",
     "text": [
      "sqrt p: 16.97056274847714\n",
      "mu: 8.343215095468386\n",
      "max_c_train_norm: 21.119071952988083\n",
      "avg U_bar_norms: 15.670539020110414\n",
      "epsilon: 270\n",
      "Compute predictions...\n",
      "********* TESTING **************\n"
     ]
    },
    {
     "name": "stderr",
     "output_type": "stream",
     "text": [
      "                                                                                "
     ]
    },
    {
     "name": "stdout",
     "output_type": "stream",
     "text": [
      "Avg Accuracy: 0.2535185185185185\n",
      "Avg Accuracy Train: 0.3802777777777779\n",
      "Avg Recall: 0.0\n",
      "_______\n",
      "Epsilon: 275\n",
      "Computing runtimes...\n"
     ]
    },
    {
     "name": "stderr",
     "output_type": "stream",
     "text": [
      "\r"
     ]
    },
    {
     "name": "stdout",
     "output_type": "stream",
     "text": [
      "sqrt p: 16.97056274847714\n",
      "mu: 8.343215095468386\n",
      "max_c_train_norm: 21.119071952988083\n",
      "avg U_bar_norms: 15.670539020110414\n",
      "epsilon: 275\n",
      "Compute predictions...\n",
      "********* TESTING **************\n"
     ]
    },
    {
     "name": "stderr",
     "output_type": "stream",
     "text": [
      "                                                                                "
     ]
    },
    {
     "name": "stdout",
     "output_type": "stream",
     "text": [
      "Avg Accuracy: 0.23537037037037034\n",
      "Avg Accuracy Train: 0.3530555555555555\n",
      "Avg Recall: 0.0\n",
      "_______\n",
      "Epsilon: 280\n",
      "Computing runtimes...\n"
     ]
    },
    {
     "name": "stderr",
     "output_type": "stream",
     "text": [
      "\r"
     ]
    },
    {
     "name": "stdout",
     "output_type": "stream",
     "text": [
      "sqrt p: 16.97056274847714\n",
      "mu: 8.343215095468386\n",
      "max_c_train_norm: 21.119071952988083\n",
      "avg U_bar_norms: 15.670539020110414\n",
      "epsilon: 280\n",
      "Compute predictions...\n",
      "********* TESTING **************\n"
     ]
    },
    {
     "name": "stderr",
     "output_type": "stream",
     "text": [
      "                                                                                "
     ]
    },
    {
     "name": "stdout",
     "output_type": "stream",
     "text": [
      "Avg Accuracy: 0.23037037037037034\n",
      "Avg Accuracy Train: 0.3455555555555555\n",
      "Avg Recall: 0.0\n",
      "_______\n",
      "Epsilon: 285\n",
      "Computing runtimes...\n"
     ]
    },
    {
     "name": "stderr",
     "output_type": "stream",
     "text": [
      "\r"
     ]
    },
    {
     "name": "stdout",
     "output_type": "stream",
     "text": [
      "sqrt p: 16.97056274847714\n",
      "mu: 8.343215095468386\n",
      "max_c_train_norm: 21.119071952988083\n",
      "avg U_bar_norms: 15.670539020110414\n",
      "epsilon: 285\n",
      "Compute predictions...\n",
      "********* TESTING **************\n"
     ]
    },
    {
     "name": "stderr",
     "output_type": "stream",
     "text": [
      "                                                                                "
     ]
    },
    {
     "name": "stdout",
     "output_type": "stream",
     "text": [
      "Avg Accuracy: 0.2168518518518519\n",
      "Avg Accuracy Train: 0.3252777777777778\n",
      "Avg Recall: 0.0\n",
      "_______\n",
      "Epsilon: 290\n",
      "Computing runtimes...\n"
     ]
    },
    {
     "name": "stderr",
     "output_type": "stream",
     "text": [
      "\r"
     ]
    },
    {
     "name": "stdout",
     "output_type": "stream",
     "text": [
      "sqrt p: 16.97056274847714\n",
      "mu: 8.343215095468386\n",
      "max_c_train_norm: 21.119071952988083\n",
      "avg U_bar_norms: 15.670539020110414\n",
      "epsilon: 290\n",
      "Compute predictions...\n",
      "********* TESTING **************\n"
     ]
    },
    {
     "name": "stderr",
     "output_type": "stream",
     "text": [
      "                                                                                "
     ]
    },
    {
     "name": "stdout",
     "output_type": "stream",
     "text": [
      "Avg Accuracy: 0.2044444444444444\n",
      "Avg Accuracy Train: 0.3066666666666667\n",
      "Avg Recall: 0.0\n",
      "_______\n",
      "Epsilon: 295\n",
      "Computing runtimes...\n"
     ]
    },
    {
     "name": "stderr",
     "output_type": "stream",
     "text": [
      "\r"
     ]
    },
    {
     "name": "stdout",
     "output_type": "stream",
     "text": [
      "sqrt p: 16.97056274847714\n",
      "mu: 8.343215095468386\n",
      "max_c_train_norm: 21.119071952988083\n",
      "avg U_bar_norms: 15.670539020110414\n",
      "epsilon: 295\n",
      "Compute predictions...\n",
      "********* TESTING **************\n"
     ]
    },
    {
     "name": "stderr",
     "output_type": "stream",
     "text": [
      "                                                                                "
     ]
    },
    {
     "name": "stdout",
     "output_type": "stream",
     "text": [
      "Avg Accuracy: 0.20574074074074075\n",
      "Avg Accuracy Train: 0.30861111111111117\n",
      "Avg Recall: 0.0\n"
     ]
    },
    {
     "name": "stderr",
     "output_type": "stream",
     "text": [
      "\r"
     ]
    },
    {
     "data": {
      "text/plain": [
       "<Figure size 640x480 with 0 Axes>"
      ]
     },
     "metadata": {},
     "output_type": "display_data"
    },
    {
     "data": {
      "text/plain": [
       "<Figure size 600x800 with 0 Axes>"
      ]
     },
     "metadata": {},
     "output_type": "display_data"
    },
    {
     "data": {
      "text/plain": [
       "<Figure size 600x800 with 0 Axes>"
      ]
     },
     "metadata": {},
     "output_type": "display_data"
    },
    {
     "data": {
      "image/png": "[encoded data removed]",
      "text/plain": [
       "<Figure size 600x800 with 1 Axes>"
      ]
     },
     "metadata": {},
     "output_type": "display_data"
    }
   ],
   "source": [
    "np.random.seed(0)\n",
    "\n",
    "epsilons_domain = range(0, 300, 5)\n",
    "summary4, rts4 = epsilon_tuning(datasplit=datasplit_with_outliers, \n",
    "                               training_config=training_config, \n",
    "                               tuning_config=tuning_config,\n",
    "                               reshaper=reshaper,\n",
    "                               epsilons=epsilons_domain,\n",
    "                               use_norm_threshold=True,\n",
    "                               norm_threshold=0.75,\n",
    "                               num_iterations=100,\n",
    "                               compute_runtimes=True)\n"
   ]
  },
  {
   "cell_type": "code",
   "execution_count": 18,
   "id": "19fec848",
   "metadata": {},
   "outputs": [
    {
     "data": {
      "text/html": [
       "<div>\n",
       "<style scoped>\n",
       "    .dataframe tbody tr th:only-of-type {\n",
       "        vertical-align: middle;\n",
       "    }\n",
       "\n",
       "    .dataframe tbody tr th {\n",
       "        vertical-align: top;\n",
       "    }\n",
       "\n",
       "    .dataframe thead th {\n",
       "        text-align: right;\n",
       "    }\n",
       "</style>\n",
       "<table border=\"1\" class=\"dataframe\">\n",
       "  <thead>\n",
       "    <tr style=\"text-align: right;\">\n",
       "      <th></th>\n",
       "      <th>epsilon</th>\n",
       "      <th>Accuracy</th>\n",
       "      <th>Accuracy Train</th>\n",
       "      <th>False Acceptance Rate</th>\n",
       "      <th>False Recognition Rate</th>\n",
       "      <th>Precision</th>\n",
       "      <th>Recall</th>\n",
       "      <th>F1-Score</th>\n",
       "      <th>Stddev Accuracy</th>\n",
       "      <th>Stddev Accuracy Train</th>\n",
       "      <th>Stddev False Acceptance Rate</th>\n",
       "      <th>Stddev False Recognition Rate</th>\n",
       "      <th>Stddev Precision</th>\n",
       "      <th>Stddev Recall</th>\n",
       "      <th>Stddev F1-Score</th>\n",
       "    </tr>\n",
       "  </thead>\n",
       "  <tbody>\n",
       "    <tr>\n",
       "      <th>0</th>\n",
       "      <td>0</td>\n",
       "      <td>0.870370</td>\n",
       "      <td>0.833333</td>\n",
       "      <td>0.018519</td>\n",
       "      <td>0.092593</td>\n",
       "      <td>0.772727</td>\n",
       "      <td>0.944444</td>\n",
       "      <td>0.850000</td>\n",
       "      <td>1.110223e-16</td>\n",
       "      <td>2.220446e-16</td>\n",
       "      <td>3.469447e-18</td>\n",
       "      <td>2.775558e-17</td>\n",
       "      <td>3.330669e-16</td>\n",
       "      <td>0.000000</td>\n",
       "      <td>4.440892e-16</td>\n",
       "    </tr>\n",
       "    <tr>\n",
       "      <th>1</th>\n",
       "      <td>5</td>\n",
       "      <td>0.860926</td>\n",
       "      <td>0.827778</td>\n",
       "      <td>0.024259</td>\n",
       "      <td>0.097037</td>\n",
       "      <td>0.761216</td>\n",
       "      <td>0.927222</td>\n",
       "      <td>0.835903</td>\n",
       "      <td>1.126285e-02</td>\n",
       "      <td>1.111111e-02</td>\n",
       "      <td>8.564690e-03</td>\n",
       "      <td>7.908947e-03</td>\n",
       "      <td>1.576447e-02</td>\n",
       "      <td>0.025694</td>\n",
       "      <td>1.679392e-02</td>\n",
       "    </tr>\n",
       "    <tr>\n",
       "      <th>2</th>\n",
       "      <td>10</td>\n",
       "      <td>0.852778</td>\n",
       "      <td>0.825556</td>\n",
       "      <td>0.030926</td>\n",
       "      <td>0.099815</td>\n",
       "      <td>0.752663</td>\n",
       "      <td>0.907222</td>\n",
       "      <td>0.822366</td>\n",
       "      <td>1.840241e-02</td>\n",
       "      <td>2.044263e-02</td>\n",
       "      <td>1.081551e-02</td>\n",
       "      <td>1.524716e-02</td>\n",
       "      <td>2.995021e-02</td>\n",
       "      <td>0.032447</td>\n",
       "      <td>2.591081e-02</td>\n",
       "    </tr>\n",
       "    <tr>\n",
       "      <th>3</th>\n",
       "      <td>15</td>\n",
       "      <td>0.848148</td>\n",
       "      <td>0.831944</td>\n",
       "      <td>0.039815</td>\n",
       "      <td>0.096667</td>\n",
       "      <td>0.752774</td>\n",
       "      <td>0.880556</td>\n",
       "      <td>0.811154</td>\n",
       "      <td>2.028602e-02</td>\n",
       "      <td>1.858207e-02</td>\n",
       "      <td>1.490137e-02</td>\n",
       "      <td>1.375366e-02</td>\n",
       "      <td>2.802577e-02</td>\n",
       "      <td>0.044704</td>\n",
       "      <td>2.947789e-02</td>\n",
       "    </tr>\n",
       "    <tr>\n",
       "      <th>4</th>\n",
       "      <td>20</td>\n",
       "      <td>0.841481</td>\n",
       "      <td>0.831389</td>\n",
       "      <td>0.046111</td>\n",
       "      <td>0.098148</td>\n",
       "      <td>0.745658</td>\n",
       "      <td>0.861667</td>\n",
       "      <td>0.798941</td>\n",
       "      <td>2.404842e-02</td>\n",
       "      <td>2.231059e-02</td>\n",
       "      <td>1.666564e-02</td>\n",
       "      <td>1.373370e-02</td>\n",
       "      <td>3.009050e-02</td>\n",
       "      <td>0.049997</td>\n",
       "      <td>3.383341e-02</td>\n",
       "    </tr>\n",
       "    <tr>\n",
       "      <th>5</th>\n",
       "      <td>25</td>\n",
       "      <td>0.835926</td>\n",
       "      <td>0.830000</td>\n",
       "      <td>0.050741</td>\n",
       "      <td>0.098519</td>\n",
       "      <td>0.742269</td>\n",
       "      <td>0.847778</td>\n",
       "      <td>0.790846</td>\n",
       "      <td>2.512247e-02</td>\n",
       "      <td>2.554348e-02</td>\n",
       "      <td>1.689555e-02</td>\n",
       "      <td>1.632993e-02</td>\n",
       "      <td>3.506183e-02</td>\n",
       "      <td>0.050687</td>\n",
       "      <td>3.532749e-02</td>\n",
       "    </tr>\n",
       "    <tr>\n",
       "      <th>6</th>\n",
       "      <td>30</td>\n",
       "      <td>0.833519</td>\n",
       "      <td>0.826667</td>\n",
       "      <td>0.050926</td>\n",
       "      <td>0.100370</td>\n",
       "      <td>0.738531</td>\n",
       "      <td>0.847222</td>\n",
       "      <td>0.788471</td>\n",
       "      <td>2.752913e-02</td>\n",
       "      <td>2.836055e-02</td>\n",
       "      <td>1.724809e-02</td>\n",
       "      <td>1.660069e-02</td>\n",
       "      <td>3.530892e-02</td>\n",
       "      <td>0.051744</td>\n",
       "      <td>3.624389e-02</td>\n",
       "    </tr>\n",
       "    <tr>\n",
       "      <th>7</th>\n",
       "      <td>35</td>\n",
       "      <td>0.820185</td>\n",
       "      <td>0.823889</td>\n",
       "      <td>0.062407</td>\n",
       "      <td>0.100556</td>\n",
       "      <td>0.730386</td>\n",
       "      <td>0.812778</td>\n",
       "      <td>0.768357</td>\n",
       "      <td>2.896180e-02</td>\n",
       "      <td>2.919179e-02</td>\n",
       "      <td>2.022761e-02</td>\n",
       "      <td>1.929040e-02</td>\n",
       "      <td>4.042927e-02</td>\n",
       "      <td>0.060683</td>\n",
       "      <td>4.167225e-02</td>\n",
       "    </tr>\n",
       "    <tr>\n",
       "      <th>8</th>\n",
       "      <td>40</td>\n",
       "      <td>0.811852</td>\n",
       "      <td>0.825000</td>\n",
       "      <td>0.071481</td>\n",
       "      <td>0.098889</td>\n",
       "      <td>0.726130</td>\n",
       "      <td>0.785556</td>\n",
       "      <td>0.753284</td>\n",
       "      <td>2.971285e-02</td>\n",
       "      <td>2.952818e-02</td>\n",
       "      <td>2.498559e-02</td>\n",
       "      <td>1.681416e-02</td>\n",
       "      <td>3.775236e-02</td>\n",
       "      <td>0.074957</td>\n",
       "      <td>4.835095e-02</td>\n",
       "    </tr>\n",
       "    <tr>\n",
       "      <th>9</th>\n",
       "      <td>45</td>\n",
       "      <td>0.790185</td>\n",
       "      <td>0.821389</td>\n",
       "      <td>0.090741</td>\n",
       "      <td>0.103519</td>\n",
       "      <td>0.700668</td>\n",
       "      <td>0.727778</td>\n",
       "      <td>0.712548</td>\n",
       "      <td>3.384940e-02</td>\n",
       "      <td>2.700451e-02</td>\n",
       "      <td>2.727948e-02</td>\n",
       "      <td>1.778067e-02</td>\n",
       "      <td>4.532974e-02</td>\n",
       "      <td>0.081838</td>\n",
       "      <td>5.745359e-02</td>\n",
       "    </tr>\n",
       "    <tr>\n",
       "      <th>10</th>\n",
       "      <td>50</td>\n",
       "      <td>0.772593</td>\n",
       "      <td>0.816944</td>\n",
       "      <td>0.105370</td>\n",
       "      <td>0.106667</td>\n",
       "      <td>0.678908</td>\n",
       "      <td>0.683889</td>\n",
       "      <td>0.678824</td>\n",
       "      <td>4.303952e-02</td>\n",
       "      <td>3.169468e-02</td>\n",
       "      <td>3.746924e-02</td>\n",
       "      <td>1.816703e-02</td>\n",
       "      <td>5.355016e-02</td>\n",
       "      <td>0.112408</td>\n",
       "      <td>7.904466e-02</td>\n",
       "    </tr>\n",
       "    <tr>\n",
       "      <th>11</th>\n",
       "      <td>55</td>\n",
       "      <td>0.747778</td>\n",
       "      <td>0.821389</td>\n",
       "      <td>0.133148</td>\n",
       "      <td>0.101481</td>\n",
       "      <td>0.662533</td>\n",
       "      <td>0.600556</td>\n",
       "      <td>0.627408</td>\n",
       "      <td>3.820205e-02</td>\n",
       "      <td>3.605872e-02</td>\n",
       "      <td>3.278301e-02</td>\n",
       "      <td>2.019792e-02</td>\n",
       "      <td>5.655818e-02</td>\n",
       "      <td>0.098349</td>\n",
       "      <td>7.316761e-02</td>\n",
       "    </tr>\n",
       "    <tr>\n",
       "      <th>12</th>\n",
       "      <td>60</td>\n",
       "      <td>0.730000</td>\n",
       "      <td>0.815556</td>\n",
       "      <td>0.147037</td>\n",
       "      <td>0.102407</td>\n",
       "      <td>0.641812</td>\n",
       "      <td>0.558889</td>\n",
       "      <td>0.594189</td>\n",
       "      <td>4.893797e-02</td>\n",
       "      <td>4.035338e-02</td>\n",
       "      <td>3.935523e-02</td>\n",
       "      <td>2.259790e-02</td>\n",
       "      <td>7.480421e-02</td>\n",
       "      <td>0.118066</td>\n",
       "      <td>9.480980e-02</td>\n",
       "    </tr>\n",
       "    <tr>\n",
       "      <th>13</th>\n",
       "      <td>65</td>\n",
       "      <td>0.699630</td>\n",
       "      <td>0.816111</td>\n",
       "      <td>0.177778</td>\n",
       "      <td>0.103333</td>\n",
       "      <td>0.594942</td>\n",
       "      <td>0.466667</td>\n",
       "      <td>0.519992</td>\n",
       "      <td>4.882572e-02</td>\n",
       "      <td>3.742895e-02</td>\n",
       "      <td>3.866780e-02</td>\n",
       "      <td>2.146551e-02</td>\n",
       "      <td>9.080709e-02</td>\n",
       "      <td>0.116003</td>\n",
       "      <td>1.035527e-01</td>\n",
       "    </tr>\n",
       "    <tr>\n",
       "      <th>14</th>\n",
       "      <td>70</td>\n",
       "      <td>0.687037</td>\n",
       "      <td>0.826944</td>\n",
       "      <td>0.197593</td>\n",
       "      <td>0.097593</td>\n",
       "      <td>0.576674</td>\n",
       "      <td>0.407222</td>\n",
       "      <td>0.473868</td>\n",
       "      <td>3.941444e-02</td>\n",
       "      <td>3.283305e-02</td>\n",
       "      <td>3.302896e-02</td>\n",
       "      <td>1.849165e-02</td>\n",
       "      <td>7.128109e-02</td>\n",
       "      <td>0.099087</td>\n",
       "      <td>8.863054e-02</td>\n",
       "    </tr>\n",
       "    <tr>\n",
       "      <th>15</th>\n",
       "      <td>75</td>\n",
       "      <td>0.666852</td>\n",
       "      <td>0.818333</td>\n",
       "      <td>0.212037</td>\n",
       "      <td>0.096111</td>\n",
       "      <td>0.552798</td>\n",
       "      <td>0.363889</td>\n",
       "      <td>0.435421</td>\n",
       "      <td>4.448262e-02</td>\n",
       "      <td>4.090413e-02</td>\n",
       "      <td>3.408363e-02</td>\n",
       "      <td>2.232922e-02</td>\n",
       "      <td>9.354091e-02</td>\n",
       "      <td>0.102251</td>\n",
       "      <td>9.864814e-02</td>\n",
       "    </tr>\n",
       "    <tr>\n",
       "      <th>16</th>\n",
       "      <td>80</td>\n",
       "      <td>0.648333</td>\n",
       "      <td>0.820278</td>\n",
       "      <td>0.231852</td>\n",
       "      <td>0.094815</td>\n",
       "      <td>0.509571</td>\n",
       "      <td>0.304444</td>\n",
       "      <td>0.378255</td>\n",
       "      <td>4.251160e-02</td>\n",
       "      <td>3.995657e-02</td>\n",
       "      <td>3.147930e-02</td>\n",
       "      <td>2.066786e-02</td>\n",
       "      <td>9.964402e-02</td>\n",
       "      <td>0.094438</td>\n",
       "      <td>9.827881e-02</td>\n",
       "    </tr>\n",
       "    <tr>\n",
       "      <th>17</th>\n",
       "      <td>85</td>\n",
       "      <td>0.630185</td>\n",
       "      <td>0.823611</td>\n",
       "      <td>0.252222</td>\n",
       "      <td>0.089444</td>\n",
       "      <td>0.466736</td>\n",
       "      <td>0.243333</td>\n",
       "      <td>0.317312</td>\n",
       "      <td>4.069484e-02</td>\n",
       "      <td>4.201245e-02</td>\n",
       "      <td>2.817981e-02</td>\n",
       "      <td>2.046359e-02</td>\n",
       "      <td>1.175584e-01</td>\n",
       "      <td>0.084539</td>\n",
       "      <td>9.670822e-02</td>\n",
       "    </tr>\n",
       "    <tr>\n",
       "      <th>18</th>\n",
       "      <td>90</td>\n",
       "      <td>0.612963</td>\n",
       "      <td>0.822222</td>\n",
       "      <td>0.268519</td>\n",
       "      <td>0.088148</td>\n",
       "      <td>0.407419</td>\n",
       "      <td>0.194444</td>\n",
       "      <td>0.260119</td>\n",
       "      <td>3.547638e-02</td>\n",
       "      <td>3.600411e-02</td>\n",
       "      <td>2.898607e-02</td>\n",
       "      <td>2.047448e-02</td>\n",
       "      <td>1.210169e-01</td>\n",
       "      <td>0.086958</td>\n",
       "      <td>1.019049e-01</td>\n",
       "    </tr>\n",
       "    <tr>\n",
       "      <th>19</th>\n",
       "      <td>95</td>\n",
       "      <td>0.605000</td>\n",
       "      <td>0.816111</td>\n",
       "      <td>0.272407</td>\n",
       "      <td>0.083519</td>\n",
       "      <td>0.405209</td>\n",
       "      <td>0.182778</td>\n",
       "      <td>0.247741</td>\n",
       "      <td>3.795664e-02</td>\n",
       "      <td>4.281384e-02</td>\n",
       "      <td>3.012263e-02</td>\n",
       "      <td>2.393048e-02</td>\n",
       "      <td>1.311036e-01</td>\n",
       "      <td>0.090368</td>\n",
       "      <td>1.064241e-01</td>\n",
       "    </tr>\n",
       "    <tr>\n",
       "      <th>20</th>\n",
       "      <td>100</td>\n",
       "      <td>0.586852</td>\n",
       "      <td>0.815278</td>\n",
       "      <td>0.290000</td>\n",
       "      <td>0.078889</td>\n",
       "      <td>0.344468</td>\n",
       "      <td>0.130000</td>\n",
       "      <td>0.185778</td>\n",
       "      <td>3.994981e-02</td>\n",
       "      <td>4.703804e-02</td>\n",
       "      <td>2.374707e-02</td>\n",
       "      <td>2.437420e-02</td>\n",
       "      <td>1.359571e-01</td>\n",
       "      <td>0.071241</td>\n",
       "      <td>9.048089e-02</td>\n",
       "    </tr>\n",
       "    <tr>\n",
       "      <th>21</th>\n",
       "      <td>105</td>\n",
       "      <td>0.582037</td>\n",
       "      <td>0.823333</td>\n",
       "      <td>0.300185</td>\n",
       "      <td>0.069630</td>\n",
       "      <td>0.296254</td>\n",
       "      <td>0.099444</td>\n",
       "      <td>0.147053</td>\n",
       "      <td>3.583752e-02</td>\n",
       "      <td>4.539266e-02</td>\n",
       "      <td>2.195753e-02</td>\n",
       "      <td>2.224073e-02</td>\n",
       "      <td>1.706500e-01</td>\n",
       "      <td>0.065873</td>\n",
       "      <td>9.262435e-02</td>\n",
       "    </tr>\n",
       "    <tr>\n",
       "      <th>22</th>\n",
       "      <td>110</td>\n",
       "      <td>0.567222</td>\n",
       "      <td>0.813611</td>\n",
       "      <td>0.308519</td>\n",
       "      <td>0.068889</td>\n",
       "      <td>0.246504</td>\n",
       "      <td>0.074444</td>\n",
       "      <td>0.112207</td>\n",
       "      <td>3.360537e-02</td>\n",
       "      <td>5.035292e-02</td>\n",
       "      <td>1.928417e-02</td>\n",
       "      <td>2.223456e-02</td>\n",
       "      <td>1.623957e-01</td>\n",
       "      <td>0.057853</td>\n",
       "      <td>8.138279e-02</td>\n",
       "    </tr>\n",
       "    <tr>\n",
       "      <th>23</th>\n",
       "      <td>115</td>\n",
       "      <td>0.565741</td>\n",
       "      <td>0.817222</td>\n",
       "      <td>0.312407</td>\n",
       "      <td>0.066481</td>\n",
       "      <td>0.217357</td>\n",
       "      <td>0.062778</td>\n",
       "      <td>0.096144</td>\n",
       "      <td>3.852341e-02</td>\n",
       "      <td>4.700604e-02</td>\n",
       "      <td>1.918343e-02</td>\n",
       "      <td>2.299505e-02</td>\n",
       "      <td>1.823842e-01</td>\n",
       "      <td>0.057550</td>\n",
       "      <td>8.510376e-02</td>\n",
       "    </tr>\n",
       "    <tr>\n",
       "      <th>24</th>\n",
       "      <td>120</td>\n",
       "      <td>0.560556</td>\n",
       "      <td>0.813056</td>\n",
       "      <td>0.314815</td>\n",
       "      <td>0.058704</td>\n",
       "      <td>0.213976</td>\n",
       "      <td>0.055556</td>\n",
       "      <td>0.087099</td>\n",
       "      <td>4.180881e-02</td>\n",
       "      <td>5.238965e-02</td>\n",
       "      <td>1.851852e-02</td>\n",
       "      <td>2.160485e-02</td>\n",
       "      <td>2.046153e-01</td>\n",
       "      <td>0.055556</td>\n",
       "      <td>8.534476e-02</td>\n",
       "    </tr>\n",
       "    <tr>\n",
       "      <th>25</th>\n",
       "      <td>125</td>\n",
       "      <td>0.552037</td>\n",
       "      <td>0.810278</td>\n",
       "      <td>0.321481</td>\n",
       "      <td>0.056667</td>\n",
       "      <td>0.147000</td>\n",
       "      <td>0.035556</td>\n",
       "      <td>0.056476</td>\n",
       "      <td>3.371133e-02</td>\n",
       "      <td>4.875851e-02</td>\n",
       "      <td>1.446817e-02</td>\n",
       "      <td>2.325088e-02</td>\n",
       "      <td>1.781594e-01</td>\n",
       "      <td>0.043404</td>\n",
       "      <td>6.787651e-02</td>\n",
       "    </tr>\n",
       "    <tr>\n",
       "      <th>26</th>\n",
       "      <td>130</td>\n",
       "      <td>0.544444</td>\n",
       "      <td>0.802222</td>\n",
       "      <td>0.323704</td>\n",
       "      <td>0.055926</td>\n",
       "      <td>0.123833</td>\n",
       "      <td>0.028889</td>\n",
       "      <td>0.046190</td>\n",
       "      <td>3.523388e-02</td>\n",
       "      <td>4.910935e-02</td>\n",
       "      <td>1.321968e-02</td>\n",
       "      <td>2.190828e-02</td>\n",
       "      <td>1.735054e-01</td>\n",
       "      <td>0.039659</td>\n",
       "      <td>6.267060e-02</td>\n",
       "    </tr>\n",
       "    <tr>\n",
       "      <th>27</th>\n",
       "      <td>135</td>\n",
       "      <td>0.542963</td>\n",
       "      <td>0.804722</td>\n",
       "      <td>0.326852</td>\n",
       "      <td>0.050556</td>\n",
       "      <td>0.094000</td>\n",
       "      <td>0.019444</td>\n",
       "      <td>0.031821</td>\n",
       "      <td>3.373015e-02</td>\n",
       "      <td>4.770262e-02</td>\n",
       "      <td>1.122626e-02</td>\n",
       "      <td>2.141353e-02</td>\n",
       "      <td>1.650172e-01</td>\n",
       "      <td>0.033679</td>\n",
       "      <td>5.474011e-02</td>\n",
       "    </tr>\n",
       "    <tr>\n",
       "      <th>28</th>\n",
       "      <td>140</td>\n",
       "      <td>0.534074</td>\n",
       "      <td>0.795556</td>\n",
       "      <td>0.329630</td>\n",
       "      <td>0.042778</td>\n",
       "      <td>0.062000</td>\n",
       "      <td>0.011111</td>\n",
       "      <td>0.018681</td>\n",
       "      <td>3.530389e-02</td>\n",
       "      <td>5.054029e-02</td>\n",
       "      <td>7.856742e-03</td>\n",
       "      <td>1.808663e-02</td>\n",
       "      <td>1.339585e-01</td>\n",
       "      <td>0.023570</td>\n",
       "      <td>3.955068e-02</td>\n",
       "    </tr>\n",
       "    <tr>\n",
       "      <th>29</th>\n",
       "      <td>145</td>\n",
       "      <td>0.527963</td>\n",
       "      <td>0.785833</td>\n",
       "      <td>0.329259</td>\n",
       "      <td>0.042963</td>\n",
       "      <td>0.071000</td>\n",
       "      <td>0.012222</td>\n",
       "      <td>0.020674</td>\n",
       "      <td>3.717521e-02</td>\n",
       "      <td>5.545755e-02</td>\n",
       "      <td>8.105951e-03</td>\n",
       "      <td>1.849628e-02</td>\n",
       "      <td>1.473586e-01</td>\n",
       "      <td>0.024318</td>\n",
       "      <td>4.122941e-02</td>\n",
       "    </tr>\n",
       "    <tr>\n",
       "      <th>30</th>\n",
       "      <td>150</td>\n",
       "      <td>0.524074</td>\n",
       "      <td>0.778333</td>\n",
       "      <td>0.328148</td>\n",
       "      <td>0.036667</td>\n",
       "      <td>0.097667</td>\n",
       "      <td>0.015556</td>\n",
       "      <td>0.026500</td>\n",
       "      <td>3.717567e-02</td>\n",
       "      <td>5.284791e-02</td>\n",
       "      <td>1.050181e-02</td>\n",
       "      <td>1.635092e-02</td>\n",
       "      <td>1.875429e-01</td>\n",
       "      <td>0.031505</td>\n",
       "      <td>5.269743e-02</td>\n",
       "    </tr>\n",
       "    <tr>\n",
       "      <th>31</th>\n",
       "      <td>155</td>\n",
       "      <td>0.518148</td>\n",
       "      <td>0.775000</td>\n",
       "      <td>0.331852</td>\n",
       "      <td>0.036667</td>\n",
       "      <td>0.025333</td>\n",
       "      <td>0.004444</td>\n",
       "      <td>0.007458</td>\n",
       "      <td>3.794986e-02</td>\n",
       "      <td>5.603956e-02</td>\n",
       "      <td>5.023948e-03</td>\n",
       "      <td>1.696846e-02</td>\n",
       "      <td>9.148406e-02</td>\n",
       "      <td>0.015072</td>\n",
       "      <td>2.532330e-02</td>\n",
       "    </tr>\n",
       "    <tr>\n",
       "      <th>32</th>\n",
       "      <td>160</td>\n",
       "      <td>0.511111</td>\n",
       "      <td>0.764167</td>\n",
       "      <td>0.331667</td>\n",
       "      <td>0.031296</td>\n",
       "      <td>0.035000</td>\n",
       "      <td>0.005000</td>\n",
       "      <td>0.008675</td>\n",
       "      <td>3.749714e-02</td>\n",
       "      <td>5.712978e-02</td>\n",
       "      <td>5.299662e-03</td>\n",
       "      <td>1.427128e-02</td>\n",
       "      <td>1.155783e-01</td>\n",
       "      <td>0.015899</td>\n",
       "      <td>2.760683e-02</td>\n",
       "    </tr>\n",
       "    <tr>\n",
       "      <th>33</th>\n",
       "      <td>165</td>\n",
       "      <td>0.501852</td>\n",
       "      <td>0.749722</td>\n",
       "      <td>0.331296</td>\n",
       "      <td>0.027778</td>\n",
       "      <td>0.050000</td>\n",
       "      <td>0.006111</td>\n",
       "      <td>0.010857</td>\n",
       "      <td>3.932733e-02</td>\n",
       "      <td>5.964077e-02</td>\n",
       "      <td>5.794255e-03</td>\n",
       "      <td>1.398117e-02</td>\n",
       "      <td>1.443376e-01</td>\n",
       "      <td>0.017383</td>\n",
       "      <td>3.089063e-02</td>\n",
       "    </tr>\n",
       "    <tr>\n",
       "      <th>34</th>\n",
       "      <td>170</td>\n",
       "      <td>0.484815</td>\n",
       "      <td>0.726389</td>\n",
       "      <td>0.332778</td>\n",
       "      <td>0.026667</td>\n",
       "      <td>0.011667</td>\n",
       "      <td>0.001667</td>\n",
       "      <td>0.002905</td>\n",
       "      <td>4.068852e-02</td>\n",
       "      <td>6.115844e-02</td>\n",
       "      <td>3.159023e-03</td>\n",
       "      <td>1.089921e-02</td>\n",
       "      <td>6.772083e-02</td>\n",
       "      <td>0.009477</td>\n",
       "      <td>1.652175e-02</td>\n",
       "    </tr>\n",
       "    <tr>\n",
       "      <th>35</th>\n",
       "      <td>175</td>\n",
       "      <td>0.480000</td>\n",
       "      <td>0.719167</td>\n",
       "      <td>0.332778</td>\n",
       "      <td>0.027778</td>\n",
       "      <td>0.010833</td>\n",
       "      <td>0.001667</td>\n",
       "      <td>0.002861</td>\n",
       "      <td>3.934303e-02</td>\n",
       "      <td>5.891181e-02</td>\n",
       "      <td>3.159023e-03</td>\n",
       "      <td>1.242260e-02</td>\n",
       "      <td>6.417749e-02</td>\n",
       "      <td>0.009477</td>\n",
       "      <td>1.628372e-02</td>\n",
       "    </tr>\n",
       "    <tr>\n",
       "      <th>36</th>\n",
       "      <td>180</td>\n",
       "      <td>0.461296</td>\n",
       "      <td>0.690278</td>\n",
       "      <td>0.332222</td>\n",
       "      <td>0.025185</td>\n",
       "      <td>0.028333</td>\n",
       "      <td>0.003333</td>\n",
       "      <td>0.005952</td>\n",
       "      <td>4.429721e-02</td>\n",
       "      <td>6.624578e-02</td>\n",
       "      <td>4.397904e-03</td>\n",
       "      <td>9.266664e-03</td>\n",
       "      <td>1.131739e-01</td>\n",
       "      <td>0.013194</td>\n",
       "      <td>2.356421e-02</td>\n",
       "    </tr>\n",
       "    <tr>\n",
       "      <th>37</th>\n",
       "      <td>185</td>\n",
       "      <td>0.462963</td>\n",
       "      <td>0.693056</td>\n",
       "      <td>0.332407</td>\n",
       "      <td>0.023704</td>\n",
       "      <td>0.022500</td>\n",
       "      <td>0.002778</td>\n",
       "      <td>0.004909</td>\n",
       "      <td>4.520947e-02</td>\n",
       "      <td>6.785685e-02</td>\n",
       "      <td>4.036018e-03</td>\n",
       "      <td>9.827036e-03</td>\n",
       "      <td>1.005920e-01</td>\n",
       "      <td>0.012108</td>\n",
       "      <td>2.141367e-02</td>\n",
       "    </tr>\n",
       "    <tr>\n",
       "      <th>38</th>\n",
       "      <td>190</td>\n",
       "      <td>0.443519</td>\n",
       "      <td>0.664444</td>\n",
       "      <td>0.332778</td>\n",
       "      <td>0.022407</td>\n",
       "      <td>0.015000</td>\n",
       "      <td>0.001667</td>\n",
       "      <td>0.003000</td>\n",
       "      <td>4.160489e-02</td>\n",
       "      <td>6.194880e-02</td>\n",
       "      <td>3.159023e-03</td>\n",
       "      <td>7.542745e-03</td>\n",
       "      <td>8.529361e-02</td>\n",
       "      <td>0.009477</td>\n",
       "      <td>1.705872e-02</td>\n",
       "    </tr>\n",
       "    <tr>\n",
       "      <th>39</th>\n",
       "      <td>195</td>\n",
       "      <td>0.433333</td>\n",
       "      <td>0.650000</td>\n",
       "      <td>0.333333</td>\n",
       "      <td>0.020926</td>\n",
       "      <td>0.000000</td>\n",
       "      <td>0.000000</td>\n",
       "      <td>0.000000</td>\n",
       "      <td>4.335074e-02</td>\n",
       "      <td>6.502611e-02</td>\n",
       "      <td>1.110223e-16</td>\n",
       "      <td>6.756088e-03</td>\n",
       "      <td>0.000000e+00</td>\n",
       "      <td>0.000000</td>\n",
       "      <td>0.000000e+00</td>\n",
       "    </tr>\n",
       "    <tr>\n",
       "      <th>40</th>\n",
       "      <td>200</td>\n",
       "      <td>0.416667</td>\n",
       "      <td>0.624722</td>\n",
       "      <td>0.333148</td>\n",
       "      <td>0.021481</td>\n",
       "      <td>0.005000</td>\n",
       "      <td>0.000556</td>\n",
       "      <td>0.001000</td>\n",
       "      <td>4.860891e-02</td>\n",
       "      <td>7.322962e-02</td>\n",
       "      <td>1.842569e-03</td>\n",
       "      <td>8.164966e-03</td>\n",
       "      <td>4.974937e-02</td>\n",
       "      <td>0.005528</td>\n",
       "      <td>9.949874e-03</td>\n",
       "    </tr>\n",
       "    <tr>\n",
       "      <th>41</th>\n",
       "      <td>205</td>\n",
       "      <td>0.414259</td>\n",
       "      <td>0.620556</td>\n",
       "      <td>0.332778</td>\n",
       "      <td>0.021852</td>\n",
       "      <td>0.015000</td>\n",
       "      <td>0.001667</td>\n",
       "      <td>0.003000</td>\n",
       "      <td>3.890255e-02</td>\n",
       "      <td>5.829628e-02</td>\n",
       "      <td>3.159023e-03</td>\n",
       "      <td>7.114582e-03</td>\n",
       "      <td>8.529361e-02</td>\n",
       "      <td>0.009477</td>\n",
       "      <td>1.705872e-02</td>\n",
       "    </tr>\n",
       "    <tr>\n",
       "      <th>42</th>\n",
       "      <td>210</td>\n",
       "      <td>0.395741</td>\n",
       "      <td>0.593056</td>\n",
       "      <td>0.332963</td>\n",
       "      <td>0.019815</td>\n",
       "      <td>0.010000</td>\n",
       "      <td>0.001111</td>\n",
       "      <td>0.002000</td>\n",
       "      <td>4.324421e-02</td>\n",
       "      <td>6.507059e-02</td>\n",
       "      <td>2.592593e-03</td>\n",
       "      <td>5.402204e-03</td>\n",
       "      <td>7.000000e-02</td>\n",
       "      <td>0.007778</td>\n",
       "      <td>1.400000e-02</td>\n",
       "    </tr>\n",
       "    <tr>\n",
       "      <th>43</th>\n",
       "      <td>215</td>\n",
       "      <td>0.378333</td>\n",
       "      <td>0.566944</td>\n",
       "      <td>0.332963</td>\n",
       "      <td>0.019259</td>\n",
       "      <td>0.010000</td>\n",
       "      <td>0.001111</td>\n",
       "      <td>0.002000</td>\n",
       "      <td>4.545570e-02</td>\n",
       "      <td>6.771115e-02</td>\n",
       "      <td>2.592593e-03</td>\n",
       "      <td>3.628874e-03</td>\n",
       "      <td>7.000000e-02</td>\n",
       "      <td>0.007778</td>\n",
       "      <td>1.400000e-02</td>\n",
       "    </tr>\n",
       "    <tr>\n",
       "      <th>44</th>\n",
       "      <td>220</td>\n",
       "      <td>0.370926</td>\n",
       "      <td>0.556111</td>\n",
       "      <td>0.333148</td>\n",
       "      <td>0.019630</td>\n",
       "      <td>0.005000</td>\n",
       "      <td>0.000556</td>\n",
       "      <td>0.001000</td>\n",
       "      <td>4.493976e-02</td>\n",
       "      <td>6.701069e-02</td>\n",
       "      <td>1.842569e-03</td>\n",
       "      <td>4.397904e-03</td>\n",
       "      <td>4.974937e-02</td>\n",
       "      <td>0.005528</td>\n",
       "      <td>9.949874e-03</td>\n",
       "    </tr>\n",
       "    <tr>\n",
       "      <th>45</th>\n",
       "      <td>225</td>\n",
       "      <td>0.359815</td>\n",
       "      <td>0.539722</td>\n",
       "      <td>0.333333</td>\n",
       "      <td>0.018889</td>\n",
       "      <td>0.000000</td>\n",
       "      <td>0.000000</td>\n",
       "      <td>0.000000</td>\n",
       "      <td>4.492449e-02</td>\n",
       "      <td>6.738674e-02</td>\n",
       "      <td>1.110223e-16</td>\n",
       "      <td>2.592593e-03</td>\n",
       "      <td>0.000000e+00</td>\n",
       "      <td>0.000000</td>\n",
       "      <td>0.000000e+00</td>\n",
       "    </tr>\n",
       "    <tr>\n",
       "      <th>46</th>\n",
       "      <td>230</td>\n",
       "      <td>0.345185</td>\n",
       "      <td>0.517778</td>\n",
       "      <td>0.333333</td>\n",
       "      <td>0.018889</td>\n",
       "      <td>0.000000</td>\n",
       "      <td>0.000000</td>\n",
       "      <td>0.000000</td>\n",
       "      <td>5.013835e-02</td>\n",
       "      <td>7.520753e-02</td>\n",
       "      <td>1.110223e-16</td>\n",
       "      <td>2.592593e-03</td>\n",
       "      <td>0.000000e+00</td>\n",
       "      <td>0.000000</td>\n",
       "      <td>0.000000e+00</td>\n",
       "    </tr>\n",
       "    <tr>\n",
       "      <th>47</th>\n",
       "      <td>235</td>\n",
       "      <td>0.336852</td>\n",
       "      <td>0.505278</td>\n",
       "      <td>0.333333</td>\n",
       "      <td>0.018519</td>\n",
       "      <td>0.000000</td>\n",
       "      <td>0.000000</td>\n",
       "      <td>0.000000</td>\n",
       "      <td>4.675293e-02</td>\n",
       "      <td>7.012940e-02</td>\n",
       "      <td>1.110223e-16</td>\n",
       "      <td>3.469447e-18</td>\n",
       "      <td>0.000000e+00</td>\n",
       "      <td>0.000000</td>\n",
       "      <td>0.000000e+00</td>\n",
       "    </tr>\n",
       "    <tr>\n",
       "      <th>48</th>\n",
       "      <td>240</td>\n",
       "      <td>0.326481</td>\n",
       "      <td>0.489722</td>\n",
       "      <td>0.333333</td>\n",
       "      <td>0.019259</td>\n",
       "      <td>0.000000</td>\n",
       "      <td>0.000000</td>\n",
       "      <td>0.000000</td>\n",
       "      <td>4.667659e-02</td>\n",
       "      <td>7.001488e-02</td>\n",
       "      <td>1.110223e-16</td>\n",
       "      <td>3.628874e-03</td>\n",
       "      <td>0.000000e+00</td>\n",
       "      <td>0.000000</td>\n",
       "      <td>0.000000e+00</td>\n",
       "    </tr>\n",
       "    <tr>\n",
       "      <th>49</th>\n",
       "      <td>245</td>\n",
       "      <td>0.314074</td>\n",
       "      <td>0.470833</td>\n",
       "      <td>0.333148</td>\n",
       "      <td>0.018519</td>\n",
       "      <td>0.005000</td>\n",
       "      <td>0.000556</td>\n",
       "      <td>0.001000</td>\n",
       "      <td>4.792827e-02</td>\n",
       "      <td>7.151092e-02</td>\n",
       "      <td>1.842569e-03</td>\n",
       "      <td>3.469447e-18</td>\n",
       "      <td>4.974937e-02</td>\n",
       "      <td>0.005528</td>\n",
       "      <td>9.949874e-03</td>\n",
       "    </tr>\n",
       "    <tr>\n",
       "      <th>50</th>\n",
       "      <td>250</td>\n",
       "      <td>0.294444</td>\n",
       "      <td>0.441667</td>\n",
       "      <td>0.333333</td>\n",
       "      <td>0.018704</td>\n",
       "      <td>0.000000</td>\n",
       "      <td>0.000000</td>\n",
       "      <td>0.000000</td>\n",
       "      <td>4.486682e-02</td>\n",
       "      <td>6.730023e-02</td>\n",
       "      <td>1.110223e-16</td>\n",
       "      <td>1.842569e-03</td>\n",
       "      <td>0.000000e+00</td>\n",
       "      <td>0.000000</td>\n",
       "      <td>0.000000e+00</td>\n",
       "    </tr>\n",
       "    <tr>\n",
       "      <th>51</th>\n",
       "      <td>255</td>\n",
       "      <td>0.282593</td>\n",
       "      <td>0.423889</td>\n",
       "      <td>0.333333</td>\n",
       "      <td>0.018519</td>\n",
       "      <td>0.000000</td>\n",
       "      <td>0.000000</td>\n",
       "      <td>0.000000</td>\n",
       "      <td>4.347871e-02</td>\n",
       "      <td>6.521806e-02</td>\n",
       "      <td>1.110223e-16</td>\n",
       "      <td>3.469447e-18</td>\n",
       "      <td>0.000000e+00</td>\n",
       "      <td>0.000000</td>\n",
       "      <td>0.000000e+00</td>\n",
       "    </tr>\n",
       "    <tr>\n",
       "      <th>52</th>\n",
       "      <td>260</td>\n",
       "      <td>0.269815</td>\n",
       "      <td>0.404722</td>\n",
       "      <td>0.333333</td>\n",
       "      <td>0.018704</td>\n",
       "      <td>0.000000</td>\n",
       "      <td>0.000000</td>\n",
       "      <td>0.000000</td>\n",
       "      <td>4.313304e-02</td>\n",
       "      <td>6.469957e-02</td>\n",
       "      <td>1.110223e-16</td>\n",
       "      <td>1.842569e-03</td>\n",
       "      <td>0.000000e+00</td>\n",
       "      <td>0.000000</td>\n",
       "      <td>0.000000e+00</td>\n",
       "    </tr>\n",
       "    <tr>\n",
       "      <th>53</th>\n",
       "      <td>265</td>\n",
       "      <td>0.268889</td>\n",
       "      <td>0.403333</td>\n",
       "      <td>0.333333</td>\n",
       "      <td>0.018519</td>\n",
       "      <td>0.000000</td>\n",
       "      <td>0.000000</td>\n",
       "      <td>0.000000</td>\n",
       "      <td>4.501791e-02</td>\n",
       "      <td>6.752686e-02</td>\n",
       "      <td>1.110223e-16</td>\n",
       "      <td>3.469447e-18</td>\n",
       "      <td>0.000000e+00</td>\n",
       "      <td>0.000000</td>\n",
       "      <td>0.000000e+00</td>\n",
       "    </tr>\n",
       "    <tr>\n",
       "      <th>54</th>\n",
       "      <td>270</td>\n",
       "      <td>0.253519</td>\n",
       "      <td>0.380278</td>\n",
       "      <td>0.333333</td>\n",
       "      <td>0.018704</td>\n",
       "      <td>0.000000</td>\n",
       "      <td>0.000000</td>\n",
       "      <td>0.000000</td>\n",
       "      <td>4.833972e-02</td>\n",
       "      <td>7.250958e-02</td>\n",
       "      <td>1.110223e-16</td>\n",
       "      <td>1.842569e-03</td>\n",
       "      <td>0.000000e+00</td>\n",
       "      <td>0.000000</td>\n",
       "      <td>0.000000e+00</td>\n",
       "    </tr>\n",
       "    <tr>\n",
       "      <th>55</th>\n",
       "      <td>275</td>\n",
       "      <td>0.235370</td>\n",
       "      <td>0.353056</td>\n",
       "      <td>0.333333</td>\n",
       "      <td>0.018519</td>\n",
       "      <td>0.000000</td>\n",
       "      <td>0.000000</td>\n",
       "      <td>0.000000</td>\n",
       "      <td>4.852382e-02</td>\n",
       "      <td>7.278573e-02</td>\n",
       "      <td>1.110223e-16</td>\n",
       "      <td>3.469447e-18</td>\n",
       "      <td>0.000000e+00</td>\n",
       "      <td>0.000000</td>\n",
       "      <td>0.000000e+00</td>\n",
       "    </tr>\n",
       "    <tr>\n",
       "      <th>56</th>\n",
       "      <td>280</td>\n",
       "      <td>0.230370</td>\n",
       "      <td>0.345556</td>\n",
       "      <td>0.333333</td>\n",
       "      <td>0.018889</td>\n",
       "      <td>0.000000</td>\n",
       "      <td>0.000000</td>\n",
       "      <td>0.000000</td>\n",
       "      <td>4.817093e-02</td>\n",
       "      <td>7.225640e-02</td>\n",
       "      <td>1.110223e-16</td>\n",
       "      <td>2.592593e-03</td>\n",
       "      <td>0.000000e+00</td>\n",
       "      <td>0.000000</td>\n",
       "      <td>0.000000e+00</td>\n",
       "    </tr>\n",
       "    <tr>\n",
       "      <th>57</th>\n",
       "      <td>285</td>\n",
       "      <td>0.216852</td>\n",
       "      <td>0.325278</td>\n",
       "      <td>0.333333</td>\n",
       "      <td>0.018519</td>\n",
       "      <td>0.000000</td>\n",
       "      <td>0.000000</td>\n",
       "      <td>0.000000</td>\n",
       "      <td>4.361062e-02</td>\n",
       "      <td>6.541593e-02</td>\n",
       "      <td>1.110223e-16</td>\n",
       "      <td>3.469447e-18</td>\n",
       "      <td>0.000000e+00</td>\n",
       "      <td>0.000000</td>\n",
       "      <td>0.000000e+00</td>\n",
       "    </tr>\n",
       "    <tr>\n",
       "      <th>58</th>\n",
       "      <td>290</td>\n",
       "      <td>0.204444</td>\n",
       "      <td>0.306667</td>\n",
       "      <td>0.333333</td>\n",
       "      <td>0.018519</td>\n",
       "      <td>0.000000</td>\n",
       "      <td>0.000000</td>\n",
       "      <td>0.000000</td>\n",
       "      <td>3.936394e-02</td>\n",
       "      <td>5.904591e-02</td>\n",
       "      <td>1.110223e-16</td>\n",
       "      <td>3.469447e-18</td>\n",
       "      <td>0.000000e+00</td>\n",
       "      <td>0.000000</td>\n",
       "      <td>0.000000e+00</td>\n",
       "    </tr>\n",
       "    <tr>\n",
       "      <th>59</th>\n",
       "      <td>295</td>\n",
       "      <td>0.205741</td>\n",
       "      <td>0.308611</td>\n",
       "      <td>0.333333</td>\n",
       "      <td>0.018519</td>\n",
       "      <td>0.000000</td>\n",
       "      <td>0.000000</td>\n",
       "      <td>0.000000</td>\n",
       "      <td>4.106729e-02</td>\n",
       "      <td>6.160094e-02</td>\n",
       "      <td>1.110223e-16</td>\n",
       "      <td>3.469447e-18</td>\n",
       "      <td>0.000000e+00</td>\n",
       "      <td>0.000000</td>\n",
       "      <td>0.000000e+00</td>\n",
       "    </tr>\n",
       "  </tbody>\n",
       "</table>\n",
       "</div>"
      ],
      "text/plain": [
       "    epsilon  Accuracy  Accuracy Train  False Acceptance Rate  \\\n",
       "0         0  0.870370        0.833333               0.018519   \n",
       "1         5  0.860926        0.827778               0.024259   \n",
       "2        10  0.852778        0.825556               0.030926   \n",
       "3        15  0.848148        0.831944               0.039815   \n",
       "4        20  0.841481        0.831389               0.046111   \n",
       "5        25  0.835926        0.830000               0.050741   \n",
       "6        30  0.833519        0.826667               0.050926   \n",
       "7        35  0.820185        0.823889               0.062407   \n",
       "8        40  0.811852        0.825000               0.071481   \n",
       "9        45  0.790185        0.821389               0.090741   \n",
       "10       50  0.772593        0.816944               0.105370   \n",
       "11       55  0.747778        0.821389               0.133148   \n",
       "12       60  0.730000        0.815556               0.147037   \n",
       "13       65  0.699630        0.816111               0.177778   \n",
       "14       70  0.687037        0.826944               0.197593   \n",
       "15       75  0.666852        0.818333               0.212037   \n",
       "16       80  0.648333        0.820278               0.231852   \n",
       "17       85  0.630185        0.823611               0.252222   \n",
       "18       90  0.612963        0.822222               0.268519   \n",
       "19       95  0.605000        0.816111               0.272407   \n",
       "20      100  0.586852        0.815278               0.290000   \n",
       "21      105  0.582037        0.823333               0.300185   \n",
       "22      110  0.567222        0.813611               0.308519   \n",
       "23      115  0.565741        0.817222               0.312407   \n",
       "24      120  0.560556        0.813056               0.314815   \n",
       "25      125  0.552037        0.810278               0.321481   \n",
       "26      130  0.544444        0.802222               0.323704   \n",
       "27      135  0.542963        0.804722               0.326852   \n",
       "28      140  0.534074        0.795556               0.329630   \n",
       "29      145  0.527963        0.785833               0.329259   \n",
       "30      150  0.524074        0.778333               0.328148   \n",
       "31      155  0.518148        0.775000               0.331852   \n",
       "32      160  0.511111        0.764167               0.331667   \n",
       "33      165  0.501852        0.749722               0.331296   \n",
       "34      170  0.484815        0.726389               0.332778   \n",
       "35      175  0.480000        0.719167               0.332778   \n",
       "36      180  0.461296        0.690278               0.332222   \n",
       "37      185  0.462963        0.693056               0.332407   \n",
       "38      190  0.443519        0.664444               0.332778   \n",
       "39      195  0.433333        0.650000               0.333333   \n",
       "40      200  0.416667        0.624722               0.333148   \n",
       "41      205  0.414259        0.620556               0.332778   \n",
       "42      210  0.395741        0.593056               0.332963   \n",
       "43      215  0.378333        0.566944               0.332963   \n",
       "44      220  0.370926        0.556111               0.333148   \n",
       "45      225  0.359815        0.539722               0.333333   \n",
       "46      230  0.345185        0.517778               0.333333   \n",
       "47      235  0.336852        0.505278               0.333333   \n",
       "48      240  0.326481        0.489722               0.333333   \n",
       "49      245  0.314074        0.470833               0.333148   \n",
       "50      250  0.294444        0.441667               0.333333   \n",
       "51      255  0.282593        0.423889               0.333333   \n",
       "52      260  0.269815        0.404722               0.333333   \n",
       "53      265  0.268889        0.403333               0.333333   \n",
       "54      270  0.253519        0.380278               0.333333   \n",
       "55      275  0.235370        0.353056               0.333333   \n",
       "56      280  0.230370        0.345556               0.333333   \n",
       "57      285  0.216852        0.325278               0.333333   \n",
       "58      290  0.204444        0.306667               0.333333   \n",
       "59      295  0.205741        0.308611               0.333333   \n",
       "\n",
       "    False Recognition Rate  Precision    Recall  F1-Score  Stddev Accuracy  \\\n",
       "0                 0.092593   0.772727  0.944444  0.850000     1.110223e-16   \n",
       "1                 0.097037   0.761216  0.927222  0.835903     1.126285e-02   \n",
       "2                 0.099815   0.752663  0.907222  0.822366     1.840241e-02   \n",
       "3                 0.096667   0.752774  0.880556  0.811154     2.028602e-02   \n",
       "4                 0.098148   0.745658  0.861667  0.798941     2.404842e-02   \n",
       "5                 0.098519   0.742269  0.847778  0.790846     2.512247e-02   \n",
       "6                 0.100370   0.738531  0.847222  0.788471     2.752913e-02   \n",
       "7                 0.100556   0.730386  0.812778  0.768357     2.896180e-02   \n",
       "8                 0.098889   0.726130  0.785556  0.753284     2.971285e-02   \n",
       "9                 0.103519   0.700668  0.727778  0.712548     3.384940e-02   \n",
       "10                0.106667   0.678908  0.683889  0.678824     4.303952e-02   \n",
       "11                0.101481   0.662533  0.600556  0.627408     3.820205e-02   \n",
       "12                0.102407   0.641812  0.558889  0.594189     4.893797e-02   \n",
       "13                0.103333   0.594942  0.466667  0.519992     4.882572e-02   \n",
       "14                0.097593   0.576674  0.407222  0.473868     3.941444e-02   \n",
       "15                0.096111   0.552798  0.363889  0.435421     4.448262e-02   \n",
       "16                0.094815   0.509571  0.304444  0.378255     4.251160e-02   \n",
       "17                0.089444   0.466736  0.243333  0.317312     4.069484e-02   \n",
       "18                0.088148   0.407419  0.194444  0.260119     3.547638e-02   \n",
       "19                0.083519   0.405209  0.182778  0.247741     3.795664e-02   \n",
       "20                0.078889   0.344468  0.130000  0.185778     3.994981e-02   \n",
       "21                0.069630   0.296254  0.099444  0.147053     3.583752e-02   \n",
       "22                0.068889   0.246504  0.074444  0.112207     3.360537e-02   \n",
       "23                0.066481   0.217357  0.062778  0.096144     3.852341e-02   \n",
       "24                0.058704   0.213976  0.055556  0.087099     4.180881e-02   \n",
       "25                0.056667   0.147000  0.035556  0.056476     3.371133e-02   \n",
       "26                0.055926   0.123833  0.028889  0.046190     3.523388e-02   \n",
       "27                0.050556   0.094000  0.019444  0.031821     3.373015e-02   \n",
       "28                0.042778   0.062000  0.011111  0.018681     3.530389e-02   \n",
       "29                0.042963   0.071000  0.012222  0.020674     3.717521e-02   \n",
       "30                0.036667   0.097667  0.015556  0.026500     3.717567e-02   \n",
       "31                0.036667   0.025333  0.004444  0.007458     3.794986e-02   \n",
       "32                0.031296   0.035000  0.005000  0.008675     3.749714e-02   \n",
       "33                0.027778   0.050000  0.006111  0.010857     3.932733e-02   \n",
       "34                0.026667   0.011667  0.001667  0.002905     4.068852e-02   \n",
       "35                0.027778   0.010833  0.001667  0.002861     3.934303e-02   \n",
       "36                0.025185   0.028333  0.003333  0.005952     4.429721e-02   \n",
       "37                0.023704   0.022500  0.002778  0.004909     4.520947e-02   \n",
       "38                0.022407   0.015000  0.001667  0.003000     4.160489e-02   \n",
       "39                0.020926   0.000000  0.000000  0.000000     4.335074e-02   \n",
       "40                0.021481   0.005000  0.000556  0.001000     4.860891e-02   \n",
       "41                0.021852   0.015000  0.001667  0.003000     3.890255e-02   \n",
       "42                0.019815   0.010000  0.001111  0.002000     4.324421e-02   \n",
       "43                0.019259   0.010000  0.001111  0.002000     4.545570e-02   \n",
       "44                0.019630   0.005000  0.000556  0.001000     4.493976e-02   \n",
       "45                0.018889   0.000000  0.000000  0.000000     4.492449e-02   \n",
       "46                0.018889   0.000000  0.000000  0.000000     5.013835e-02   \n",
       "47                0.018519   0.000000  0.000000  0.000000     4.675293e-02   \n",
       "48                0.019259   0.000000  0.000000  0.000000     4.667659e-02   \n",
       "49                0.018519   0.005000  0.000556  0.001000     4.792827e-02   \n",
       "50                0.018704   0.000000  0.000000  0.000000     4.486682e-02   \n",
       "51                0.018519   0.000000  0.000000  0.000000     4.347871e-02   \n",
       "52                0.018704   0.000000  0.000000  0.000000     4.313304e-02   \n",
       "53                0.018519   0.000000  0.000000  0.000000     4.501791e-02   \n",
       "54                0.018704   0.000000  0.000000  0.000000     4.833972e-02   \n",
       "55                0.018519   0.000000  0.000000  0.000000     4.852382e-02   \n",
       "56                0.018889   0.000000  0.000000  0.000000     4.817093e-02   \n",
       "57                0.018519   0.000000  0.000000  0.000000     4.361062e-02   \n",
       "58                0.018519   0.000000  0.000000  0.000000     3.936394e-02   \n",
       "59                0.018519   0.000000  0.000000  0.000000     4.106729e-02   \n",
       "\n",
       "    Stddev Accuracy Train  Stddev False Acceptance Rate  \\\n",
       "0            2.220446e-16                  3.469447e-18   \n",
       "1            1.111111e-02                  8.564690e-03   \n",
       "2            2.044263e-02                  1.081551e-02   \n",
       "3            1.858207e-02                  1.490137e-02   \n",
       "4            2.231059e-02                  1.666564e-02   \n",
       "5            2.554348e-02                  1.689555e-02   \n",
       "6            2.836055e-02                  1.724809e-02   \n",
       "7            2.919179e-02                  2.022761e-02   \n",
       "8            2.952818e-02                  2.498559e-02   \n",
       "9            2.700451e-02                  2.727948e-02   \n",
       "10           3.169468e-02                  3.746924e-02   \n",
       "11           3.605872e-02                  3.278301e-02   \n",
       "12           4.035338e-02                  3.935523e-02   \n",
       "13           3.742895e-02                  3.866780e-02   \n",
       "14           3.283305e-02                  3.302896e-02   \n",
       "15           4.090413e-02                  3.408363e-02   \n",
       "16           3.995657e-02                  3.147930e-02   \n",
       "17           4.201245e-02                  2.817981e-02   \n",
       "18           3.600411e-02                  2.898607e-02   \n",
       "19           4.281384e-02                  3.012263e-02   \n",
       "20           4.703804e-02                  2.374707e-02   \n",
       "21           4.539266e-02                  2.195753e-02   \n",
       "22           5.035292e-02                  1.928417e-02   \n",
       "23           4.700604e-02                  1.918343e-02   \n",
       "24           5.238965e-02                  1.851852e-02   \n",
       "25           4.875851e-02                  1.446817e-02   \n",
       "26           4.910935e-02                  1.321968e-02   \n",
       "27           4.770262e-02                  1.122626e-02   \n",
       "28           5.054029e-02                  7.856742e-03   \n",
       "29           5.545755e-02                  8.105951e-03   \n",
       "30           5.284791e-02                  1.050181e-02   \n",
       "31           5.603956e-02                  5.023948e-03   \n",
       "32           5.712978e-02                  5.299662e-03   \n",
       "33           5.964077e-02                  5.794255e-03   \n",
       "34           6.115844e-02                  3.159023e-03   \n",
       "35           5.891181e-02                  3.159023e-03   \n",
       "36           6.624578e-02                  4.397904e-03   \n",
       "37           6.785685e-02                  4.036018e-03   \n",
       "38           6.194880e-02                  3.159023e-03   \n",
       "39           6.502611e-02                  1.110223e-16   \n",
       "40           7.322962e-02                  1.842569e-03   \n",
       "41           5.829628e-02                  3.159023e-03   \n",
       "42           6.507059e-02                  2.592593e-03   \n",
       "43           6.771115e-02                  2.592593e-03   \n",
       "44           6.701069e-02                  1.842569e-03   \n",
       "45           6.738674e-02                  1.110223e-16   \n",
       "46           7.520753e-02                  1.110223e-16   \n",
       "47           7.012940e-02                  1.110223e-16   \n",
       "48           7.001488e-02                  1.110223e-16   \n",
       "49           7.151092e-02                  1.842569e-03   \n",
       "50           6.730023e-02                  1.110223e-16   \n",
       "51           6.521806e-02                  1.110223e-16   \n",
       "52           6.469957e-02                  1.110223e-16   \n",
       "53           6.752686e-02                  1.110223e-16   \n",
       "54           7.250958e-02                  1.110223e-16   \n",
       "55           7.278573e-02                  1.110223e-16   \n",
       "56           7.225640e-02                  1.110223e-16   \n",
       "57           6.541593e-02                  1.110223e-16   \n",
       "58           5.904591e-02                  1.110223e-16   \n",
       "59           6.160094e-02                  1.110223e-16   \n",
       "\n",
       "    Stddev False Recognition Rate  Stddev Precision  Stddev Recall  \\\n",
       "0                    2.775558e-17      3.330669e-16       0.000000   \n",
       "1                    7.908947e-03      1.576447e-02       0.025694   \n",
       "2                    1.524716e-02      2.995021e-02       0.032447   \n",
       "3                    1.375366e-02      2.802577e-02       0.044704   \n",
       "4                    1.373370e-02      3.009050e-02       0.049997   \n",
       "5                    1.632993e-02      3.506183e-02       0.050687   \n",
       "6                    1.660069e-02      3.530892e-02       0.051744   \n",
       "7                    1.929040e-02      4.042927e-02       0.060683   \n",
       "8                    1.681416e-02      3.775236e-02       0.074957   \n",
       "9                    1.778067e-02      4.532974e-02       0.081838   \n",
       "10                   1.816703e-02      5.355016e-02       0.112408   \n",
       "11                   2.019792e-02      5.655818e-02       0.098349   \n",
       "12                   2.259790e-02      7.480421e-02       0.118066   \n",
       "13                   2.146551e-02      9.080709e-02       0.116003   \n",
       "14                   1.849165e-02      7.128109e-02       0.099087   \n",
       "15                   2.232922e-02      9.354091e-02       0.102251   \n",
       "16                   2.066786e-02      9.964402e-02       0.094438   \n",
       "17                   2.046359e-02      1.175584e-01       0.084539   \n",
       "18                   2.047448e-02      1.210169e-01       0.086958   \n",
       "19                   2.393048e-02      1.311036e-01       0.090368   \n",
       "20                   2.437420e-02      1.359571e-01       0.071241   \n",
       "21                   2.224073e-02      1.706500e-01       0.065873   \n",
       "22                   2.223456e-02      1.623957e-01       0.057853   \n",
       "23                   2.299505e-02      1.823842e-01       0.057550   \n",
       "24                   2.160485e-02      2.046153e-01       0.055556   \n",
       "25                   2.325088e-02      1.781594e-01       0.043404   \n",
       "26                   2.190828e-02      1.735054e-01       0.039659   \n",
       "27                   2.141353e-02      1.650172e-01       0.033679   \n",
       "28                   1.808663e-02      1.339585e-01       0.023570   \n",
       "29                   1.849628e-02      1.473586e-01       0.024318   \n",
       "30                   1.635092e-02      1.875429e-01       0.031505   \n",
       "31                   1.696846e-02      9.148406e-02       0.015072   \n",
       "32                   1.427128e-02      1.155783e-01       0.015899   \n",
       "33                   1.398117e-02      1.443376e-01       0.017383   \n",
       "34                   1.089921e-02      6.772083e-02       0.009477   \n",
       "35                   1.242260e-02      6.417749e-02       0.009477   \n",
       "36                   9.266664e-03      1.131739e-01       0.013194   \n",
       "37                   9.827036e-03      1.005920e-01       0.012108   \n",
       "38                   7.542745e-03      8.529361e-02       0.009477   \n",
       "39                   6.756088e-03      0.000000e+00       0.000000   \n",
       "40                   8.164966e-03      4.974937e-02       0.005528   \n",
       "41                   7.114582e-03      8.529361e-02       0.009477   \n",
       "42                   5.402204e-03      7.000000e-02       0.007778   \n",
       "43                   3.628874e-03      7.000000e-02       0.007778   \n",
       "44                   4.397904e-03      4.974937e-02       0.005528   \n",
       "45                   2.592593e-03      0.000000e+00       0.000000   \n",
       "46                   2.592593e-03      0.000000e+00       0.000000   \n",
       "47                   3.469447e-18      0.000000e+00       0.000000   \n",
       "48                   3.628874e-03      0.000000e+00       0.000000   \n",
       "49                   3.469447e-18      4.974937e-02       0.005528   \n",
       "50                   1.842569e-03      0.000000e+00       0.000000   \n",
       "51                   3.469447e-18      0.000000e+00       0.000000   \n",
       "52                   1.842569e-03      0.000000e+00       0.000000   \n",
       "53                   3.469447e-18      0.000000e+00       0.000000   \n",
       "54                   1.842569e-03      0.000000e+00       0.000000   \n",
       "55                   3.469447e-18      0.000000e+00       0.000000   \n",
       "56                   2.592593e-03      0.000000e+00       0.000000   \n",
       "57                   3.469447e-18      0.000000e+00       0.000000   \n",
       "58                   3.469447e-18      0.000000e+00       0.000000   \n",
       "59                   3.469447e-18      0.000000e+00       0.000000   \n",
       "\n",
       "    Stddev F1-Score  \n",
       "0      4.440892e-16  \n",
       "1      1.679392e-02  \n",
       "2      2.591081e-02  \n",
       "3      2.947789e-02  \n",
       "4      3.383341e-02  \n",
       "5      3.532749e-02  \n",
       "6      3.624389e-02  \n",
       "7      4.167225e-02  \n",
       "8      4.835095e-02  \n",
       "9      5.745359e-02  \n",
       "10     7.904466e-02  \n",
       "11     7.316761e-02  \n",
       "12     9.480980e-02  \n",
       "13     1.035527e-01  \n",
       "14     8.863054e-02  \n",
       "15     9.864814e-02  \n",
       "16     9.827881e-02  \n",
       "17     9.670822e-02  \n",
       "18     1.019049e-01  \n",
       "19     1.064241e-01  \n",
       "20     9.048089e-02  \n",
       "21     9.262435e-02  \n",
       "22     8.138279e-02  \n",
       "23     8.510376e-02  \n",
       "24     8.534476e-02  \n",
       "25     6.787651e-02  \n",
       "26     6.267060e-02  \n",
       "27     5.474011e-02  \n",
       "28     3.955068e-02  \n",
       "29     4.122941e-02  \n",
       "30     5.269743e-02  \n",
       "31     2.532330e-02  \n",
       "32     2.760683e-02  \n",
       "33     3.089063e-02  \n",
       "34     1.652175e-02  \n",
       "35     1.628372e-02  \n",
       "36     2.356421e-02  \n",
       "37     2.141367e-02  \n",
       "38     1.705872e-02  \n",
       "39     0.000000e+00  \n",
       "40     9.949874e-03  \n",
       "41     1.705872e-02  \n",
       "42     1.400000e-02  \n",
       "43     1.400000e-02  \n",
       "44     9.949874e-03  \n",
       "45     0.000000e+00  \n",
       "46     0.000000e+00  \n",
       "47     0.000000e+00  \n",
       "48     0.000000e+00  \n",
       "49     9.949874e-03  \n",
       "50     0.000000e+00  \n",
       "51     0.000000e+00  \n",
       "52     0.000000e+00  \n",
       "53     0.000000e+00  \n",
       "54     0.000000e+00  \n",
       "55     0.000000e+00  \n",
       "56     0.000000e+00  \n",
       "57     0.000000e+00  \n",
       "58     0.000000e+00  \n",
       "59     0.000000e+00  "
      ]
     },
     "execution_count": 18,
     "metadata": {},
     "output_type": "execute_result"
    }
   ],
   "source": [
    "summary4"
   ]
  },
  {
   "cell_type": "code",
   "execution_count": 19,
   "id": "da036cf2",
   "metadata": {
    "scrolled": true
   },
   "outputs": [
    {
     "name": "stdout",
     "output_type": "stream",
     "text": [
      "Saved plot at ORL_epsilon_wrt_acc_train_and_recall.pdf\n"
     ]
    },
    {
     "data": {
      "image/png": "[encoded data removed]",
      "text/plain": [
       "<Figure size 1000x1000 with 1 Axes>"
      ]
     },
     "metadata": {},
     "output_type": "display_data"
    },
    {
     "name": "stdout",
     "output_type": "stream",
     "text": [
      "Saved plot at ORL_epsilon_wrt_acc_train_and_recall.pdf\n"
     ]
    },
    {
     "data": {
      "text/plain": [
       "<Figure size 640x480 with 0 Axes>"
      ]
     },
     "metadata": {},
     "output_type": "display_data"
    },
    {
     "data": {
      "image/png": "[encoded data removed]",
      "text/plain": [
       "<Figure size 1000x1000 with 1 Axes>"
      ]
     },
     "metadata": {},
     "output_type": "display_data"
    }
   ],
   "source": [
    "plot_metrics_at_varying_epsilon(summary4, \"ORL\", epsilons_domain, tick_step=4)"
   ]
  },
  {
   "cell_type": "code",
   "execution_count": 20,
   "id": "50189648",
   "metadata": {},
   "outputs": [
    {
     "name": "stdout",
     "output_type": "stream",
     "text": [
      "0.8703703703703702\n",
      "0.848611111111111\n"
     ]
    },
    {
     "data": {
      "text/plain": [
       "10"
      ]
     },
     "execution_count": 20,
     "metadata": {},
     "output_type": "execute_result"
    }
   ],
   "source": [
    "from quantum_eigenfaces.utils.runtime import find_highest_acceptable_epsilon\n",
    "\n",
    "highest_acceptable_epsilon = find_highest_acceptable_epsilon(summary4)\n",
    "highest_acceptable_epsilon"
   ]
  },
  {
   "cell_type": "code",
   "execution_count": 22,
   "id": "ffdf72dd",
   "metadata": {},
   "outputs": [
    {
     "data": {
      "image/png": "[encoded data removed]",
      "text/plain": [
       "<Figure size 640x480 with 1 Axes>"
      ]
     },
     "metadata": {},
     "output_type": "display_data"
    }
   ],
   "source": [
    "import matplotlib.pyplot as plt\n",
    "def plot_quantum_vs_classical(rts, highest_acceptable_epsilon):\n",
    "    \n",
    "    # Classical runtime\n",
    "    crt = rts[\"classical runtime\"].values[0]\n",
    "    plt.axhline(crt, linestyle=\":\", c=\"grey\")\n",
    "    plt.text(-19, crt, \"$7.41 \\cdot 10^5$\", ha='center', va='center', c=\"grey\")\n",
    "    plt.plot(rts[\"epsilon\"], rts[\"classical runtime\"], label=\"Classical Runtime\")\n",
    "    \n",
    "    # Quantum runtime\n",
    "    plt.plot(rts[\"epsilon\"], rts[\"average runtime\"], label=\"Average Quantum Runtime\")\n",
    "    plt.xlabel(\"$\\epsilon$\")\n",
    "    plt.ylabel(\"runtime\")\n",
    "    \n",
    "    \n",
    "    plt.yscale('log')\n",
    "    \n",
    "    plt.axvline(x=highest_acceptable_epsilon, c=\"red\")\n",
    "    \n",
    "    plt.text(highest_acceptable_epsilon, 5600, r'$\\epsilon^*$', ha='center', va='center', c=\"red\")\n",
    "    \n",
    "    y = rts[rts[\"epsilon\"] == highest_acceptable_epsilon][\"average runtime\"].values[0]\n",
    "    plt.axhline(y, linestyle=\":\", c=\"grey\")\n",
    "    #plt.text(-19, y, \"$1.34 \\cdot 10^4$\", ha='center', va='center', c=\"grey\")\n",
    "    plt.text(-19, y, str(y), ha='center', va='center', c=\"grey\")\n",
    "\n",
    "    plt.grid(True)\n",
    "    plt.legend()\n",
    "    plt.savefig(\"ORL_runtime.pdf\")\n",
    "    \n",
    "plot_quantum_vs_classical(rts4[1:], highest_acceptable_epsilon=15)"
   ]
  },
  {
   "cell_type": "code",
   "execution_count": null,
   "id": "62179262",
   "metadata": {},
   "outputs": [],
   "source": []
  }
 ],
 "metadata": {
  "kernelspec": {
   "display_name": "Python 3 (ipykernel)",
   "language": "python",
   "name": "python3"
  },
  "language_info": {
   "codemirror_mode": {
    "name": "ipython",
    "version": 3
   },
   "file_extension": ".py",
   "mimetype": "text/x-python",
   "name": "python",
   "nbconvert_exporter": "python",
   "pygments_lexer": "ipython3",
   "version": "3.9.16"
  }
 },
 "nbformat": 4,
 "nbformat_minor": 5
}
